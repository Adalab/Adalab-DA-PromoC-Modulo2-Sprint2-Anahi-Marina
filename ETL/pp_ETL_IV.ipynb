{
 "cells": [
  {
   "attachments": {},
   "cell_type": "markdown",
   "metadata": {},
   "source": [
    "## PAIR PROGRAMMING ETL IV\n",
    "\n",
    "### ETL Carga I - Creación BBDD e inserción de datos\n",
    "---"
   ]
  },
  {
   "cell_type": "markdown",
   "metadata": {},
   "source": [
    "Es el momento de meter todos nuestros datos en SQL 💪🏽!!! En este ejercicio nos crearemos dos tablas en una BBDD creada por nosotras. Una de las tablas contendrá la información que obtuvimos de los ejercicios de pair programming de Limpieza, es decir, el data set de ataques de tiburones limpito. La segunda tabla tendrá la información obtenida en el ejercicio de pair de ETL 1."
   ]
  },
  {
   "attachments": {},
   "cell_type": "markdown",
   "metadata": {},
   "source": [
    "📌 Nota Todo lo tendremos que hacer desde jupyter notebook"
   ]
  },
  {
   "attachments": {},
   "cell_type": "markdown",
   "metadata": {},
   "source": [
    "**EJERCICIO 1**\n",
    "\n",
    "Cread la BBDD con el nombre de tiburones."
   ]
  },
  {
   "cell_type": "code",
   "execution_count": 1,
   "metadata": {},
   "outputs": [],
   "source": [
    "import pandas as pd\n",
    "import mysql.connector"
   ]
  },
  {
   "cell_type": "code",
   "execution_count": 19,
   "metadata": {},
   "outputs": [],
   "source": [
    "def crear_bbdd(nombre_bbdd):\n",
    "\n",
    "    mydb = mysql.connector.connect(\n",
    "      host=\"localhost\",\n",
    "      user=\"root\",\n",
    "      password=\"AlumnaAdalab\" \n",
    "    )\n",
    "    print(\"Conexión realizada con éxito\")\n",
    "    \n",
    "    mycursor = mydb.cursor()\n",
    "\n",
    "    try:\n",
    "        mycursor.execute(f\"CREATE DATABASE IF NOT EXISTS {nombre_bbdd};\")\n",
    "        print(mycursor)\n",
    "    except mysql.connector.Error as err:\n",
    "        print(err)\n",
    "        print(\"Error Code:\", err.errno)\n",
    "        print(\"SQLSTATE\", err.sqlstate)\n",
    "        print(\"Message\", err.msg)"
   ]
  },
  {
   "cell_type": "code",
   "execution_count": 20,
   "metadata": {},
   "outputs": [
    {
     "name": "stdout",
     "output_type": "stream",
     "text": [
      "Conexión realizada con éxito\n",
      "MySQLCursor: CREATE DATABASE IF NOT EXISTS tiburones;\n"
     ]
    }
   ],
   "source": [
    "mydb = crear_bbdd(\"tiburones\")"
   ]
  },
  {
   "attachments": {},
   "cell_type": "markdown",
   "metadata": {},
   "source": [
    "---"
   ]
  },
  {
   "attachments": {},
   "cell_type": "markdown",
   "metadata": {},
   "source": [
    "**EJERCICIO 2**\n",
    "\n",
    "Cread las tablas de la BBDD:\n",
    "- Tabla ataques\n",
    "- Tabla clima\n"
   ]
  },
  {
   "cell_type": "code",
   "execution_count": 21,
   "metadata": {},
   "outputs": [],
   "source": [
    "def crear_insertar_tabla(nombre_bbdd, contraseña, query):\n",
    "    \n",
    "   \n",
    "    cnx = mysql.connector.connect(user='root', password=f\"{contraseña}\",\n",
    "                                     host='127.0.0.1', database=f\"{nombre_bbdd}\")\n",
    "   \n",
    "    mycursor = cnx.cursor()\n",
    "    \n",
    "    \n",
    "    try: \n",
    "        mycursor.execute(query)\n",
    "        cnx.commit() \n",
    "   \n",
    "    except mysql.connector.Error as err:\n",
    "        print(err)\n",
    "        print(\"Error Code:\", err.errno)\n",
    "        print(\"SQLSTATE\", err.sqlstate)\n",
    "        print(\"Message\", err.msg)"
   ]
  },
  {
   "cell_type": "code",
   "execution_count": 5,
   "metadata": {},
   "outputs": [
    {
     "data": {
      "text/html": [
       "<div>\n",
       "<style scoped>\n",
       "    .dataframe tbody tr th:only-of-type {\n",
       "        vertical-align: middle;\n",
       "    }\n",
       "\n",
       "    .dataframe tbody tr th {\n",
       "        vertical-align: top;\n",
       "    }\n",
       "\n",
       "    .dataframe thead th {\n",
       "        text-align: right;\n",
       "    }\n",
       "</style>\n",
       "<table border=\"1\" class=\"dataframe\">\n",
       "  <thead>\n",
       "    <tr style=\"text-align: right;\">\n",
       "      <th></th>\n",
       "      <th>case_number</th>\n",
       "      <th>type</th>\n",
       "      <th>country</th>\n",
       "      <th>activity</th>\n",
       "      <th>age</th>\n",
       "      <th>species_</th>\n",
       "      <th>date</th>\n",
       "      <th>mes_ataque</th>\n",
       "      <th>fatal</th>\n",
       "      <th>sexo</th>\n",
       "      <th>cat_species</th>\n",
       "      <th>mes</th>\n",
       "      <th>year</th>\n",
       "      <th>edades</th>\n",
       "    </tr>\n",
       "  </thead>\n",
       "  <tbody>\n",
       "    <tr>\n",
       "      <th>0</th>\n",
       "      <td>1800.00.00</td>\n",
       "      <td>Unprovoked</td>\n",
       "      <td>seychelles</td>\n",
       "      <td>a corsair's boat was overturned</td>\n",
       "      <td>NaN</td>\n",
       "      <td>NaN</td>\n",
       "      <td>1800</td>\n",
       "      <td>NaN</td>\n",
       "      <td>Y</td>\n",
       "      <td>F</td>\n",
       "      <td>NaN</td>\n",
       "      <td>NaN</td>\n",
       "      <td>1997.0</td>\n",
       "      <td>27.878808</td>\n",
       "    </tr>\n",
       "    <tr>\n",
       "      <th>1</th>\n",
       "      <td>1797.05.28.R</td>\n",
       "      <td>Unprovoked</td>\n",
       "      <td>NaN</td>\n",
       "      <td>Dropped overboard</td>\n",
       "      <td>NaN</td>\n",
       "      <td>NaN</td>\n",
       "      <td>Reported May-28-1797</td>\n",
       "      <td>May</td>\n",
       "      <td>Y</td>\n",
       "      <td>M</td>\n",
       "      <td>NaN</td>\n",
       "      <td>May</td>\n",
       "      <td>1997.0</td>\n",
       "      <td>27.878808</td>\n",
       "    </tr>\n",
       "  </tbody>\n",
       "</table>\n",
       "</div>"
      ],
      "text/plain": [
       "    case_number        type     country                         activity  age  \\\n",
       "0    1800.00.00  Unprovoked  seychelles  a corsair's boat was overturned  NaN   \n",
       "1  1797.05.28.R  Unprovoked         NaN                Dropped overboard  NaN   \n",
       "\n",
       "  species_                  date mes_ataque fatal sexo cat_species  mes  \\\n",
       "0      NaN                  1800        NaN     Y    F         NaN  NaN   \n",
       "1      NaN  Reported May-28-1797       May      Y    M         NaN  May   \n",
       "\n",
       "     year     edades  \n",
       "0  1997.0  27.878808  \n",
       "1  1997.0  27.878808  "
      ]
     },
     "execution_count": 5,
     "metadata": {},
     "output_type": "execute_result"
    }
   ],
   "source": [
    "df_attacks= pd.read_pickle('../files/attacks12.pickle')\n",
    "df_attacks.head(2)"
   ]
  },
  {
   "cell_type": "code",
   "execution_count": 6,
   "metadata": {},
   "outputs": [
    {
     "data": {
      "text/plain": [
       "Index(['case_number', 'type', 'country', 'activity', 'age', 'species_', 'date',\n",
       "       'mes_ataque', 'fatal', 'sexo', 'cat_species', 'mes', 'year', 'edades'],\n",
       "      dtype='object')"
      ]
     },
     "execution_count": 6,
     "metadata": {},
     "output_type": "execute_result"
    }
   ],
   "source": [
    "df_attacks.columns #Verificamos los nombres de las columnas para crear la tabla"
   ]
  },
  {
   "cell_type": "code",
   "execution_count": 7,
   "metadata": {},
   "outputs": [
    {
     "data": {
      "text/plain": [
       "case_number     object\n",
       "type            object\n",
       "country         object\n",
       "activity        object\n",
       "age             object\n",
       "species_        object\n",
       "date            object\n",
       "mes_ataque      object\n",
       "fatal           object\n",
       "sexo            object\n",
       "cat_species     object\n",
       "mes             object\n",
       "year           float64\n",
       "edades         float64\n",
       "dtype: object"
      ]
     },
     "execution_count": 7,
     "metadata": {},
     "output_type": "execute_result"
    }
   ],
   "source": [
    "df_attacks.dtypes # Verificamos los tipos de datos."
   ]
  },
  {
   "cell_type": "code",
   "execution_count": 12,
   "metadata": {},
   "outputs": [
    {
     "data": {
      "text/plain": [
       "case_number      0\n",
       "type             0\n",
       "country         10\n",
       "activity        31\n",
       "age            154\n",
       "species_       126\n",
       "date             0\n",
       "mes_ataque     141\n",
       "fatal           97\n",
       "sexo             0\n",
       "cat_species    126\n",
       "mes            170\n",
       "year             0\n",
       "edades           0\n",
       "dtype: int64"
      ]
     },
     "execution_count": 12,
     "metadata": {},
     "output_type": "execute_result"
    }
   ],
   "source": [
    "df_attacks.isnull().sum() # Chequeamos si la columna tiene nulos."
   ]
  },
  {
   "cell_type": "code",
   "execution_count": 22,
   "metadata": {},
   "outputs": [],
   "source": [
    "query_attacks= '''\n",
    "CREATE TABLE IF NOT EXISTS `tiburones`.`ataques` (\n",
    "`id_ataque` INT NOT NULL AUTO_INCREMENT,\n",
    "`case_number` VARCHAR(45),\n",
    "`type` VARCHAR(45),\n",
    "`country` VARCHAR(45),\n",
    "`activity` VARCHAR(100), \n",
    "`age` VARCHAR(45),\n",
    "`species_` VARCHAR(100),\n",
    "`date` VARCHAR(45),\n",
    "`mes_ataque` VARCHAR(45), \n",
    "`fatal` VARCHAR(45), \n",
    "`sexo` VARCHAR(45), \n",
    "`cat_species` VARCHAR(45), \n",
    "`mes` VARCHAR(45),\n",
    "`year` FLOAT , \n",
    "`edades` FLOAT,\n",
    "  PRIMARY KEY (`id_ataque`,`country`))\n",
    "ENGINE = InnoDB;\n",
    "'''"
   ]
  },
  {
   "cell_type": "code",
   "execution_count": 9,
   "metadata": {},
   "outputs": [
    {
     "data": {
      "text/html": [
       "<div>\n",
       "<style scoped>\n",
       "    .dataframe tbody tr th:only-of-type {\n",
       "        vertical-align: middle;\n",
       "    }\n",
       "\n",
       "    .dataframe tbody tr th {\n",
       "        vertical-align: top;\n",
       "    }\n",
       "\n",
       "    .dataframe thead th {\n",
       "        text-align: right;\n",
       "    }\n",
       "</style>\n",
       "<table border=\"1\" class=\"dataframe\">\n",
       "  <thead>\n",
       "    <tr style=\"text-align: right;\">\n",
       "      <th></th>\n",
       "      <th>country</th>\n",
       "      <th>speed950mb</th>\n",
       "      <th>speed900mb</th>\n",
       "      <th>speed850mb</th>\n",
       "      <th>speed800mb</th>\n",
       "      <th>speed750mb</th>\n",
       "      <th>speed700mb</th>\n",
       "      <th>speed650mb</th>\n",
       "      <th>speed600mb</th>\n",
       "      <th>speed550mb</th>\n",
       "      <th>...</th>\n",
       "      <th>temp2m</th>\n",
       "      <th>rh2m</th>\n",
       "      <th>weather</th>\n",
       "      <th>wind10m.direction</th>\n",
       "      <th>wind10m.speed</th>\n",
       "      <th>highcloud</th>\n",
       "      <th>midcloud</th>\n",
       "      <th>lowcloud</th>\n",
       "      <th>msl_pressure</th>\n",
       "      <th>snow_depth</th>\n",
       "    </tr>\n",
       "  </thead>\n",
       "  <tbody>\n",
       "    <tr>\n",
       "      <th>0</th>\n",
       "      <td>australia</td>\n",
       "      <td>3.656250</td>\n",
       "      <td>3.515625</td>\n",
       "      <td>3.4375</td>\n",
       "      <td>3.328125</td>\n",
       "      <td>3.375000</td>\n",
       "      <td>3.359375</td>\n",
       "      <td>3.250000</td>\n",
       "      <td>3.375000</td>\n",
       "      <td>3.578125</td>\n",
       "      <td>...</td>\n",
       "      <td>25.9375</td>\n",
       "      <td>10.859375</td>\n",
       "      <td>NaN</td>\n",
       "      <td>117.578125</td>\n",
       "      <td>3.234375</td>\n",
       "      <td>-9999.0</td>\n",
       "      <td>-9999.0</td>\n",
       "      <td>-9999.0</td>\n",
       "      <td>1015.0625</td>\n",
       "      <td>0.0</td>\n",
       "    </tr>\n",
       "    <tr>\n",
       "      <th>1</th>\n",
       "      <td>new zealand</td>\n",
       "      <td>3.734375</td>\n",
       "      <td>3.640625</td>\n",
       "      <td>3.5625</td>\n",
       "      <td>3.703125</td>\n",
       "      <td>3.671875</td>\n",
       "      <td>3.687500</td>\n",
       "      <td>3.734375</td>\n",
       "      <td>3.859375</td>\n",
       "      <td>3.968750</td>\n",
       "      <td>...</td>\n",
       "      <td>15.1875</td>\n",
       "      <td>11.156250</td>\n",
       "      <td>NaN</td>\n",
       "      <td>166.093750</td>\n",
       "      <td>3.390625</td>\n",
       "      <td>-9999.0</td>\n",
       "      <td>-9999.0</td>\n",
       "      <td>-9999.0</td>\n",
       "      <td>1015.8750</td>\n",
       "      <td>0.0</td>\n",
       "    </tr>\n",
       "  </tbody>\n",
       "</table>\n",
       "<p>2 rows × 63 columns</p>\n",
       "</div>"
      ],
      "text/plain": [
       "       country  speed950mb  speed900mb  speed850mb  speed800mb  speed750mb  \\\n",
       "0    australia    3.656250    3.515625      3.4375    3.328125    3.375000   \n",
       "1  new zealand    3.734375    3.640625      3.5625    3.703125    3.671875   \n",
       "\n",
       "   speed700mb  speed650mb  speed600mb  speed550mb  ...   temp2m       rh2m  \\\n",
       "0    3.359375    3.250000    3.375000    3.578125  ...  25.9375  10.859375   \n",
       "1    3.687500    3.734375    3.859375    3.968750  ...  15.1875  11.156250   \n",
       "\n",
       "   weather  wind10m.direction  wind10m.speed  highcloud  midcloud  lowcloud  \\\n",
       "0      NaN         117.578125       3.234375    -9999.0   -9999.0   -9999.0   \n",
       "1      NaN         166.093750       3.390625    -9999.0   -9999.0   -9999.0   \n",
       "\n",
       "   msl_pressure  snow_depth  \n",
       "0     1015.0625         0.0  \n",
       "1     1015.8750         0.0  \n",
       "\n",
       "[2 rows x 63 columns]"
      ]
     },
     "execution_count": 9,
     "metadata": {},
     "output_type": "execute_result"
    }
   ],
   "source": [
    "df_clima = pd.read_csv('../files/datos_clima_paises_2.csv', index_col=0)\n",
    "df_clima.head(2)"
   ]
  },
  {
   "cell_type": "code",
   "execution_count": 10,
   "metadata": {},
   "outputs": [
    {
     "data": {
      "text/plain": [
       "Index(['country', 'speed950mb', 'speed900mb', 'speed850mb', 'speed800mb',\n",
       "       'speed750mb', 'speed700mb', 'speed650mb', 'speed600mb', 'speed550mb',\n",
       "       'speed500mb', 'speed450mb', 'speed400mb', 'speed350mb', 'speed300mb',\n",
       "       'speed250mb', 'speed200mb', 'direction200mb', 'direction250mb',\n",
       "       'direction300mb', 'direction350mb', 'direction400mb', 'direction450mb',\n",
       "       'direction500mb', 'direction550mb', 'direction600mb', 'direction650mb',\n",
       "       'direction700mb', 'direction750mb', 'direction800mb', 'direction850mb',\n",
       "       'direction900mb', 'direction950mb', 'rh_950mb', 'rh_900mb', 'rh_850mb',\n",
       "       'rh_800mb', 'rh_750mb', 'rh_700mb', 'rh_650mb', 'rh_600mb', 'rh_550mb',\n",
       "       'rh_500mb', 'rh_450mb', 'rh_400mb', 'rh_350mb', 'rh_300mb', 'rh_250mb',\n",
       "       'rh_200mb', 'timepoint', 'cloudcover', 'lifted_index', 'prec_amount',\n",
       "       'temp2m', 'rh2m', 'weather', 'wind10m.direction', 'wind10m.speed',\n",
       "       'highcloud', 'midcloud', 'lowcloud', 'msl_pressure', 'snow_depth'],\n",
       "      dtype='object')"
      ]
     },
     "execution_count": 10,
     "metadata": {},
     "output_type": "execute_result"
    }
   ],
   "source": [
    "df_clima.columns"
   ]
  },
  {
   "cell_type": "code",
   "execution_count": 11,
   "metadata": {},
   "outputs": [
    {
     "data": {
      "text/plain": [
       "country         0\n",
       "speed950mb      0\n",
       "speed900mb      0\n",
       "speed850mb      0\n",
       "speed800mb      0\n",
       "               ..\n",
       "highcloud       0\n",
       "midcloud        0\n",
       "lowcloud        0\n",
       "msl_pressure    0\n",
       "snow_depth      0\n",
       "Length: 63, dtype: int64"
      ]
     },
     "execution_count": 11,
     "metadata": {},
     "output_type": "execute_result"
    }
   ],
   "source": [
    "df_clima.isnull().sum()"
   ]
  },
  {
   "cell_type": "code",
   "execution_count": null,
   "metadata": {},
   "outputs": [],
   "source": [
    "df_clima.dtypes"
   ]
  },
  {
   "cell_type": "code",
   "execution_count": 24,
   "metadata": {},
   "outputs": [],
   "source": [
    "query_clima= '''CREATE TABLE IF NOT EXISTS `tiburones`.`clima` (\n",
    "`id_clima` INT NOT NULL AUTO_INCREMENT,\n",
    "`country` VARCHAR(45) NOT NULL,\n",
    "`speed950mb` FLOAT NOT NULL,\n",
    "`speed900mb` FLOAT NOT NULL,\n",
    "`speed850mb` FLOAT NOT NULL,\n",
    "`speed800mb` FLOAT NOT NULL,\n",
    "`speed750mb` FLOAT NOT NULL,\n",
    "`speed700mb` FLOAT NOT NULL,\n",
    "`speed650mb` FLOAT NOT NULL,\n",
    "`speed600mb` FLOAT NOT NULL,\n",
    "`speed550mb` FLOAT NOT NULL,\n",
    "`speed500mb` FLOAT NOT NULL,\n",
    "`speed450mb` FLOAT NOT NULL,\n",
    "`speed400mb` FLOAT NOT NULL,\n",
    "`speed350mb` FLOAT NOT NULL,\n",
    "`speed300mb` FLOAT NOT NULL,\n",
    "`speed250mb` FLOAT NOT NULL,\n",
    "`speed200mb` FLOAT NOT NULL,\n",
    "`direction950mb` FLOAT NOT NULL,\n",
    "`direction900mb` FLOAT NOT NULL,\n",
    "`direction850mb` FLOAT NOT NULL,\n",
    "`direction800mb` FLOAT NOT NULL,\n",
    "`direction750mb` FLOAT NOT NULL,\n",
    "`direction700mb` FLOAT NOT NULL,\n",
    "`direction650mb` FLOAT NOT NULL,\n",
    "`direction600mb` FLOAT NOT NULL,\n",
    "`direction550mb` FLOAT NOT NULL,\n",
    "`direction500mb` FLOAT NOT NULL,\n",
    "`direction450mb` FLOAT NOT NULL,\n",
    "`direction400mb` FLOAT NOT NULL,\n",
    "`direction350mb` FLOAT NOT NULL,\n",
    "`direction300mb` FLOAT NOT NULL,\n",
    "`direction250mb` FLOAT NOT NULL,\n",
    "`direction200mb` FLOAT NOT NULL,\n",
    "`rh_950mb` FLOAT NOT NULL,\n",
    "`rh_900mb` FLOAT NOT NULL,\n",
    "`rh_850mb` FLOAT NOT NULL,\n",
    "`rh_800mb` FLOAT NOT NULL,\n",
    "`rh_750mb` FLOAT NOT NULL,\n",
    "`rh_700mb` FLOAT NOT NULL,\n",
    "`rh_650mb` FLOAT NOT NULL,\n",
    "`rh_600mb` FLOAT NOT NULL,\n",
    "`rh_550mb` FLOAT NOT NULL,\n",
    "`rh_500mb` FLOAT NOT NULL,\n",
    "`rh_450mb` FLOAT NOT NULL,\n",
    "`rh_400mb` FLOAT NOT NULL,\n",
    "`rh_350mb` FLOAT NOT NULL,\n",
    "`rh_300mb` FLOAT NOT NULL,\n",
    "`rh_250mb` FLOAT NOT NULL,\n",
    "`rh_200mb` FLOAT NOT NULL,\n",
    "`timepoint` FLOAT NOT NULL, \n",
    "`cloudcover` FLOAT NOT NULL, \n",
    "`lifted_index` FLOAT NOT NULL, \n",
    "`prec_amount` FLOAT NOT NULL,\n",
    "`temp2m` FLOAT NOT NULL, \n",
    "`rh2m` FLOAT NOT NULL, \n",
    "`weather` FLOAT NOT NULL, \n",
    "`wind10m.direction` FLOAT NOT NULL, \n",
    "`wind10m.speed` FLOAT NOT NULL,\n",
    "`highcloud` FLOAT NOT NULL, \n",
    "`midcloud` FLOAT NOT NULL, \n",
    "`lowcloud` FLOAT NOT NULL, \n",
    "`msl_pressure` FLOAT NOT NULL, \n",
    "`snow_depth` FLOAT NOT NULL,\n",
    "PRIMARY KEY (`id_clima`, `country`)\n",
    "ADD CONSTRAINT `country`\n",
    "  FOREIGN KEY (`country`)\n",
    "  REFERENCES `tiburones`.`ataques` (`country`)\n",
    "  ON DELETE CASCADE\n",
    "  ON UPDATE CASCADE)\n",
    "  ENGINE = InnoDB;'''"
   ]
  },
  {
   "cell_type": "code",
   "execution_count": 25,
   "metadata": {},
   "outputs": [],
   "source": [
    "crear_insertar_tabla('tiburones',  'AlumnaAdalab', query_attacks)"
   ]
  },
  {
   "cell_type": "code",
   "execution_count": 26,
   "metadata": {},
   "outputs": [],
   "source": [
    "crear_insertar_tabla('tiburones',  'AlumnaAdalab', query_clima)"
   ]
  },
  {
   "attachments": {},
   "cell_type": "markdown",
   "metadata": {},
   "source": [
    "---"
   ]
  },
  {
   "attachments": {},
   "cell_type": "markdown",
   "metadata": {},
   "source": [
    "**BONUS** \n",
    "\n",
    "Insertar los datos en las tablas.\n",
    "📌 Nota Esta parte del pair es optativa y no será considerada para la evaluación"
   ]
  },
  {
   "attachments": {},
   "cell_type": "markdown",
   "metadata": {},
   "source": [
    "🚨 En caso de que no tengáis los datos unidos de la sesión anterior, tenéis un csv datos_union_clima_ataques con todos los datos que necesitareis para este ejercicio"
   ]
  }
 ],
 "metadata": {
  "kernelspec": {
   "display_name": "base",
   "language": "python",
   "name": "python3"
  },
  "language_info": {
   "codemirror_mode": {
    "name": "ipython",
    "version": 3
   },
   "file_extension": ".py",
   "mimetype": "text/x-python",
   "name": "python",
   "nbconvert_exporter": "python",
   "pygments_lexer": "ipython3",
   "version": "3.9.13"
  },
  "orig_nbformat": 4,
  "vscode": {
   "interpreter": {
    "hash": "a52af493819045717511545598ab2b73dabca4ca61b402315e0ef2b43666342d"
   }
  }
 },
 "nbformat": 4,
 "nbformat_minor": 2
}
