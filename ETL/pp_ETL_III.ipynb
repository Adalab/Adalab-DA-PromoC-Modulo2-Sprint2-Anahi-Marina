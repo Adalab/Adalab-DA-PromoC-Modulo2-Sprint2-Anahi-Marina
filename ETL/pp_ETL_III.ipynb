{
 "cells": [
  {
   "attachments": {},
   "cell_type": "markdown",
   "metadata": {},
   "source": [
    "## PAIR PROGRAMMING ETL III\n",
    "\n",
    "### ETL Transformación II - Clases y Funciones de limpieza\n",
    "---"
   ]
  },
  {
   "attachments": {},
   "cell_type": "markdown",
   "metadata": {},
   "source": [
    "En la lección de hoy aprendimos como Crearnos una clase que nos permita limpiar los datos obtenidos de la API.\n",
    "\n",
    "En este ejercicio, tendréis que crear una clase con el código que usamos en los ejercicios de pair programming de ETL Transformación I y II."
   ]
  },
  {
   "cell_type": "code",
   "execution_count": null,
   "metadata": {},
   "outputs": [],
   "source": []
  }
 ],
 "metadata": {
  "kernelspec": {
   "display_name": "Python 3",
   "language": "python",
   "name": "python3"
  },
  "language_info": {
   "name": "python",
   "version": "3.10.9 (tags/v3.10.9:1dd9be6, Dec  6 2022, 20:01:21) [MSC v.1934 64 bit (AMD64)]"
  },
  "orig_nbformat": 4,
  "vscode": {
   "interpreter": {
    "hash": "c35044999e900dc3950de5a8a71ff0d899cb03eb4aff52cc63ccc9819f96279d"
   }
  }
 },
 "nbformat": 4,
 "nbformat_minor": 2
}
