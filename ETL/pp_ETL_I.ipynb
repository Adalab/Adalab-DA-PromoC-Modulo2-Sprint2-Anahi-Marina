{
 "cells": [
  {
   "attachments": {},
   "cell_type": "markdown",
   "metadata": {},
   "source": [
    "## PAIR PROGRAMMING ETL I\n",
    "\n",
    "### Extracción -API's\n",
    "---"
   ]
  },
  {
   "cell_type": "code",
   "execution_count": 1,
   "metadata": {},
   "outputs": [],
   "source": [
    "import requests\n",
    "import pandas as pd\n",
    "from IPython.core.interactiveshell import InteractiveShell \n",
    "InteractiveShell.ast_node_interactivity = \"all\" "
   ]
  },
  {
   "attachments": {},
   "cell_type": "markdown",
   "metadata": {},
   "source": [
    "Vamos a nutrir los datos de los ataques de los tiburones con información climática de los paises que tenemos. Para eso vamos a usar la API del clima que hemos aprendido en la clase invertida:"
   ]
  },
  {
   "cell_type": "markdown",
   "metadata": {},
   "source": [
    "url = f'http://www.7timer.info/bin/api.pl?lon=-{lon}&lat={lat}&product={producto}&output=json'"
   ]
  },
  {
   "attachments": {},
   "cell_type": "markdown",
   "metadata": {},
   "source": [
    "En este caso os recomendamos que uséis el producto meteo para obtener la información climática. Para hacer la llamada a la API necesitamos también las coordenadas de los paises que tenemos en el dataset."
   ]
  },
  {
   "attachments": {},
   "cell_type": "markdown",
   "metadata": {},
   "source": [
    "Por lo tanto, el objetivo es que saquéis la información del clima de la API para los paises que tenemos. Pero antes de poneros manos a la obra, tenemos muchísimos países y esto puede hacerse eterno. Sacad la información climática solo para los siguientes países, con las siguientes coordenadas(imagen en gitbook)"
   ]
  },
  {
   "cell_type": "markdown",
   "metadata": {},
   "source": [
    "Requisitos de este ejercicio de pair programming:\n",
    "- Deberéis meter toda la información climática en un único dataframe.\n",
    "- Deberéis hacer la llamada a la API de una sola vez. Es decir, tendréis que iterar por la lista de países y sacar la información del clima para cada uno de ellos.\n",
    "- Al meter toda la información en un único dataframe tendremos que crear una columna que corresponda con el nombre del país.\n",
    "- Guardar el dataframe obtenido para usarlo en la siguiente sesión de pair programming."
   ]
  },
  {
   "cell_type": "markdown",
   "metadata": {},
   "source": [
    "💡 Pistas 💡:\n",
    "- Crearos un diccionario donde:\n",
    "    - Las keys sean los nombres de los paises\n",
    "    - Los values sean las coordenadas de los paises en formato lista.\n",
    "\n",
    "- Iterar por el diccionario. Dentro del for haremos la llamada a la API como hemos aprendido en las clases invertidas. Recordamos que para iterar por el diccionario tenemos que seguir la siguiente estructura: \n",
    "*_for key, value in diccionario.items(): \n",
    "print(key, value)_*\n",
    "\n",
    "- Crearnos un dataframe vacío donde iremos concatenando los datos obtenidos de la API cada país.\n",
    "- Guardad el csv ya que mañana lo necesitaremos para hacer el ejercicio de pair programming."
   ]
  },
  {
   "cell_type": "code",
   "execution_count": 2,
   "metadata": {},
   "outputs": [],
   "source": [
    "# Hacemos un diccionario con los países como keys y las coordenadas como values.\n",
    "dicc_paises= {'usa': [-100.445882, 39.7837304],'australia': [134.755, -24.7761086],'south africa': [24.991639, -28.8166236],'new zealand': [172.8344077, -41.5000831],'papua new guinea': [144.2489081, -5.6816069]}\n",
    "producto = 'meteo' # Especificamos el producto del que queremos extraer la información"
   ]
  },
  {
   "cell_type": "code",
   "execution_count": 3,
   "metadata": {},
   "outputs": [
    {
     "data": {
      "text/plain": [
       "200"
      ]
     },
     "execution_count": 3,
     "metadata": {},
     "output_type": "execute_result"
    },
    {
     "data": {
      "text/plain": [
       "'OK'"
      ]
     },
     "execution_count": 3,
     "metadata": {},
     "output_type": "execute_result"
    },
    {
     "data": {
      "text/plain": [
       "200"
      ]
     },
     "execution_count": 3,
     "metadata": {},
     "output_type": "execute_result"
    },
    {
     "data": {
      "text/plain": [
       "'OK'"
      ]
     },
     "execution_count": 3,
     "metadata": {},
     "output_type": "execute_result"
    },
    {
     "data": {
      "text/plain": [
       "200"
      ]
     },
     "execution_count": 3,
     "metadata": {},
     "output_type": "execute_result"
    },
    {
     "data": {
      "text/plain": [
       "'OK'"
      ]
     },
     "execution_count": 3,
     "metadata": {},
     "output_type": "execute_result"
    },
    {
     "data": {
      "text/plain": [
       "200"
      ]
     },
     "execution_count": 3,
     "metadata": {},
     "output_type": "execute_result"
    },
    {
     "data": {
      "text/plain": [
       "'OK'"
      ]
     },
     "execution_count": 3,
     "metadata": {},
     "output_type": "execute_result"
    },
    {
     "data": {
      "text/plain": [
       "200"
      ]
     },
     "execution_count": 3,
     "metadata": {},
     "output_type": "execute_result"
    },
    {
     "data": {
      "text/plain": [
       "'OK'"
      ]
     },
     "execution_count": 3,
     "metadata": {},
     "output_type": "execute_result"
    }
   ],
   "source": [
    "# Creamos un dataframe vacío con las columnas que rellenaremos con la información obtenida de la API\n",
    "clima_paises = pd.DataFrame()\n",
    "\n",
    "# Iteramos por las keys y los values del diccionario para pasarlos por la url y extraer la información de los cinco países\n",
    "for key, value in dicc_paises.items(): \n",
    "\n",
    "    url =f'http://www.7timer.info/bin/api.pl?lon=-{dicc_paises[key][0]}&lat={dicc_paises[key][1]}&product={producto}&output=json'\n",
    "\n",
    "    response = requests.get(url=url)\n",
    "    response.status_code\n",
    "    response.reason\n",
    "\n",
    "    # Convetimos la información obtenida en formato json a un dataframe\n",
    "    df = pd.json_normalize(response.json()['dataseries'])\n",
    "    # Creamos una nueva columna para que inserte la key que corresponde al nombre del país\n",
    "    df['country']=key.lower()\n",
    "    # Concatenamos los dataframes de cada país en uno\n",
    "    clima_paises=pd.concat([clima_paises,df], axis=0, ignore_index = True)\n",
    "\n"
   ]
  },
  {
   "cell_type": "code",
   "execution_count": 4,
   "metadata": {},
   "outputs": [
    {
     "data": {
      "text/html": [
       "<div>\n",
       "<style scoped>\n",
       "    .dataframe tbody tr th:only-of-type {\n",
       "        vertical-align: middle;\n",
       "    }\n",
       "\n",
       "    .dataframe tbody tr th {\n",
       "        vertical-align: top;\n",
       "    }\n",
       "\n",
       "    .dataframe thead th {\n",
       "        text-align: right;\n",
       "    }\n",
       "</style>\n",
       "<table border=\"1\" class=\"dataframe\">\n",
       "  <thead>\n",
       "    <tr style=\"text-align: right;\">\n",
       "      <th></th>\n",
       "      <th>timepoint</th>\n",
       "      <th>cloudcover</th>\n",
       "      <th>highcloud</th>\n",
       "      <th>midcloud</th>\n",
       "      <th>lowcloud</th>\n",
       "      <th>rh_profile</th>\n",
       "      <th>wind_profile</th>\n",
       "      <th>temp2m</th>\n",
       "      <th>lifted_index</th>\n",
       "      <th>rh2m</th>\n",
       "      <th>msl_pressure</th>\n",
       "      <th>prec_type</th>\n",
       "      <th>prec_amount</th>\n",
       "      <th>snow_depth</th>\n",
       "      <th>wind10m.direction</th>\n",
       "      <th>wind10m.speed</th>\n",
       "      <th>country</th>\n",
       "    </tr>\n",
       "  </thead>\n",
       "  <tbody>\n",
       "    <tr>\n",
       "      <th>0</th>\n",
       "      <td>3</td>\n",
       "      <td>1</td>\n",
       "      <td>-9999</td>\n",
       "      <td>-9999</td>\n",
       "      <td>-9999</td>\n",
       "      <td>[{'layer': '950mb', 'rh': 2}, {'layer': '900mb...</td>\n",
       "      <td>[{'layer': '950mb', 'direction': 235, 'speed':...</td>\n",
       "      <td>13</td>\n",
       "      <td>15</td>\n",
       "      <td>3</td>\n",
       "      <td>1026</td>\n",
       "      <td>none</td>\n",
       "      <td>0</td>\n",
       "      <td>0</td>\n",
       "      <td>195</td>\n",
       "      <td>3</td>\n",
       "      <td>usa</td>\n",
       "    </tr>\n",
       "    <tr>\n",
       "      <th>1</th>\n",
       "      <td>6</td>\n",
       "      <td>2</td>\n",
       "      <td>-9999</td>\n",
       "      <td>-9999</td>\n",
       "      <td>-9999</td>\n",
       "      <td>[{'layer': '950mb', 'rh': 5}, {'layer': '900mb...</td>\n",
       "      <td>[{'layer': '950mb', 'direction': 220, 'speed':...</td>\n",
       "      <td>14</td>\n",
       "      <td>10</td>\n",
       "      <td>9</td>\n",
       "      <td>1026</td>\n",
       "      <td>none</td>\n",
       "      <td>0</td>\n",
       "      <td>0</td>\n",
       "      <td>215</td>\n",
       "      <td>3</td>\n",
       "      <td>usa</td>\n",
       "    </tr>\n",
       "    <tr>\n",
       "      <th>2</th>\n",
       "      <td>9</td>\n",
       "      <td>6</td>\n",
       "      <td>-9999</td>\n",
       "      <td>-9999</td>\n",
       "      <td>-9999</td>\n",
       "      <td>[{'layer': '950mb', 'rh': 6}, {'layer': '900mb...</td>\n",
       "      <td>[{'layer': '950mb', 'direction': 220, 'speed':...</td>\n",
       "      <td>13</td>\n",
       "      <td>10</td>\n",
       "      <td>9</td>\n",
       "      <td>1026</td>\n",
       "      <td>none</td>\n",
       "      <td>0</td>\n",
       "      <td>0</td>\n",
       "      <td>250</td>\n",
       "      <td>2</td>\n",
       "      <td>usa</td>\n",
       "    </tr>\n",
       "    <tr>\n",
       "      <th>3</th>\n",
       "      <td>12</td>\n",
       "      <td>8</td>\n",
       "      <td>-9999</td>\n",
       "      <td>-9999</td>\n",
       "      <td>-9999</td>\n",
       "      <td>[{'layer': '950mb', 'rh': 3}, {'layer': '900mb...</td>\n",
       "      <td>[{'layer': '950mb', 'direction': 260, 'speed':...</td>\n",
       "      <td>12</td>\n",
       "      <td>15</td>\n",
       "      <td>6</td>\n",
       "      <td>1025</td>\n",
       "      <td>none</td>\n",
       "      <td>0</td>\n",
       "      <td>0</td>\n",
       "      <td>310</td>\n",
       "      <td>2</td>\n",
       "      <td>usa</td>\n",
       "    </tr>\n",
       "    <tr>\n",
       "      <th>4</th>\n",
       "      <td>15</td>\n",
       "      <td>9</td>\n",
       "      <td>-9999</td>\n",
       "      <td>-9999</td>\n",
       "      <td>-9999</td>\n",
       "      <td>[{'layer': '950mb', 'rh': 1}, {'layer': '900mb...</td>\n",
       "      <td>[{'layer': '950mb', 'direction': 330, 'speed':...</td>\n",
       "      <td>12</td>\n",
       "      <td>15</td>\n",
       "      <td>2</td>\n",
       "      <td>1024</td>\n",
       "      <td>none</td>\n",
       "      <td>0</td>\n",
       "      <td>0</td>\n",
       "      <td>275</td>\n",
       "      <td>2</td>\n",
       "      <td>usa</td>\n",
       "    </tr>\n",
       "  </tbody>\n",
       "</table>\n",
       "</div>"
      ],
      "text/plain": [
       "   timepoint  cloudcover  highcloud  midcloud  lowcloud  \\\n",
       "0          3           1      -9999     -9999     -9999   \n",
       "1          6           2      -9999     -9999     -9999   \n",
       "2          9           6      -9999     -9999     -9999   \n",
       "3         12           8      -9999     -9999     -9999   \n",
       "4         15           9      -9999     -9999     -9999   \n",
       "\n",
       "                                          rh_profile  \\\n",
       "0  [{'layer': '950mb', 'rh': 2}, {'layer': '900mb...   \n",
       "1  [{'layer': '950mb', 'rh': 5}, {'layer': '900mb...   \n",
       "2  [{'layer': '950mb', 'rh': 6}, {'layer': '900mb...   \n",
       "3  [{'layer': '950mb', 'rh': 3}, {'layer': '900mb...   \n",
       "4  [{'layer': '950mb', 'rh': 1}, {'layer': '900mb...   \n",
       "\n",
       "                                        wind_profile  temp2m  lifted_index  \\\n",
       "0  [{'layer': '950mb', 'direction': 235, 'speed':...      13            15   \n",
       "1  [{'layer': '950mb', 'direction': 220, 'speed':...      14            10   \n",
       "2  [{'layer': '950mb', 'direction': 220, 'speed':...      13            10   \n",
       "3  [{'layer': '950mb', 'direction': 260, 'speed':...      12            15   \n",
       "4  [{'layer': '950mb', 'direction': 330, 'speed':...      12            15   \n",
       "\n",
       "   rh2m  msl_pressure prec_type  prec_amount  snow_depth wind10m.direction  \\\n",
       "0     3          1026      none            0           0               195   \n",
       "1     9          1026      none            0           0               215   \n",
       "2     9          1026      none            0           0               250   \n",
       "3     6          1025      none            0           0               310   \n",
       "4     2          1024      none            0           0               275   \n",
       "\n",
       "   wind10m.speed country  \n",
       "0              3     usa  \n",
       "1              3     usa  \n",
       "2              2     usa  \n",
       "3              2     usa  \n",
       "4              2     usa  "
      ]
     },
     "execution_count": 4,
     "metadata": {},
     "output_type": "execute_result"
    }
   ],
   "source": [
    "# Comprobamos que tenemos la información de los cinco países en un dataframe\n",
    "clima_paises.head()"
   ]
  },
  {
   "cell_type": "code",
   "execution_count": 5,
   "metadata": {},
   "outputs": [
    {
     "data": {
      "text/plain": [
       "array(['usa', 'australia', 'south africa', 'new zealand',\n",
       "       'papua new guinea'], dtype=object)"
      ]
     },
     "execution_count": 5,
     "metadata": {},
     "output_type": "execute_result"
    }
   ],
   "source": [
    "# Comprobamos que estén los cinco países\n",
    "clima_paises['country'].unique()"
   ]
  },
  {
   "cell_type": "code",
   "execution_count": 6,
   "metadata": {},
   "outputs": [
    {
     "name": "stdout",
     "output_type": "stream",
     "text": [
      " El número de filas del dataframe creado es 320 y el número de columnas es 17\n"
     ]
    }
   ],
   "source": [
    "print(f' El número de filas del dataframe creado es {clima_paises.shape[0]} y el número de columnas es {clima_paises.shape[1]}')"
   ]
  },
  {
   "cell_type": "code",
   "execution_count": 7,
   "metadata": {},
   "outputs": [],
   "source": [
    "# Guardamos el dataframe en un archivo csv\n",
    "clima_paises.to_csv('../files/clima_paises.csv')"
   ]
  }
 ],
 "metadata": {
  "kernelspec": {
   "display_name": "base",
   "language": "python",
   "name": "python3"
  },
  "language_info": {
   "codemirror_mode": {
    "name": "ipython",
    "version": 3
   },
   "file_extension": ".py",
   "mimetype": "text/x-python",
   "name": "python",
   "nbconvert_exporter": "python",
   "pygments_lexer": "ipython3",
   "version": "3.9.13"
  },
  "orig_nbformat": 4,
  "vscode": {
   "interpreter": {
    "hash": "a52af493819045717511545598ab2b73dabca4ca61b402315e0ef2b43666342d"
   }
  }
 },
 "nbformat": 4,
 "nbformat_minor": 2
}
