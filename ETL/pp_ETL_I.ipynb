{
 "cells": [
  {
   "attachments": {},
   "cell_type": "markdown",
   "metadata": {},
   "source": [
    "## PAIR PROGRAMMING ETL I\n",
    "\n",
    "### Extracción -API's\n",
    "---"
   ]
  },
  {
   "cell_type": "code",
   "execution_count": 2,
   "metadata": {},
   "outputs": [],
   "source": [
    "import requests\n",
    "import pandas as pd\n",
    "import numpy as np\n",
    "from IPython.core.interactiveshell import InteractiveShell \n",
    "InteractiveShell.ast_node_interactivity = \"all\" "
   ]
  },
  {
   "attachments": {},
   "cell_type": "markdown",
   "metadata": {},
   "source": [
    "Vamos a nutrir los datos de los ataques de los tiburones con información climática de los paises que tenemos. Para eso vamos a usar la API del clima que hemos aprendido en la clase invertida:"
   ]
  },
  {
   "cell_type": "markdown",
   "metadata": {},
   "source": [
    "url = f'http://www.7timer.info/bin/api.pl?lon=-{lon}&lat={lat}&product={producto}&output=json'"
   ]
  },
  {
   "attachments": {},
   "cell_type": "markdown",
   "metadata": {},
   "source": [
    "En este caso os recomendamos que uséis el producto meteo para obtener la información climática. Para hacer la llamada a la API necesitamos también las coordenadas de los paises que tenemos en el dataset."
   ]
  },
  {
   "attachments": {},
   "cell_type": "markdown",
   "metadata": {},
   "source": [
    "Por lo tanto, el objetivo es que saquéis la información del clima de la API para los paises que tenemos. Pero antes de poneros manos a la obra, tenemos muchísimos países y esto puede hacerse eterno. Sacad la información climática solo para los siguientes países, con las siguientes coordenadas(imagen en gitbook)"
   ]
  },
  {
   "cell_type": "markdown",
   "metadata": {},
   "source": [
    "Requisitos de este ejercicio de pair programming:\n",
    "- Deberéis meter toda la información climática en un único dataframe.\n",
    "- Deberéis hacer la llamada a la API de una sola vez. Es decir, tendréis que iterar por la lista de países y sacar la información del clima para cada uno de ellos.\n",
    "- Al meter toda la información en un único dataframe tendremos que crear una columna que corresponda con el nombre del país.\n",
    "- Guardar el dataframe obtenido para usarlo en la siguiente sesión de pair programming."
   ]
  },
  {
   "cell_type": "markdown",
   "metadata": {},
   "source": [
    "💡 Pistas 💡:\n",
    "- Crearos un diccionario donde:\n",
    "    - Las keys sean los nombres de los paises\n",
    "    - Los values sean las coordenadas de los paises en formato lista.\n",
    "\n",
    "- Iterar por el diccionario. Dentro del for haremos la llamada a la API como hemos aprendido en las clases invertidas. Recordamos que para iterar por el diccionario tenemos que seguir la siguiente estructura: \n",
    "*_for key, value in diccionario.items(): \n",
    "print(key, value)_*\n",
    "\n",
    "- Crearnos un dataframe vacío donde iremos concatenando los datos obtenidos de la API cada país.\n",
    "- Guardad el csv ya que mañana lo necesitaremos para hacer el ejercicio de pair programming."
   ]
  },
  {
   "cell_type": "code",
   "execution_count": 3,
   "metadata": {},
   "outputs": [],
   "source": [
    "# Creamos los direccionarios con los países y coordenadas\n",
    "pais = ['USA', 'Australia', 'South Africa', 'New Zealand', 'Papua New Guinea']\n",
    "latitud= [39.7837304, -24.7761086, -28.8166236, -41.5000831, -5.6816069]\n",
    "longitud = [-100.445882, 134.755, 24.991639,172.8344077,144.2489081]\n",
    "\n",
    "producto = 'meteo' # Especificamos el producto del que queremos extraer la información"
   ]
  },
  {
   "cell_type": "code",
   "execution_count": 4,
   "metadata": {},
   "outputs": [
    {
     "data": {
      "text/plain": [
       "[('USA', -100.445882, 39.7837304),\n",
       " ('Australia', 134.755, -24.7761086),\n",
       " ('South Africa', 24.991639, -28.8166236),\n",
       " ('New Zealand', 172.8344077, -41.5000831),\n",
       " ('Papua New Guinea', 144.2489081, -5.6816069)]"
      ]
     },
     "execution_count": 4,
     "metadata": {},
     "output_type": "execute_result"
    }
   ],
   "source": [
    "diccionario = list(zip(pais,longitud,latitud)) # reveer si podemos sacarlo con el zip para no hacerlo de forma manual\n",
    "diccionario"
   ]
  },
  {
   "cell_type": "code",
   "execution_count": 5,
   "metadata": {},
   "outputs": [],
   "source": [
    "# Hacemos un diccionario con los países como keys y las coordenadas como values\n",
    "dicc_paises= {'usa': [-100.445882, 39.7837304],'australia': [134.755, -24.7761086],'south africa': [24.991639, -28.8166236],'new zealand': [172.8344077, -41.5000831],'papua new guinea': [144.2489081, -5.6816069]}"
   ]
  },
  {
   "cell_type": "code",
   "execution_count": 6,
   "metadata": {},
   "outputs": [
    {
     "data": {
      "text/plain": [
       "200"
      ]
     },
     "execution_count": 6,
     "metadata": {},
     "output_type": "execute_result"
    },
    {
     "data": {
      "text/plain": [
       "'OK'"
      ]
     },
     "execution_count": 6,
     "metadata": {},
     "output_type": "execute_result"
    },
    {
     "data": {
      "text/plain": [
       "200"
      ]
     },
     "execution_count": 6,
     "metadata": {},
     "output_type": "execute_result"
    },
    {
     "data": {
      "text/plain": [
       "'OK'"
      ]
     },
     "execution_count": 6,
     "metadata": {},
     "output_type": "execute_result"
    },
    {
     "data": {
      "text/plain": [
       "200"
      ]
     },
     "execution_count": 6,
     "metadata": {},
     "output_type": "execute_result"
    },
    {
     "data": {
      "text/plain": [
       "'OK'"
      ]
     },
     "execution_count": 6,
     "metadata": {},
     "output_type": "execute_result"
    },
    {
     "data": {
      "text/plain": [
       "200"
      ]
     },
     "execution_count": 6,
     "metadata": {},
     "output_type": "execute_result"
    },
    {
     "data": {
      "text/plain": [
       "'OK'"
      ]
     },
     "execution_count": 6,
     "metadata": {},
     "output_type": "execute_result"
    },
    {
     "data": {
      "text/plain": [
       "200"
      ]
     },
     "execution_count": 6,
     "metadata": {},
     "output_type": "execute_result"
    },
    {
     "data": {
      "text/plain": [
       "'OK'"
      ]
     },
     "execution_count": 6,
     "metadata": {},
     "output_type": "execute_result"
    }
   ],
   "source": [
    "# Creamos un dataframe vacío con las columnas que rellenaremos con la información obtenida de la API\n",
    "clima_paises = pd.DataFrame( columns= ['timepoint', 'cloudcover', 'lifted_index', 'prec_type', 'prec_amount','temp2m', 'rh2m', 'weather', 'wind10m.direction', 'wind10m.speed','country'])\n",
    "\n",
    "# Iteramos por las keys y los values del diccionario para pasarlos por la url y extraer la información de los cinco países\n",
    "for key, value in dicc_paises.items(): \n",
    "\n",
    "    url =f'http://www.7timer.info/bin/api.pl?lon=-{dicc_paises[key][0]}&lat={dicc_paises[key][1]}&product={producto}&output=json'\n",
    "\n",
    "    response = requests.get(url=url)\n",
    "    response.status_code\n",
    "    response.reason\n",
    "\n",
    "    # Convetimos la información obtenida en formato json a un dataframe\n",
    "    df = pd.json_normalize(response.json()['dataseries'])\n",
    "    # Creamos una nueva columna para que inserte la key que corresponde al nombre del país\n",
    "    df['country']=key\n",
    "    # Concatenamos los dataframes de cada país en uno\n",
    "    clima_paises=pd.concat([clima_paises,df], axis=0, ignore_index = True)\n",
    "\n"
   ]
  },
  {
   "cell_type": "code",
   "execution_count": 7,
   "metadata": {},
   "outputs": [
    {
     "data": {
      "text/html": [
       "<div>\n",
       "<style scoped>\n",
       "    .dataframe tbody tr th:only-of-type {\n",
       "        vertical-align: middle;\n",
       "    }\n",
       "\n",
       "    .dataframe tbody tr th {\n",
       "        vertical-align: top;\n",
       "    }\n",
       "\n",
       "    .dataframe thead th {\n",
       "        text-align: right;\n",
       "    }\n",
       "</style>\n",
       "<table border=\"1\" class=\"dataframe\">\n",
       "  <thead>\n",
       "    <tr style=\"text-align: right;\">\n",
       "      <th></th>\n",
       "      <th>timepoint</th>\n",
       "      <th>cloudcover</th>\n",
       "      <th>lifted_index</th>\n",
       "      <th>prec_type</th>\n",
       "      <th>prec_amount</th>\n",
       "      <th>temp2m</th>\n",
       "      <th>rh2m</th>\n",
       "      <th>weather</th>\n",
       "      <th>wind10m.direction</th>\n",
       "      <th>wind10m.speed</th>\n",
       "      <th>country</th>\n",
       "      <th>highcloud</th>\n",
       "      <th>midcloud</th>\n",
       "      <th>lowcloud</th>\n",
       "      <th>rh_profile</th>\n",
       "      <th>wind_profile</th>\n",
       "      <th>msl_pressure</th>\n",
       "      <th>snow_depth</th>\n",
       "    </tr>\n",
       "  </thead>\n",
       "  <tbody>\n",
       "    <tr>\n",
       "      <th>0</th>\n",
       "      <td>3</td>\n",
       "      <td>1</td>\n",
       "      <td>15</td>\n",
       "      <td>none</td>\n",
       "      <td>0</td>\n",
       "      <td>12</td>\n",
       "      <td>2</td>\n",
       "      <td>NaN</td>\n",
       "      <td>315</td>\n",
       "      <td>2</td>\n",
       "      <td>usa</td>\n",
       "      <td>-9999.0</td>\n",
       "      <td>-9999.0</td>\n",
       "      <td>-9999.0</td>\n",
       "      <td>[{'layer': '950mb', 'rh': 1}, {'layer': '900mb...</td>\n",
       "      <td>[{'layer': '950mb', 'direction': 40, 'speed': ...</td>\n",
       "      <td>1028.0</td>\n",
       "      <td>0.0</td>\n",
       "    </tr>\n",
       "    <tr>\n",
       "      <th>1</th>\n",
       "      <td>6</td>\n",
       "      <td>1</td>\n",
       "      <td>15</td>\n",
       "      <td>none</td>\n",
       "      <td>0</td>\n",
       "      <td>14</td>\n",
       "      <td>1</td>\n",
       "      <td>NaN</td>\n",
       "      <td>50</td>\n",
       "      <td>2</td>\n",
       "      <td>usa</td>\n",
       "      <td>-9999.0</td>\n",
       "      <td>-9999.0</td>\n",
       "      <td>-9999.0</td>\n",
       "      <td>[{'layer': '950mb', 'rh': 1}, {'layer': '900mb...</td>\n",
       "      <td>[{'layer': '950mb', 'direction': 325, 'speed':...</td>\n",
       "      <td>1027.0</td>\n",
       "      <td>0.0</td>\n",
       "    </tr>\n",
       "    <tr>\n",
       "      <th>2</th>\n",
       "      <td>9</td>\n",
       "      <td>1</td>\n",
       "      <td>15</td>\n",
       "      <td>none</td>\n",
       "      <td>0</td>\n",
       "      <td>14</td>\n",
       "      <td>3</td>\n",
       "      <td>NaN</td>\n",
       "      <td>85</td>\n",
       "      <td>2</td>\n",
       "      <td>usa</td>\n",
       "      <td>-9999.0</td>\n",
       "      <td>-9999.0</td>\n",
       "      <td>-9999.0</td>\n",
       "      <td>[{'layer': '950mb', 'rh': 1}, {'layer': '900mb...</td>\n",
       "      <td>[{'layer': '950mb', 'direction': 190, 'speed':...</td>\n",
       "      <td>1026.0</td>\n",
       "      <td>0.0</td>\n",
       "    </tr>\n",
       "    <tr>\n",
       "      <th>3</th>\n",
       "      <td>12</td>\n",
       "      <td>1</td>\n",
       "      <td>10</td>\n",
       "      <td>none</td>\n",
       "      <td>0</td>\n",
       "      <td>13</td>\n",
       "      <td>8</td>\n",
       "      <td>NaN</td>\n",
       "      <td>30</td>\n",
       "      <td>2</td>\n",
       "      <td>usa</td>\n",
       "      <td>-9999.0</td>\n",
       "      <td>-9999.0</td>\n",
       "      <td>-9999.0</td>\n",
       "      <td>[{'layer': '950mb', 'rh': 3}, {'layer': '900mb...</td>\n",
       "      <td>[{'layer': '950mb', 'direction': 235, 'speed':...</td>\n",
       "      <td>1026.0</td>\n",
       "      <td>0.0</td>\n",
       "    </tr>\n",
       "    <tr>\n",
       "      <th>4</th>\n",
       "      <td>15</td>\n",
       "      <td>1</td>\n",
       "      <td>15</td>\n",
       "      <td>none</td>\n",
       "      <td>0</td>\n",
       "      <td>13</td>\n",
       "      <td>8</td>\n",
       "      <td>NaN</td>\n",
       "      <td>5</td>\n",
       "      <td>2</td>\n",
       "      <td>usa</td>\n",
       "      <td>-9999.0</td>\n",
       "      <td>-9999.0</td>\n",
       "      <td>-9999.0</td>\n",
       "      <td>[{'layer': '950mb', 'rh': 4}, {'layer': '900mb...</td>\n",
       "      <td>[{'layer': '950mb', 'direction': 215, 'speed':...</td>\n",
       "      <td>1027.0</td>\n",
       "      <td>0.0</td>\n",
       "    </tr>\n",
       "  </tbody>\n",
       "</table>\n",
       "</div>"
      ],
      "text/plain": [
       "  timepoint cloudcover lifted_index prec_type prec_amount temp2m rh2m weather  \\\n",
       "0         3          1           15      none           0     12    2     NaN   \n",
       "1         6          1           15      none           0     14    1     NaN   \n",
       "2         9          1           15      none           0     14    3     NaN   \n",
       "3        12          1           10      none           0     13    8     NaN   \n",
       "4        15          1           15      none           0     13    8     NaN   \n",
       "\n",
       "  wind10m.direction wind10m.speed country  highcloud  midcloud  lowcloud  \\\n",
       "0               315             2     usa    -9999.0   -9999.0   -9999.0   \n",
       "1                50             2     usa    -9999.0   -9999.0   -9999.0   \n",
       "2                85             2     usa    -9999.0   -9999.0   -9999.0   \n",
       "3                30             2     usa    -9999.0   -9999.0   -9999.0   \n",
       "4                 5             2     usa    -9999.0   -9999.0   -9999.0   \n",
       "\n",
       "                                          rh_profile  \\\n",
       "0  [{'layer': '950mb', 'rh': 1}, {'layer': '900mb...   \n",
       "1  [{'layer': '950mb', 'rh': 1}, {'layer': '900mb...   \n",
       "2  [{'layer': '950mb', 'rh': 1}, {'layer': '900mb...   \n",
       "3  [{'layer': '950mb', 'rh': 3}, {'layer': '900mb...   \n",
       "4  [{'layer': '950mb', 'rh': 4}, {'layer': '900mb...   \n",
       "\n",
       "                                        wind_profile  msl_pressure  snow_depth  \n",
       "0  [{'layer': '950mb', 'direction': 40, 'speed': ...        1028.0         0.0  \n",
       "1  [{'layer': '950mb', 'direction': 325, 'speed':...        1027.0         0.0  \n",
       "2  [{'layer': '950mb', 'direction': 190, 'speed':...        1026.0         0.0  \n",
       "3  [{'layer': '950mb', 'direction': 235, 'speed':...        1026.0         0.0  \n",
       "4  [{'layer': '950mb', 'direction': 215, 'speed':...        1027.0         0.0  "
      ]
     },
     "execution_count": 7,
     "metadata": {},
     "output_type": "execute_result"
    }
   ],
   "source": [
    "# Comprobamos que tenemos la información de los cinco países en un dataframe\n",
    "clima_paises.head()"
   ]
  },
  {
   "cell_type": "code",
   "execution_count": 8,
   "metadata": {},
   "outputs": [
    {
     "data": {
      "text/plain": [
       "array(['usa', 'australia', 'south africa', 'new zealand',\n",
       "       'papua new guinea'], dtype=object)"
      ]
     },
     "execution_count": 8,
     "metadata": {},
     "output_type": "execute_result"
    }
   ],
   "source": [
    "# Comprobamos que estén los cinco países\n",
    "clima_paises['country'].unique()"
   ]
  },
  {
   "cell_type": "code",
   "execution_count": 11,
   "metadata": {},
   "outputs": [
    {
     "name": "stdout",
     "output_type": "stream",
     "text": [
      " El número de filas del dataframe creado es 320 y el número de columnas es 18\n"
     ]
    }
   ],
   "source": [
    "print(f' El número de filas del dataframe creado es {clima_paises.shape[0]} y el número de columnas es {clima_paises.shape[1]}')"
   ]
  },
  {
   "cell_type": "code",
   "execution_count": 10,
   "metadata": {},
   "outputs": [],
   "source": [
    "# Guardamos el dataframe en un archivo csv\n",
    "clima_paises.to_csv('../files/clima_paises.csv')"
   ]
  }
 ],
 "metadata": {
  "kernelspec": {
   "display_name": "base",
   "language": "python",
   "name": "python3"
  },
  "language_info": {
   "codemirror_mode": {
    "name": "ipython",
    "version": 3
   },
   "file_extension": ".py",
   "mimetype": "text/x-python",
   "name": "python",
   "nbconvert_exporter": "python",
   "pygments_lexer": "ipython3",
   "version": "3.9.7"
  },
  "orig_nbformat": 4,
  "vscode": {
   "interpreter": {
    "hash": "819a5c43c1fad9e35c5b1180124e231b422fc24c453463d400a90e0aae1b9c8c"
   }
  }
 },
 "nbformat": 4,
 "nbformat_minor": 2
}
