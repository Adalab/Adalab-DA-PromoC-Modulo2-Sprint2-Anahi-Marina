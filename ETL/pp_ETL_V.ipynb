{
 "cells": [
  {
   "attachments": {},
   "cell_type": "markdown",
   "metadata": {},
   "source": [
    "## PAIR PROGRAMMING ETL V\n",
    "\n",
    "### ETL Carga II - Clases y Funciones BBDD e inserción\n",
    "---"
   ]
  },
  {
   "cell_type": "markdown",
   "metadata": {},
   "source": [
    "Igual que en el ejercicio de pair programming de ETL Transformación II, tendréis que crear una clase que nos permita cargar los datos en SQL I."
   ]
  },
  {
   "cell_type": "code",
   "execution_count": 1,
   "metadata": {},
   "outputs": [],
   "source": [
    "import pandas as pd\n",
    "import mysql.connector"
   ]
  },
  {
   "cell_type": "code",
   "execution_count": 11,
   "metadata": {},
   "outputs": [
    {
     "data": {
      "text/html": [
       "<div>\n",
       "<style scoped>\n",
       "    .dataframe tbody tr th:only-of-type {\n",
       "        vertical-align: middle;\n",
       "    }\n",
       "\n",
       "    .dataframe tbody tr th {\n",
       "        vertical-align: top;\n",
       "    }\n",
       "\n",
       "    .dataframe thead th {\n",
       "        text-align: right;\n",
       "    }\n",
       "</style>\n",
       "<table border=\"1\" class=\"dataframe\">\n",
       "  <thead>\n",
       "    <tr style=\"text-align: right;\">\n",
       "      <th></th>\n",
       "      <th>year</th>\n",
       "      <th>type</th>\n",
       "      <th>country</th>\n",
       "      <th>age</th>\n",
       "      <th>species_</th>\n",
       "      <th>fecha_limpia</th>\n",
       "      <th>fatal</th>\n",
       "      <th>sex</th>\n",
       "      <th>latitud</th>\n",
       "      <th>longitud</th>\n",
       "      <th>...</th>\n",
       "      <th>temp2m</th>\n",
       "      <th>rh2m</th>\n",
       "      <th>weather</th>\n",
       "      <th>wind10m.direction</th>\n",
       "      <th>wind10m.speed</th>\n",
       "      <th>highcloud</th>\n",
       "      <th>midcloud</th>\n",
       "      <th>lowcloud</th>\n",
       "      <th>msl_pressure</th>\n",
       "      <th>snow_depth</th>\n",
       "    </tr>\n",
       "  </thead>\n",
       "  <tbody>\n",
       "    <tr>\n",
       "      <th>0</th>\n",
       "      <td>2018</td>\n",
       "      <td>Boating</td>\n",
       "      <td>usa</td>\n",
       "      <td>57.0</td>\n",
       "      <td>White shark</td>\n",
       "      <td>Jun</td>\n",
       "      <td>N</td>\n",
       "      <td>F</td>\n",
       "      <td>39.78373</td>\n",
       "      <td>-100.445882</td>\n",
       "      <td>...</td>\n",
       "      <td>12.21875</td>\n",
       "      <td>5.40625</td>\n",
       "      <td>NaN</td>\n",
       "      <td>195.234375</td>\n",
       "      <td>2.171875</td>\n",
       "      <td>-9999.0</td>\n",
       "      <td>-9999.0</td>\n",
       "      <td>-9999.0</td>\n",
       "      <td>1020.8125</td>\n",
       "      <td>0.0</td>\n",
       "    </tr>\n",
       "    <tr>\n",
       "      <th>1</th>\n",
       "      <td>2018</td>\n",
       "      <td>Unprovoked</td>\n",
       "      <td>usa</td>\n",
       "      <td>11.0</td>\n",
       "      <td>Unespecific</td>\n",
       "      <td>Jun</td>\n",
       "      <td>N</td>\n",
       "      <td>F</td>\n",
       "      <td>39.78373</td>\n",
       "      <td>-100.445882</td>\n",
       "      <td>...</td>\n",
       "      <td>12.21875</td>\n",
       "      <td>5.40625</td>\n",
       "      <td>NaN</td>\n",
       "      <td>195.234375</td>\n",
       "      <td>2.171875</td>\n",
       "      <td>-9999.0</td>\n",
       "      <td>-9999.0</td>\n",
       "      <td>-9999.0</td>\n",
       "      <td>1020.8125</td>\n",
       "      <td>0.0</td>\n",
       "    </tr>\n",
       "  </tbody>\n",
       "</table>\n",
       "<p>2 rows × 83 columns</p>\n",
       "</div>"
      ],
      "text/plain": [
       "   year        type country   age     species_ fecha_limpia fatal sex  \\\n",
       "0  2018     Boating     usa  57.0  White shark          Jun     N   F   \n",
       "1  2018  Unprovoked     usa  11.0  Unespecific          Jun     N   F   \n",
       "\n",
       "    latitud    longitud  ...    temp2m     rh2m  weather  wind10m.direction  \\\n",
       "0  39.78373 -100.445882  ...  12.21875  5.40625      NaN         195.234375   \n",
       "1  39.78373 -100.445882  ...  12.21875  5.40625      NaN         195.234375   \n",
       "\n",
       "   wind10m.speed  highcloud  midcloud  lowcloud  msl_pressure  snow_depth  \n",
       "0       2.171875    -9999.0   -9999.0   -9999.0     1020.8125         0.0  \n",
       "1       2.171875    -9999.0   -9999.0   -9999.0     1020.8125         0.0  \n",
       "\n",
       "[2 rows x 83 columns]"
      ]
     },
     "execution_count": 11,
     "metadata": {},
     "output_type": "execute_result"
    }
   ],
   "source": [
    "df=pd.read_csv('../files/datos_clima_attacks.csv', index_col=0)\n",
    "df.head(2)"
   ]
  },
  {
   "cell_type": "code",
   "execution_count": 12,
   "metadata": {},
   "outputs": [],
   "source": [
    "class Subida_datos:\n",
    "\n",
    "    def __init__(self, nombre_bbdd, contraseña):\n",
    "        # nuestra clase va a recibir dos parámetros.\n",
    "        self.nombre_bbdd = nombre_bbdd\n",
    "        self.contraseña = contraseña\n",
    "\n",
    "\n",
    "    def crear_bbdd(self):\n",
    "\n",
    "        mydb = mysql.connector.connect(\n",
    "         host=\"localhost\",\n",
    "        user=\"root\",\n",
    "        password=self.contraseña)\n",
    "      \n",
    "        print(\"Conexión realizada con éxito\")\n",
    "    \n",
    "        mycursor = mydb.cursor()\n",
    "\n",
    "        try:\n",
    "            mycursor.execute(f\"CREATE DATABASE IF NOT EXISTS {self.nombre_bbdd};\")\n",
    "            print(mycursor)\n",
    "        except mysql.connector.Error as err:\n",
    "            print(err)\n",
    "            print(\"Error Code:\", err.errno)\n",
    "            print(\"SQLSTATE\", err.sqlstate)\n",
    "            print(\"Message\", err.msg)\n",
    "\n",
    "\n",
    "\n",
    "    def crear_insertar_tabla(self,query):\n",
    "    \n",
    "   \n",
    "        cnx = mysql.connector.connect(user='root', password=f\"{self.contraseña}\",\n",
    "                                     host='127.0.0.1', database=f\"{self.nombre_bbdd}\")\n",
    "   \n",
    "        mycursor = cnx.cursor()\n",
    "    \n",
    "    \n",
    "        try: \n",
    "            mycursor.execute(query)\n",
    "            cnx.commit() \n",
    "   \n",
    "        except mysql.connector.Error as err:\n",
    "            print(err)\n",
    "            print(\"Error Code:\", err.errno)\n",
    "            print(\"SQLSTATE\", err.sqlstate)\n",
    "            print(\"Message\", err.msg)\n"
   ]
  },
  {
   "cell_type": "code",
   "execution_count": 13,
   "metadata": {},
   "outputs": [],
   "source": [
    "iniciacion= Subida_datos('tiburones', 'AlumnaAdalab') # Inicializamos la clase."
   ]
  },
  {
   "cell_type": "code",
   "execution_count": 14,
   "metadata": {},
   "outputs": [
    {
     "name": "stdout",
     "output_type": "stream",
     "text": [
      "Conexión realizada con éxito\n",
      "MySQLCursor: CREATE DATABASE IF NOT EXISTS tiburones;\n"
     ]
    }
   ],
   "source": [
    "iniciacion.crear_bbdd()# Creamos la base de datos 'tiburones'."
   ]
  },
  {
   "cell_type": "code",
   "execution_count": 15,
   "metadata": {},
   "outputs": [],
   "source": [
    "query_ataques= '''\n",
    "CREATE TABLE IF NOT EXISTS `tiburones`.`ataques` (\n",
    "`id_ataque` INT NOT NULL AUTO_INCREMENT,\n",
    "`case_number` VARCHAR(45),\n",
    "`type` VARCHAR(45),\n",
    "`country` VARCHAR(45),\n",
    "`activity` VARCHAR(100), \n",
    "`age` VARCHAR(45),\n",
    "`species_` VARCHAR(100),\n",
    "`date` VARCHAR(45),\n",
    "`mes_ataque` VARCHAR(45), \n",
    "`fatal` VARCHAR(45), \n",
    "`sexo` VARCHAR(45), \n",
    "`cat_species` VARCHAR(45), \n",
    "`mes` VARCHAR(45),\n",
    "`year` FLOAT , \n",
    "`edades` FLOAT,\n",
    "PRIMARY KEY (`id_ataque`,`country`),\n",
    "KEY idx_country (`country`))\n",
    "ENGINE = InnoDB;\n",
    "'''"
   ]
  },
  {
   "cell_type": "code",
   "execution_count": 16,
   "metadata": {},
   "outputs": [],
   "source": [
    "query_clima= '''CREATE TABLE IF NOT EXISTS `tiburones`.`clima` (\n",
    "`id_clima` INT NOT NULL AUTO_INCREMENT,\n",
    "`country` VARCHAR(45) NOT NULL,\n",
    "`speed950mb` FLOAT NOT NULL,\n",
    "`speed900mb` FLOAT NOT NULL,\n",
    "`speed850mb` FLOAT NOT NULL,\n",
    "`speed800mb` FLOAT NOT NULL,\n",
    "`speed750mb` FLOAT NOT NULL,\n",
    "`speed700mb` FLOAT NOT NULL,\n",
    "`speed650mb` FLOAT NOT NULL,\n",
    "`speed600mb` FLOAT NOT NULL,\n",
    "`speed550mb` FLOAT NOT NULL,\n",
    "`speed500mb` FLOAT NOT NULL,\n",
    "`speed450mb` FLOAT NOT NULL,\n",
    "`speed400mb` FLOAT NOT NULL,\n",
    "`speed350mb` FLOAT NOT NULL,\n",
    "`speed300mb` FLOAT NOT NULL,\n",
    "`speed250mb` FLOAT NOT NULL,\n",
    "`speed200mb` FLOAT NOT NULL,\n",
    "`direction950mb` FLOAT NOT NULL,\n",
    "`direction900mb` FLOAT NOT NULL,\n",
    "`direction850mb` FLOAT NOT NULL,\n",
    "`direction800mb` FLOAT NOT NULL,\n",
    "`direction750mb` FLOAT NOT NULL,\n",
    "`direction700mb` FLOAT NOT NULL,\n",
    "`direction650mb` FLOAT NOT NULL,\n",
    "`direction600mb` FLOAT NOT NULL,\n",
    "`direction550mb` FLOAT NOT NULL,\n",
    "`direction500mb` FLOAT NOT NULL,\n",
    "`direction450mb` FLOAT NOT NULL,\n",
    "`direction400mb` FLOAT NOT NULL,\n",
    "`direction350mb` FLOAT NOT NULL,\n",
    "`direction300mb` FLOAT NOT NULL,\n",
    "`direction250mb` FLOAT NOT NULL,\n",
    "`direction200mb` FLOAT NOT NULL,\n",
    "`rh_950mb` FLOAT NOT NULL,\n",
    "`rh_900mb` FLOAT NOT NULL,\n",
    "`rh_850mb` FLOAT NOT NULL,\n",
    "`rh_800mb` FLOAT NOT NULL,\n",
    "`rh_750mb` FLOAT NOT NULL,\n",
    "`rh_700mb` FLOAT NOT NULL,\n",
    "`rh_650mb` FLOAT NOT NULL,\n",
    "`rh_600mb` FLOAT NOT NULL,\n",
    "`rh_550mb` FLOAT NOT NULL,\n",
    "`rh_500mb` FLOAT NOT NULL,\n",
    "`rh_450mb` FLOAT NOT NULL,\n",
    "`rh_400mb` FLOAT NOT NULL,\n",
    "`rh_350mb` FLOAT NOT NULL,\n",
    "`rh_300mb` FLOAT NOT NULL,\n",
    "`rh_250mb` FLOAT NOT NULL,\n",
    "`rh_200mb` FLOAT NOT NULL,\n",
    "`timepoint` FLOAT NOT NULL, \n",
    "`cloudcover` FLOAT NOT NULL, \n",
    "`lifted_index` FLOAT NOT NULL, \n",
    "`prec_amount` FLOAT NOT NULL,\n",
    "`temp2m` FLOAT NOT NULL, \n",
    "`rh2m` FLOAT NOT NULL, \n",
    "`weather` FLOAT NOT NULL, \n",
    "`wind10m.direction` FLOAT NOT NULL, \n",
    "`wind10m.speed` FLOAT NOT NULL,\n",
    "`highcloud` FLOAT NOT NULL, \n",
    "`midcloud` FLOAT NOT NULL, \n",
    "`lowcloud` FLOAT NOT NULL, \n",
    "`msl_pressure` FLOAT NOT NULL, \n",
    "`snow_depth` FLOAT NOT NULL,\n",
    "`fecha` DATE,\n",
    "PRIMARY KEY (`id_clima`, `country`),\n",
    "CONSTRAINT `fk_clima_ataques`\n",
    "FOREIGN KEY (`country`)\n",
    "REFERENCES `ataques` (`country`) ON DELETE RESTRICT ON UPDATE CASCADE)\n",
    "ENGINE = InnoDB;'''"
   ]
  },
  {
   "cell_type": "code",
   "execution_count": 10,
   "metadata": {},
   "outputs": [
    {
     "data": {
      "text/plain": [
       "Index(['case_number', 'type', 'country', 'activity', 'age', 'species_', 'date',\n",
       "       'mes_ataque', 'fatal', 'sexo', 'cat_species', 'mes', 'year', 'edades',\n",
       "       'speed950mb', 'speed900mb', 'speed850mb', 'speed800mb', 'speed750mb',\n",
       "       'speed700mb', 'speed650mb', 'speed600mb', 'speed550mb', 'speed500mb',\n",
       "       'speed450mb', 'speed400mb', 'speed350mb', 'speed300mb', 'speed250mb',\n",
       "       'speed200mb', 'direction200mb', 'direction250mb', 'direction300mb',\n",
       "       'direction350mb', 'direction400mb', 'direction450mb', 'direction500mb',\n",
       "       'direction550mb', 'direction600mb', 'direction650mb', 'direction700mb',\n",
       "       'direction750mb', 'direction800mb', 'direction850mb', 'direction900mb',\n",
       "       'direction950mb', 'rh_950mb', 'rh_900mb', 'rh_850mb', 'rh_800mb',\n",
       "       'rh_750mb', 'rh_700mb', 'rh_650mb', 'rh_600mb', 'rh_550mb', 'rh_500mb',\n",
       "       'rh_450mb', 'rh_400mb', 'rh_350mb', 'rh_300mb', 'rh_250mb', 'rh_200mb',\n",
       "       'highcloud', 'midcloud', 'lowcloud', 'msl_pressure', 'snow_depth',\n",
       "       'fecha'],\n",
       "      dtype='object')"
      ]
     },
     "execution_count": 10,
     "metadata": {},
     "output_type": "execute_result"
    }
   ],
   "source": [
    "df.columns"
   ]
  },
  {
   "cell_type": "code",
   "execution_count": 17,
   "metadata": {},
   "outputs": [],
   "source": [
    "iniciacion.crear_insertar_tabla(query_ataques)"
   ]
  },
  {
   "cell_type": "code",
   "execution_count": 18,
   "metadata": {},
   "outputs": [],
   "source": [
    "iniciacion.crear_insertar_tabla(query_clima)"
   ]
  },
  {
   "cell_type": "code",
   "execution_count": 22,
   "metadata": {},
   "outputs": [
    {
     "ename": "KeyError",
     "evalue": "'case_number'",
     "output_type": "error",
     "traceback": [
      "\u001b[0;31m---------------------------------------------------------------------------\u001b[0m",
      "\u001b[0;31mKeyError\u001b[0m                                  Traceback (most recent call last)",
      "\u001b[0;32m~/anaconda3/lib/python3.9/site-packages/pandas/core/indexes/base.py\u001b[0m in \u001b[0;36mget_loc\u001b[0;34m(self, key, method, tolerance)\u001b[0m\n\u001b[1;32m   3802\u001b[0m             \u001b[0;32mtry\u001b[0m\u001b[0;34m:\u001b[0m\u001b[0;34m\u001b[0m\u001b[0;34m\u001b[0m\u001b[0m\n\u001b[0;32m-> 3803\u001b[0;31m                 \u001b[0;32mreturn\u001b[0m \u001b[0mself\u001b[0m\u001b[0;34m.\u001b[0m\u001b[0m_engine\u001b[0m\u001b[0;34m.\u001b[0m\u001b[0mget_loc\u001b[0m\u001b[0;34m(\u001b[0m\u001b[0mcasted_key\u001b[0m\u001b[0;34m)\u001b[0m\u001b[0;34m\u001b[0m\u001b[0;34m\u001b[0m\u001b[0m\n\u001b[0m\u001b[1;32m   3804\u001b[0m             \u001b[0;32mexcept\u001b[0m \u001b[0mKeyError\u001b[0m \u001b[0;32mas\u001b[0m \u001b[0merr\u001b[0m\u001b[0;34m:\u001b[0m\u001b[0;34m\u001b[0m\u001b[0;34m\u001b[0m\u001b[0m\n",
      "\u001b[0;32m~/anaconda3/lib/python3.9/site-packages/pandas/_libs/index.pyx\u001b[0m in \u001b[0;36mpandas._libs.index.IndexEngine.get_loc\u001b[0;34m()\u001b[0m\n",
      "\u001b[0;32m~/anaconda3/lib/python3.9/site-packages/pandas/_libs/index.pyx\u001b[0m in \u001b[0;36mpandas._libs.index.IndexEngine.get_loc\u001b[0;34m()\u001b[0m\n",
      "\u001b[0;32mpandas/_libs/hashtable_class_helper.pxi\u001b[0m in \u001b[0;36mpandas._libs.hashtable.PyObjectHashTable.get_item\u001b[0;34m()\u001b[0m\n",
      "\u001b[0;32mpandas/_libs/hashtable_class_helper.pxi\u001b[0m in \u001b[0;36mpandas._libs.hashtable.PyObjectHashTable.get_item\u001b[0;34m()\u001b[0m\n",
      "\u001b[0;31mKeyError\u001b[0m: 'case_number'",
      "\nThe above exception was the direct cause of the following exception:\n",
      "\u001b[0;31mKeyError\u001b[0m                                  Traceback (most recent call last)",
      "\u001b[0;32m/var/folders/db/hp0l5_js4yv8br5y2tc3frpm0000gn/T/ipykernel_3678/4124792404.py\u001b[0m in \u001b[0;36m<module>\u001b[0;34m\u001b[0m\n\u001b[1;32m      4\u001b[0m             query_datos_ataques = f\"\"\"\n\u001b[1;32m      5\u001b[0m                 \u001b[0mINSERT\u001b[0m \u001b[0mINTO\u001b[0m \u001b[0mataques\u001b[0m \u001b[0;34m(\u001b[0m\u001b[0;31m`\u001b[0m\u001b[0mcase_number\u001b[0m\u001b[0;31m`\u001b[0m\u001b[0;34m,\u001b[0m\u001b[0;31m \u001b[0m\u001b[0;31m`\u001b[0m\u001b[0mtype\u001b[0m\u001b[0;31m`\u001b[0m\u001b[0;34m,\u001b[0m\u001b[0;31m`\u001b[0m\u001b[0mcountry\u001b[0m\u001b[0;31m`\u001b[0m\u001b[0;34m,\u001b[0m\u001b[0;31m`\u001b[0m\u001b[0mactivity\u001b[0m\u001b[0;34m,\u001b[0m\u001b[0mage\u001b[0m\u001b[0;31m`\u001b[0m\u001b[0;34m,\u001b[0m\u001b[0;31m \u001b[0m\u001b[0;31m`\u001b[0m\u001b[0mspecies_\u001b[0m\u001b[0;31m`\u001b[0m\u001b[0;34m,\u001b[0m\u001b[0;31m \u001b[0m\u001b[0;31m`\u001b[0m\u001b[0mdate\u001b[0m\u001b[0;31m`\u001b[0m\u001b[0;34m,\u001b[0m\u001b[0;31m \u001b[0m\u001b[0;31m`\u001b[0m\u001b[0mmes_ataque\u001b[0m\u001b[0;31m`\u001b[0m\u001b[0;34m,\u001b[0m\u001b[0;31m \u001b[0m\u001b[0;31m`\u001b[0m\u001b[0mfatal\u001b[0m\u001b[0;31m`\u001b[0m\u001b[0;34m,\u001b[0m\u001b[0;31m \u001b[0m\u001b[0;31m`\u001b[0m\u001b[0msexo\u001b[0m\u001b[0;31m`\u001b[0m\u001b[0;34m,\u001b[0m\u001b[0;31m \u001b[0m\u001b[0;31m`\u001b[0m\u001b[0mcat_species\u001b[0m\u001b[0;31m`\u001b[0m\u001b[0;34m,\u001b[0m\u001b[0;31m \u001b[0m\u001b[0;31m`\u001b[0m\u001b[0mmes\u001b[0m\u001b[0;34m,\u001b[0m\u001b[0myear\u001b[0m\u001b[0;31m`\u001b[0m\u001b[0;34m,\u001b[0m\u001b[0;31m \u001b[0m\u001b[0;31m`\u001b[0m\u001b[0medades\u001b[0m\u001b[0;31m`\u001b[0m\u001b[0;34m)\u001b[0m\u001b[0;34m\u001b[0m\u001b[0;34m\u001b[0m\u001b[0m\n\u001b[0;32m----> 6\u001b[0;31m                 \u001b[0mVALUES\u001b[0m \u001b[0;34m(\u001b[0m \u001b[0;34m\"{fila[\"\u001b[0m\u001b[0mcase_number\u001b[0m\u001b[0;34m\"]}\"\u001b[0m\u001b[0;34m,\u001b[0m \u001b[0;34m\"{fila['type']}\"\u001b[0m\u001b[0;34m,\u001b[0m \u001b[0;34m\"{fila['country']}\"\u001b[0m\u001b[0;34m,\u001b[0m\u001b[0;34m\"{fila['activity']}\"\u001b[0m\u001b[0;34m,\u001b[0m\u001b[0;34m\"{fila['age']}\"\u001b[0m\u001b[0;34m,\u001b[0m \u001b[0;34m\"{fila['species_']}\"\u001b[0m\u001b[0;34m,\u001b[0m \u001b[0;34m\"{fila['date']}\"\u001b[0m\u001b[0;34m,\u001b[0m \u001b[0;34m\"{fila['mes_ataque']}\"\u001b[0m\u001b[0;34m,\u001b[0m \u001b[0;34m\"{fila['fatal']}\"\u001b[0m\u001b[0;34m,\u001b[0m \u001b[0;34m\"{fila['sexo']}\"\u001b[0m\u001b[0;34m,\u001b[0m \u001b[0;34m\"{fila['cat_species']}\"\u001b[0m\u001b[0;34m,\u001b[0m \u001b[0;34m\"{fila['mes']}\"\u001b[0m\u001b[0;34m,\u001b[0m \u001b[0;34m\"{fila['year']}\"\u001b[0m\u001b[0;34m,\u001b[0m\u001b[0;34m\"{fila['edades']}\"\u001b[0m\u001b[0;34m)\u001b[0m\u001b[0;34m;\u001b[0m\u001b[0;34m\u001b[0m\u001b[0;34m\u001b[0m\u001b[0m\n\u001b[0m\u001b[1;32m      7\u001b[0m                 \"\"\"\n\u001b[1;32m      8\u001b[0m \u001b[0;34m\u001b[0m\u001b[0m\n",
      "\u001b[0;32m~/anaconda3/lib/python3.9/site-packages/pandas/core/series.py\u001b[0m in \u001b[0;36m__getitem__\u001b[0;34m(self, key)\u001b[0m\n\u001b[1;32m    979\u001b[0m \u001b[0;34m\u001b[0m\u001b[0m\n\u001b[1;32m    980\u001b[0m         \u001b[0;32melif\u001b[0m \u001b[0mkey_is_scalar\u001b[0m\u001b[0;34m:\u001b[0m\u001b[0;34m\u001b[0m\u001b[0;34m\u001b[0m\u001b[0m\n\u001b[0;32m--> 981\u001b[0;31m             \u001b[0;32mreturn\u001b[0m \u001b[0mself\u001b[0m\u001b[0;34m.\u001b[0m\u001b[0m_get_value\u001b[0m\u001b[0;34m(\u001b[0m\u001b[0mkey\u001b[0m\u001b[0;34m)\u001b[0m\u001b[0;34m\u001b[0m\u001b[0;34m\u001b[0m\u001b[0m\n\u001b[0m\u001b[1;32m    982\u001b[0m \u001b[0;34m\u001b[0m\u001b[0m\n\u001b[1;32m    983\u001b[0m         \u001b[0;32mif\u001b[0m \u001b[0mis_hashable\u001b[0m\u001b[0;34m(\u001b[0m\u001b[0mkey\u001b[0m\u001b[0;34m)\u001b[0m\u001b[0;34m:\u001b[0m\u001b[0;34m\u001b[0m\u001b[0;34m\u001b[0m\u001b[0m\n",
      "\u001b[0;32m~/anaconda3/lib/python3.9/site-packages/pandas/core/series.py\u001b[0m in \u001b[0;36m_get_value\u001b[0;34m(self, label, takeable)\u001b[0m\n\u001b[1;32m   1087\u001b[0m \u001b[0;34m\u001b[0m\u001b[0m\n\u001b[1;32m   1088\u001b[0m         \u001b[0;31m# Similar to Index.get_value, but we do not fall back to positional\u001b[0m\u001b[0;34m\u001b[0m\u001b[0;34m\u001b[0m\u001b[0m\n\u001b[0;32m-> 1089\u001b[0;31m         \u001b[0mloc\u001b[0m \u001b[0;34m=\u001b[0m \u001b[0mself\u001b[0m\u001b[0;34m.\u001b[0m\u001b[0mindex\u001b[0m\u001b[0;34m.\u001b[0m\u001b[0mget_loc\u001b[0m\u001b[0;34m(\u001b[0m\u001b[0mlabel\u001b[0m\u001b[0;34m)\u001b[0m\u001b[0;34m\u001b[0m\u001b[0;34m\u001b[0m\u001b[0m\n\u001b[0m\u001b[1;32m   1090\u001b[0m         \u001b[0;32mreturn\u001b[0m \u001b[0mself\u001b[0m\u001b[0;34m.\u001b[0m\u001b[0mindex\u001b[0m\u001b[0;34m.\u001b[0m\u001b[0m_get_values_for_loc\u001b[0m\u001b[0;34m(\u001b[0m\u001b[0mself\u001b[0m\u001b[0;34m,\u001b[0m \u001b[0mloc\u001b[0m\u001b[0;34m,\u001b[0m \u001b[0mlabel\u001b[0m\u001b[0;34m)\u001b[0m\u001b[0;34m\u001b[0m\u001b[0;34m\u001b[0m\u001b[0m\n\u001b[1;32m   1091\u001b[0m \u001b[0;34m\u001b[0m\u001b[0m\n",
      "\u001b[0;32m~/anaconda3/lib/python3.9/site-packages/pandas/core/indexes/base.py\u001b[0m in \u001b[0;36mget_loc\u001b[0;34m(self, key, method, tolerance)\u001b[0m\n\u001b[1;32m   3803\u001b[0m                 \u001b[0;32mreturn\u001b[0m \u001b[0mself\u001b[0m\u001b[0;34m.\u001b[0m\u001b[0m_engine\u001b[0m\u001b[0;34m.\u001b[0m\u001b[0mget_loc\u001b[0m\u001b[0;34m(\u001b[0m\u001b[0mcasted_key\u001b[0m\u001b[0;34m)\u001b[0m\u001b[0;34m\u001b[0m\u001b[0;34m\u001b[0m\u001b[0m\n\u001b[1;32m   3804\u001b[0m             \u001b[0;32mexcept\u001b[0m \u001b[0mKeyError\u001b[0m \u001b[0;32mas\u001b[0m \u001b[0merr\u001b[0m\u001b[0;34m:\u001b[0m\u001b[0;34m\u001b[0m\u001b[0;34m\u001b[0m\u001b[0m\n\u001b[0;32m-> 3805\u001b[0;31m                 \u001b[0;32mraise\u001b[0m \u001b[0mKeyError\u001b[0m\u001b[0;34m(\u001b[0m\u001b[0mkey\u001b[0m\u001b[0;34m)\u001b[0m \u001b[0;32mfrom\u001b[0m \u001b[0merr\u001b[0m\u001b[0;34m\u001b[0m\u001b[0;34m\u001b[0m\u001b[0m\n\u001b[0m\u001b[1;32m   3806\u001b[0m             \u001b[0;32mexcept\u001b[0m \u001b[0mTypeError\u001b[0m\u001b[0;34m:\u001b[0m\u001b[0;34m\u001b[0m\u001b[0;34m\u001b[0m\u001b[0m\n\u001b[1;32m   3807\u001b[0m                 \u001b[0;31m# If we have a listlike key, _check_indexing_error will raise\u001b[0m\u001b[0;34m\u001b[0m\u001b[0;34m\u001b[0m\u001b[0m\n",
      "\u001b[0;31mKeyError\u001b[0m: 'case_number'"
     ]
    }
   ],
   "source": [
    "for indice, fila in df.iterrows():\n",
    "    \n",
    "    \n",
    "            query_datos_ataques = f\"\"\"\n",
    "                INSERT INTO ataques (`case_number`, `type`,`country`,`activity,age`, `species_`, `date`, `mes_ataque`, `fatal`, `sexo`, `cat_species`, `mes,year`, `edades`) \n",
    "                VALUES ( \"{fila[\"case_number\"]}\", \"{fila['type']}\", \"{fila['country']}\",\"{fila['activity']}\",\"{fila['age']}\", \"{fila['species_']}\", \"{fila['date']}\", \"{fila['mes_ataque']}\", \"{fila['fatal']}\", \"{fila['sexo']}\", \"{fila['cat_species']}\", \"{fila['mes']}\", \"{fila['year']}\",\"{fila['edades']}\");\n",
    "                \"\"\"\n",
    "\n",
    "\n",
    "\n",
    "            iniciacion.crear_insertar_tabla(query_datos_ataques)"
   ]
  }
 ],
 "metadata": {
  "kernelspec": {
   "display_name": "base",
   "language": "python",
   "name": "python3"
  },
  "language_info": {
   "codemirror_mode": {
    "name": "ipython",
    "version": 3
   },
   "file_extension": ".py",
   "mimetype": "text/x-python",
   "name": "python",
   "nbconvert_exporter": "python",
   "pygments_lexer": "ipython3",
   "version": "3.9.13"
  },
  "orig_nbformat": 4,
  "vscode": {
   "interpreter": {
    "hash": "a52af493819045717511545598ab2b73dabca4ca61b402315e0ef2b43666342d"
   }
  }
 },
 "nbformat": 4,
 "nbformat_minor": 2
}
