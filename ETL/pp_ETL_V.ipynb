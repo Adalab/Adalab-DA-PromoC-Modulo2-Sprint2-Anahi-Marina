{
 "cells": [
  {
   "attachments": {},
   "cell_type": "markdown",
   "metadata": {},
   "source": [
    "## PAIR PROGRAMMING ETL V\n",
    "\n",
    "### ETL Carga II - Clases y Funciones BBDD e inserción\n",
    "---"
   ]
  },
  {
   "cell_type": "markdown",
   "metadata": {},
   "source": [
    "Igual que en el ejercicio de pair programming de ETL Transformación II, tendréis que crear una clase que nos permita cargar los datos en SQL I."
   ]
  }
 ],
 "metadata": {
  "kernelspec": {
   "display_name": "Python 3",
   "language": "python",
   "name": "python3"
  },
  "language_info": {
   "name": "python",
   "version": "3.10.9 (tags/v3.10.9:1dd9be6, Dec  6 2022, 20:01:21) [MSC v.1934 64 bit (AMD64)]"
  },
  "orig_nbformat": 4,
  "vscode": {
   "interpreter": {
    "hash": "c35044999e900dc3950de5a8a71ff0d899cb03eb4aff52cc63ccc9819f96279d"
   }
  }
 },
 "nbformat": 4,
 "nbformat_minor": 2
}
