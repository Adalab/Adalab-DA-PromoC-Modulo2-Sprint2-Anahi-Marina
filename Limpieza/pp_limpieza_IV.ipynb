{
 "cells": [
  {
   "attachments": {},
   "cell_type": "markdown",
   "metadata": {},
   "source": [
    "## PAIR PROGRAMMING LIMPIEZA IV\n",
    "\n",
    "### Valores Nulos\n",
    "---"
   ]
  },
  {
   "cell_type": "code",
   "execution_count": 39,
   "metadata": {},
   "outputs": [],
   "source": [
    "import pandas as pd\n",
    "import seaborn as sns\n",
    "import matplotlib.pyplot as plt\n",
    "import numpy as np\n",
    "import sidetable"
   ]
  },
  {
   "attachments": {},
   "cell_type": "markdown",
   "metadata": {},
   "source": [
    "En este caso trabajaremos con el dataframe que limpiamos en el ejercicio de pair de Limpieza anterior, el de Limpieza III, donde limpiabamos las columnas de species, age, etc. y eliminabamos los outliers.\n",
    "​"
   ]
  },
  {
   "attachments": {},
   "cell_type": "markdown",
   "metadata": {},
   "source": [
    "Antes de seguir, recordamos las preguntas que nos planteamos al principio del pair programming de EDA para dirigir nuestro análisis.\n",
    "\n",
    "- ¿Es Australia es el sitio más peligroso y letal para estar relajada en la playa?\n",
    "- ¿Cuál es el rango de edad que sufre la mayoría de los ataques?\n",
    "- Independientemente de la edad, sufren los hombres más ataques que las mujeres?\n",
    "- ¿En qué mes ocurren más ataques?\n",
    "- ¿Cuál es la relación entre la especie y el tipo de ataque (si es fatal o no)?\n",
    "- ¿Cómo han evolucionado los ataques a lo largo del tiempo?"
   ]
  },
  {
   "attachments": {},
   "cell_type": "markdown",
   "metadata": {},
   "source": [
    "Actualizamos esta tabla ya que en el ejercicio de pair de Limpieza I y II ya dejamos algunas columnas limpitas:\n",
    "\n",
    "\n",
    "- age ✔️ la limpiamos en el pair de Limpieza II\n",
    "- species ✔️ la limpiamos en el pair de Limpieza II\n",
    "- country ✔️ la limpiamos en el pair de Limpieza II\n",
    "- fatal ✔️ la limpiamos en el pair de Pandas V\n",
    "- year ✔️ es una columna de tipo float deberíamos convertirla a integer\n",
    "- sex ✔️ la limpiamos en el pair de Pandas V\n",
    "- fecha ✔️ la limpiamos en el pair de Pandas V"
   ]
  },
  {
   "attachments": {},
   "cell_type": "markdown",
   "metadata": {},
   "source": [
    "Es el momento de ponernos a trabajar con los valores nulos 💪🏽.\n",
    "\n",
    "A lo largo de este ejercicio de pair programming vamos a intentar eliminar los valores nulos de nuestras columnas. En la lección hemos aprendido varios métodos, nosotras os planteamos los ejercicios pero sentiros libres de usar el método que más se adapte a vuestras necesidades. Manos a la obra!"
   ]
  },
  {
   "cell_type": "code",
   "execution_count": 40,
   "metadata": {},
   "outputs": [
    {
     "data": {
      "text/html": [
       "<div>\n",
       "<style scoped>\n",
       "    .dataframe tbody tr th:only-of-type {\n",
       "        vertical-align: middle;\n",
       "    }\n",
       "\n",
       "    .dataframe tbody tr th {\n",
       "        vertical-align: top;\n",
       "    }\n",
       "\n",
       "    .dataframe thead th {\n",
       "        text-align: right;\n",
       "    }\n",
       "</style>\n",
       "<table border=\"1\" class=\"dataframe\">\n",
       "  <thead>\n",
       "    <tr style=\"text-align: right;\">\n",
       "      <th></th>\n",
       "      <th>case_number</th>\n",
       "      <th>year</th>\n",
       "      <th>mes</th>\n",
       "      <th>sexo</th>\n",
       "      <th>edades</th>\n",
       "      <th>country</th>\n",
       "      <th>type</th>\n",
       "      <th>activity</th>\n",
       "      <th>fatal</th>\n",
       "      <th>cat_species</th>\n",
       "    </tr>\n",
       "  </thead>\n",
       "  <tbody>\n",
       "    <tr>\n",
       "      <th>632</th>\n",
       "      <td>2007.09.03.b</td>\n",
       "      <td>2007</td>\n",
       "      <td>Sep</td>\n",
       "      <td>F</td>\n",
       "      <td>12.0</td>\n",
       "      <td>usa</td>\n",
       "      <td>Unprovoked</td>\n",
       "      <td>Jumping</td>\n",
       "      <td>N</td>\n",
       "      <td>Unspecified</td>\n",
       "    </tr>\n",
       "    <tr>\n",
       "      <th>161</th>\n",
       "      <td>ND.0009</td>\n",
       "      <td>1997</td>\n",
       "      <td>NaN</td>\n",
       "      <td>M</td>\n",
       "      <td>NaN</td>\n",
       "      <td>australia</td>\n",
       "      <td>Unprovoked</td>\n",
       "      <td>Fishing</td>\n",
       "      <td>Y</td>\n",
       "      <td>Unspecified</td>\n",
       "    </tr>\n",
       "    <tr>\n",
       "      <th>1068</th>\n",
       "      <td>1994.11.13</td>\n",
       "      <td>1994</td>\n",
       "      <td>Nov</td>\n",
       "      <td>F</td>\n",
       "      <td>34.0</td>\n",
       "      <td>usa</td>\n",
       "      <td>Unprovoked</td>\n",
       "      <td>Surfing, paddling seawards</td>\n",
       "      <td>N</td>\n",
       "      <td>Unspecified</td>\n",
       "    </tr>\n",
       "    <tr>\n",
       "      <th>421</th>\n",
       "      <td>2012.09.24</td>\n",
       "      <td>2012</td>\n",
       "      <td>Sep</td>\n",
       "      <td>M</td>\n",
       "      <td>22.0</td>\n",
       "      <td>usa</td>\n",
       "      <td>Unprovoked</td>\n",
       "      <td>Surfing</td>\n",
       "      <td>N</td>\n",
       "      <td>Unspecified</td>\n",
       "    </tr>\n",
       "    <tr>\n",
       "      <th>100</th>\n",
       "      <td>ND.0081</td>\n",
       "      <td>1997</td>\n",
       "      <td>NaN</td>\n",
       "      <td>M</td>\n",
       "      <td>NaN</td>\n",
       "      <td>usa</td>\n",
       "      <td>Invalid</td>\n",
       "      <td>Diving</td>\n",
       "      <td>NaN</td>\n",
       "      <td>Unspecified</td>\n",
       "    </tr>\n",
       "  </tbody>\n",
       "</table>\n",
       "</div>"
      ],
      "text/plain": [
       "       case_number  year  mes sexo  edades    country        type  \\\n",
       "632   2007.09.03.b  2007  Sep    F    12.0        usa  Unprovoked   \n",
       "161        ND.0009  1997  NaN    M     NaN  australia  Unprovoked   \n",
       "1068    1994.11.13  1994  Nov    F    34.0        usa  Unprovoked   \n",
       "421     2012.09.24  2012  Sep    M    22.0        usa  Unprovoked   \n",
       "100        ND.0081  1997  NaN    M     NaN        usa     Invalid   \n",
       "\n",
       "                        activity fatal  cat_species  \n",
       "632                      Jumping     N  Unspecified  \n",
       "161                      Fishing     Y  Unspecified  \n",
       "1068  Surfing, paddling seawards     N  Unspecified  \n",
       "421                      Surfing     N  Unspecified  \n",
       "100                       Diving   NaN  Unspecified  "
      ]
     },
     "execution_count": 40,
     "metadata": {},
     "output_type": "execute_result"
    }
   ],
   "source": [
    "df = pd.read_pickle(\"../files/attacks10.pkl\")\n",
    "df.sample(5)"
   ]
  },
  {
   "attachments": {},
   "cell_type": "markdown",
   "metadata": {},
   "source": [
    "**EJERCICIO 1**\n",
    "\n",
    "Lo primero que tenemos que evaluar es en que columnas tenemos nulos y que cantidad tenemos en cada una. ¿Hay alguna columna con una gran cantidad de nulos? En caso de que sea así deberemos eliminarla."
   ]
  },
  {
   "cell_type": "code",
   "execution_count": 41,
   "metadata": {},
   "outputs": [
    {
     "data": {
      "text/html": [
       "<div>\n",
       "<style scoped>\n",
       "    .dataframe tbody tr th:only-of-type {\n",
       "        vertical-align: middle;\n",
       "    }\n",
       "\n",
       "    .dataframe tbody tr th {\n",
       "        vertical-align: top;\n",
       "    }\n",
       "\n",
       "    .dataframe thead th {\n",
       "        text-align: right;\n",
       "    }\n",
       "</style>\n",
       "<table border=\"1\" class=\"dataframe\">\n",
       "  <thead>\n",
       "    <tr style=\"text-align: right;\">\n",
       "      <th></th>\n",
       "      <th>missing</th>\n",
       "      <th>total</th>\n",
       "      <th>percent</th>\n",
       "    </tr>\n",
       "  </thead>\n",
       "  <tbody>\n",
       "    <tr>\n",
       "      <th>mes</th>\n",
       "      <td>170</td>\n",
       "      <td>1672</td>\n",
       "      <td>10.167</td>\n",
       "    </tr>\n",
       "    <tr>\n",
       "      <th>edades</th>\n",
       "      <td>162</td>\n",
       "      <td>1672</td>\n",
       "      <td>9.689</td>\n",
       "    </tr>\n",
       "    <tr>\n",
       "      <th>cat_species</th>\n",
       "      <td>126</td>\n",
       "      <td>1672</td>\n",
       "      <td>7.536</td>\n",
       "    </tr>\n",
       "    <tr>\n",
       "      <th>fatal</th>\n",
       "      <td>97</td>\n",
       "      <td>1672</td>\n",
       "      <td>5.801</td>\n",
       "    </tr>\n",
       "    <tr>\n",
       "      <th>activity</th>\n",
       "      <td>31</td>\n",
       "      <td>1672</td>\n",
       "      <td>1.854</td>\n",
       "    </tr>\n",
       "    <tr>\n",
       "      <th>sexo</th>\n",
       "      <td>14</td>\n",
       "      <td>1672</td>\n",
       "      <td>0.837</td>\n",
       "    </tr>\n",
       "    <tr>\n",
       "      <th>country</th>\n",
       "      <td>10</td>\n",
       "      <td>1672</td>\n",
       "      <td>0.598</td>\n",
       "    </tr>\n",
       "    <tr>\n",
       "      <th>case_number</th>\n",
       "      <td>0</td>\n",
       "      <td>1672</td>\n",
       "      <td>0.000</td>\n",
       "    </tr>\n",
       "    <tr>\n",
       "      <th>year</th>\n",
       "      <td>0</td>\n",
       "      <td>1672</td>\n",
       "      <td>0.000</td>\n",
       "    </tr>\n",
       "    <tr>\n",
       "      <th>type</th>\n",
       "      <td>0</td>\n",
       "      <td>1672</td>\n",
       "      <td>0.000</td>\n",
       "    </tr>\n",
       "  </tbody>\n",
       "</table>\n",
       "</div>"
      ],
      "text/plain": [
       "             missing  total  percent\n",
       "mes              170   1672   10.167\n",
       "edades           162   1672    9.689\n",
       "cat_species      126   1672    7.536\n",
       "fatal             97   1672    5.801\n",
       "activity          31   1672    1.854\n",
       "sexo              14   1672    0.837\n",
       "country           10   1672    0.598\n",
       "case_number        0   1672    0.000\n",
       "year               0   1672    0.000\n",
       "type               0   1672    0.000"
      ]
     },
     "execution_count": 41,
     "metadata": {},
     "output_type": "execute_result"
    }
   ],
   "source": [
    "# Comprobamos la cantidad total y porcentaje de valores nulos del DataFrame con el método stb.missing\n",
    "df.stb.missing().round(3)"
   ]
  },
  {
   "attachments": {},
   "cell_type": "markdown",
   "metadata": {},
   "source": [
    "    Vemos que las columnas que tienen nulos no superan el 10% del total de los datos,  por lo que consideramos mas conveniente reemplazar los valores nulos por una nueva categoria para seguir teniendo el registro de esos ataques en vez de eliminarlos."
   ]
  },
  {
   "cell_type": "code",
   "execution_count": 42,
   "metadata": {},
   "outputs": [],
   "source": [
    "# Almacenamos en un diccionario los índices de las filas que tienen valores nulos iterando por cada columna\n",
    "indices = [] \n",
    "for i in df.columns:\n",
    "    ind = list(df[df[i].isnull()].index)\n",
    "    indices.extend(ind)\n",
    "    indices"
   ]
  },
  {
   "cell_type": "code",
   "execution_count": 43,
   "metadata": {},
   "outputs": [],
   "source": [
    "# Convertimos el diccionario en set para eliminar los duplicados\n",
    "indices = list(set(indices))\n",
    "#indices"
   ]
  },
  {
   "cell_type": "code",
   "execution_count": 44,
   "metadata": {},
   "outputs": [
    {
     "data": {
      "text/html": [
       "<div>\n",
       "<style scoped>\n",
       "    .dataframe tbody tr th:only-of-type {\n",
       "        vertical-align: middle;\n",
       "    }\n",
       "\n",
       "    .dataframe tbody tr th {\n",
       "        vertical-align: top;\n",
       "    }\n",
       "\n",
       "    .dataframe thead th {\n",
       "        text-align: right;\n",
       "    }\n",
       "</style>\n",
       "<table border=\"1\" class=\"dataframe\">\n",
       "  <thead>\n",
       "    <tr style=\"text-align: right;\">\n",
       "      <th></th>\n",
       "      <th>case_number</th>\n",
       "      <th>year</th>\n",
       "      <th>mes</th>\n",
       "      <th>sexo</th>\n",
       "      <th>edades</th>\n",
       "      <th>country</th>\n",
       "      <th>type</th>\n",
       "      <th>activity</th>\n",
       "      <th>fatal</th>\n",
       "      <th>cat_species</th>\n",
       "    </tr>\n",
       "  </thead>\n",
       "  <tbody>\n",
       "    <tr>\n",
       "      <th>0</th>\n",
       "      <td>1800.00.00</td>\n",
       "      <td>1997</td>\n",
       "      <td>NaN</td>\n",
       "      <td>F</td>\n",
       "      <td>NaN</td>\n",
       "      <td>seychelles</td>\n",
       "      <td>Unprovoked</td>\n",
       "      <td>a corsair's boat was overturned</td>\n",
       "      <td>Y</td>\n",
       "      <td>NaN</td>\n",
       "    </tr>\n",
       "    <tr>\n",
       "      <th>1</th>\n",
       "      <td>1797.05.28.R</td>\n",
       "      <td>1997</td>\n",
       "      <td>May</td>\n",
       "      <td>NaN</td>\n",
       "      <td>NaN</td>\n",
       "      <td>NaN</td>\n",
       "      <td>Unprovoked</td>\n",
       "      <td>Dropped overboard</td>\n",
       "      <td>Y</td>\n",
       "      <td>NaN</td>\n",
       "    </tr>\n",
       "    <tr>\n",
       "      <th>2</th>\n",
       "      <td>1792.09.12</td>\n",
       "      <td>1997</td>\n",
       "      <td>Sep</td>\n",
       "      <td>M</td>\n",
       "      <td>NaN</td>\n",
       "      <td>england</td>\n",
       "      <td>Provoked</td>\n",
       "      <td>Fishing</td>\n",
       "      <td>Y</td>\n",
       "      <td>NaN</td>\n",
       "    </tr>\n",
       "    <tr>\n",
       "      <th>3</th>\n",
       "      <td>1791.00.00</td>\n",
       "      <td>1997</td>\n",
       "      <td>NaN</td>\n",
       "      <td>F</td>\n",
       "      <td>NaN</td>\n",
       "      <td>australia</td>\n",
       "      <td>Unprovoked</td>\n",
       "      <td>NaN</td>\n",
       "      <td>Y</td>\n",
       "      <td>NaN</td>\n",
       "    </tr>\n",
       "    <tr>\n",
       "      <th>4</th>\n",
       "      <td>1788.05.10</td>\n",
       "      <td>1997</td>\n",
       "      <td>May</td>\n",
       "      <td>NaN</td>\n",
       "      <td>NaN</td>\n",
       "      <td>australia</td>\n",
       "      <td>Boat</td>\n",
       "      <td>Fishing</td>\n",
       "      <td>N</td>\n",
       "      <td>NaN</td>\n",
       "    </tr>\n",
       "    <tr>\n",
       "      <th>...</th>\n",
       "      <td>...</td>\n",
       "      <td>...</td>\n",
       "      <td>...</td>\n",
       "      <td>...</td>\n",
       "      <td>...</td>\n",
       "      <td>...</td>\n",
       "      <td>...</td>\n",
       "      <td>...</td>\n",
       "      <td>...</td>\n",
       "      <td>...</td>\n",
       "    </tr>\n",
       "    <tr>\n",
       "      <th>494</th>\n",
       "      <td>2011.01.20</td>\n",
       "      <td>2011</td>\n",
       "      <td>Jan</td>\n",
       "      <td>F</td>\n",
       "      <td>7.0</td>\n",
       "      <td>australia</td>\n",
       "      <td>Invalid</td>\n",
       "      <td>Swimming</td>\n",
       "      <td>NaN</td>\n",
       "      <td>Unspecified</td>\n",
       "    </tr>\n",
       "    <tr>\n",
       "      <th>1521</th>\n",
       "      <td>1959.10.00</td>\n",
       "      <td>1959</td>\n",
       "      <td>NaN</td>\n",
       "      <td>M</td>\n",
       "      <td>36.0</td>\n",
       "      <td>fiji</td>\n",
       "      <td>Unprovoked</td>\n",
       "      <td>Spearfishing</td>\n",
       "      <td>N</td>\n",
       "      <td>Tiger</td>\n",
       "    </tr>\n",
       "    <tr>\n",
       "      <th>1523</th>\n",
       "      <td>1959.08.20</td>\n",
       "      <td>1959</td>\n",
       "      <td>Aug</td>\n",
       "      <td>M</td>\n",
       "      <td>10.0</td>\n",
       "      <td>philippines</td>\n",
       "      <td>Invalid</td>\n",
       "      <td>The 240-ton motor vessel Pilar II with 100 peo...</td>\n",
       "      <td>NaN</td>\n",
       "      <td>Unspecified</td>\n",
       "    </tr>\n",
       "    <tr>\n",
       "      <th>1020</th>\n",
       "      <td>1997.02.28.a</td>\n",
       "      <td>1997</td>\n",
       "      <td>Feb</td>\n",
       "      <td>M</td>\n",
       "      <td>NaN</td>\n",
       "      <td>australia</td>\n",
       "      <td>Unprovoked</td>\n",
       "      <td>Scuba diving</td>\n",
       "      <td>N</td>\n",
       "      <td>Tiger</td>\n",
       "    </tr>\n",
       "    <tr>\n",
       "      <th>529</th>\n",
       "      <td>2010.02.04</td>\n",
       "      <td>2010</td>\n",
       "      <td>Feb</td>\n",
       "      <td>M</td>\n",
       "      <td>31.0</td>\n",
       "      <td>guam</td>\n",
       "      <td>Invalid</td>\n",
       "      <td>Spearfishing (free diving)</td>\n",
       "      <td>NaN</td>\n",
       "      <td>Unspecified</td>\n",
       "    </tr>\n",
       "  </tbody>\n",
       "</table>\n",
       "<p>286 rows × 10 columns</p>\n",
       "</div>"
      ],
      "text/plain": [
       "       case_number  year  mes sexo  edades      country        type  \\\n",
       "0       1800.00.00  1997  NaN    F     NaN   seychelles  Unprovoked   \n",
       "1     1797.05.28.R  1997  May  NaN     NaN          NaN  Unprovoked   \n",
       "2       1792.09.12  1997  Sep    M     NaN      england    Provoked   \n",
       "3       1791.00.00  1997  NaN    F     NaN    australia  Unprovoked   \n",
       "4       1788.05.10  1997  May  NaN     NaN    australia        Boat   \n",
       "...            ...   ...  ...  ...     ...          ...         ...   \n",
       "494     2011.01.20  2011  Jan    F     7.0    australia     Invalid   \n",
       "1521    1959.10.00  1959  NaN    M    36.0         fiji  Unprovoked   \n",
       "1523    1959.08.20  1959  Aug    M    10.0  philippines     Invalid   \n",
       "1020  1997.02.28.a  1997  Feb    M     NaN    australia  Unprovoked   \n",
       "529     2010.02.04  2010  Feb    M    31.0         guam     Invalid   \n",
       "\n",
       "                                               activity fatal  cat_species  \n",
       "0                       a corsair's boat was overturned     Y          NaN  \n",
       "1                                     Dropped overboard     Y          NaN  \n",
       "2                                               Fishing     Y          NaN  \n",
       "3                                                   NaN     Y          NaN  \n",
       "4                                               Fishing     N          NaN  \n",
       "...                                                 ...   ...          ...  \n",
       "494                                            Swimming   NaN  Unspecified  \n",
       "1521                                       Spearfishing     N        Tiger  \n",
       "1523  The 240-ton motor vessel Pilar II with 100 peo...   NaN  Unspecified  \n",
       "1020                                       Scuba diving     N        Tiger  \n",
       "529                          Spearfishing (free diving)   NaN  Unspecified  \n",
       "\n",
       "[286 rows x 10 columns]"
      ]
     },
     "execution_count": 44,
     "metadata": {},
     "output_type": "execute_result"
    }
   ],
   "source": [
    "# Creamos un DataFrame con las filas que contienen valores nulos\n",
    "df_nulos = df.iloc[indices]\n",
    "df_nulos"
   ]
  },
  {
   "attachments": {},
   "cell_type": "markdown",
   "metadata": {},
   "source": [
    "---"
   ]
  },
  {
   "attachments": {},
   "cell_type": "markdown",
   "metadata": {},
   "source": [
    "**EJERCICIO 2**\n",
    "\n",
    "Es el momento de eliminar los nulos:"
   ]
  },
  {
   "attachments": {},
   "cell_type": "markdown",
   "metadata": {},
   "source": [
    "- Reemplazad los valores nulos de la columna age por la media de la edad, redondeada a dos decimales.\n"
   ]
  },
  {
   "cell_type": "code",
   "execution_count": 45,
   "metadata": {},
   "outputs": [],
   "source": [
    "# Utilizamos el método .fillna\n",
    "df['edades'].fillna(df['edades'].mean().round(2), inplace=True)"
   ]
  },
  {
   "cell_type": "code",
   "execution_count": 46,
   "metadata": {},
   "outputs": [
    {
     "data": {
      "text/plain": [
       "0"
      ]
     },
     "execution_count": 46,
     "metadata": {},
     "output_type": "execute_result"
    }
   ],
   "source": [
    "df['edades'].isnull().sum() # Comprobamos que no hay mas nulos en la columna 'edades'"
   ]
  },
  {
   "attachments": {},
   "cell_type": "markdown",
   "metadata": {},
   "source": [
    "- En relación a la columna de country al tratarse de una columna de tipo categórica, reemplazad los valores nulos por una nueva categória que se llame Unknown.\n"
   ]
  },
  {
   "cell_type": "code",
   "execution_count": 47,
   "metadata": {},
   "outputs": [],
   "source": [
    "# Utilizamos el método. replace\n",
    "df['country'].replace(np.nan, 'Unknow', inplace=True)"
   ]
  },
  {
   "cell_type": "code",
   "execution_count": 48,
   "metadata": {},
   "outputs": [
    {
     "data": {
      "text/plain": [
       "0"
      ]
     },
     "execution_count": 48,
     "metadata": {},
     "output_type": "execute_result"
    }
   ],
   "source": [
    "df['country'].isnull().sum() # Comprobamos que no hay mas nulos en la columna 'country'"
   ]
  },
  {
   "attachments": {},
   "cell_type": "markdown",
   "metadata": {},
   "source": [
    "- Reemplazad los valores nulos de la columna fatal por Unknown."
   ]
  },
  {
   "cell_type": "code",
   "execution_count": 49,
   "metadata": {},
   "outputs": [],
   "source": [
    "# Utilizamos el método .replace\n",
    "df['fatal'].replace(np.nan, 'Unknow', inplace=True)"
   ]
  },
  {
   "cell_type": "code",
   "execution_count": 50,
   "metadata": {},
   "outputs": [
    {
     "data": {
      "text/plain": [
       "0"
      ]
     },
     "execution_count": 50,
     "metadata": {},
     "output_type": "execute_result"
    }
   ],
   "source": [
    "df['fatal'].isnull().sum() # Comprobamos que no hay mas nulos en la columna 'fatal'"
   ]
  },
  {
   "attachments": {},
   "cell_type": "markdown",
   "metadata": {},
   "source": [
    "- Reemplazad los valores nulos de la columna type por el valor más frecuente (la moda).\n"
   ]
  },
  {
   "cell_type": "code",
   "execution_count": 51,
   "metadata": {},
   "outputs": [],
   "source": [
    "# Utilizamos el método .replace\n",
    "df['type'].replace(np.nan, df.type.mode()[0], inplace=True)"
   ]
  },
  {
   "cell_type": "code",
   "execution_count": 52,
   "metadata": {},
   "outputs": [
    {
     "data": {
      "text/plain": [
       "0"
      ]
     },
     "execution_count": 52,
     "metadata": {},
     "output_type": "execute_result"
    }
   ],
   "source": [
    "df['type'].isnull().sum() # Comprobamos que no hay mas nulos en la columna 'type'"
   ]
  },
  {
   "attachments": {},
   "cell_type": "markdown",
   "metadata": {},
   "source": [
    "- Reemplazad los valores nulos de la columna fecha por Unknown.\n"
   ]
  },
  {
   "cell_type": "code",
   "execution_count": 53,
   "metadata": {},
   "outputs": [],
   "source": [
    "# Utilizamos el método .replace\n",
    "df['mes'].replace(np.nan, 'Unknow', inplace= True)"
   ]
  },
  {
   "cell_type": "code",
   "execution_count": 54,
   "metadata": {},
   "outputs": [
    {
     "data": {
      "text/plain": [
       "0"
      ]
     },
     "execution_count": 54,
     "metadata": {},
     "output_type": "execute_result"
    }
   ],
   "source": [
    "df['mes'].isnull().sum() # Comprobamos que no hay mas nulos en la columna 'mes'"
   ]
  },
  {
   "cell_type": "code",
   "execution_count": 55,
   "metadata": {},
   "outputs": [
    {
     "data": {
      "text/html": [
       "<div>\n",
       "<style scoped>\n",
       "    .dataframe tbody tr th:only-of-type {\n",
       "        vertical-align: middle;\n",
       "    }\n",
       "\n",
       "    .dataframe tbody tr th {\n",
       "        vertical-align: top;\n",
       "    }\n",
       "\n",
       "    .dataframe thead th {\n",
       "        text-align: right;\n",
       "    }\n",
       "</style>\n",
       "<table border=\"1\" class=\"dataframe\">\n",
       "  <thead>\n",
       "    <tr style=\"text-align: right;\">\n",
       "      <th></th>\n",
       "      <th>missing</th>\n",
       "      <th>total</th>\n",
       "      <th>percent</th>\n",
       "    </tr>\n",
       "  </thead>\n",
       "  <tbody>\n",
       "    <tr>\n",
       "      <th>cat_species</th>\n",
       "      <td>126</td>\n",
       "      <td>1672</td>\n",
       "      <td>7.535885</td>\n",
       "    </tr>\n",
       "    <tr>\n",
       "      <th>activity</th>\n",
       "      <td>31</td>\n",
       "      <td>1672</td>\n",
       "      <td>1.854067</td>\n",
       "    </tr>\n",
       "    <tr>\n",
       "      <th>sexo</th>\n",
       "      <td>14</td>\n",
       "      <td>1672</td>\n",
       "      <td>0.837321</td>\n",
       "    </tr>\n",
       "    <tr>\n",
       "      <th>case_number</th>\n",
       "      <td>0</td>\n",
       "      <td>1672</td>\n",
       "      <td>0.000000</td>\n",
       "    </tr>\n",
       "    <tr>\n",
       "      <th>year</th>\n",
       "      <td>0</td>\n",
       "      <td>1672</td>\n",
       "      <td>0.000000</td>\n",
       "    </tr>\n",
       "    <tr>\n",
       "      <th>mes</th>\n",
       "      <td>0</td>\n",
       "      <td>1672</td>\n",
       "      <td>0.000000</td>\n",
       "    </tr>\n",
       "    <tr>\n",
       "      <th>edades</th>\n",
       "      <td>0</td>\n",
       "      <td>1672</td>\n",
       "      <td>0.000000</td>\n",
       "    </tr>\n",
       "    <tr>\n",
       "      <th>country</th>\n",
       "      <td>0</td>\n",
       "      <td>1672</td>\n",
       "      <td>0.000000</td>\n",
       "    </tr>\n",
       "    <tr>\n",
       "      <th>type</th>\n",
       "      <td>0</td>\n",
       "      <td>1672</td>\n",
       "      <td>0.000000</td>\n",
       "    </tr>\n",
       "    <tr>\n",
       "      <th>fatal</th>\n",
       "      <td>0</td>\n",
       "      <td>1672</td>\n",
       "      <td>0.000000</td>\n",
       "    </tr>\n",
       "  </tbody>\n",
       "</table>\n",
       "</div>"
      ],
      "text/plain": [
       "             missing  total   percent\n",
       "cat_species      126   1672  7.535885\n",
       "activity          31   1672  1.854067\n",
       "sexo              14   1672  0.837321\n",
       "case_number        0   1672  0.000000\n",
       "year               0   1672  0.000000\n",
       "mes                0   1672  0.000000\n",
       "edades             0   1672  0.000000\n",
       "country            0   1672  0.000000\n",
       "type               0   1672  0.000000\n",
       "fatal              0   1672  0.000000"
      ]
     },
     "execution_count": 55,
     "metadata": {},
     "output_type": "execute_result"
    }
   ],
   "source": [
    "df.stb.missing() # Comprobamos con el método stb.missing que no hay valores nulos en las cinco columnas modificadas en el ejercicio anterior"
   ]
  },
  {
   "attachments": {},
   "cell_type": "markdown",
   "metadata": {},
   "source": [
    "---"
   ]
  },
  {
   "attachments": {},
   "cell_type": "markdown",
   "metadata": {},
   "source": [
    "**EJERCICIO 3**\n",
    "\n",
    "Guardad el csv para seguir trabajando con el en los siguientes ejercicios de pair.\n"
   ]
  },
  {
   "cell_type": "code",
   "execution_count": 56,
   "metadata": {},
   "outputs": [],
   "source": [
    "df.to_pickle('../files/attacks11.pkl')"
   ]
  }
 ],
 "metadata": {
  "kernelspec": {
   "display_name": "base",
   "language": "python",
   "name": "python3"
  },
  "language_info": {
   "codemirror_mode": {
    "name": "ipython",
    "version": 3
   },
   "file_extension": ".py",
   "mimetype": "text/x-python",
   "name": "python",
   "nbconvert_exporter": "python",
   "pygments_lexer": "ipython3",
   "version": "3.9.13"
  },
  "orig_nbformat": 4,
  "vscode": {
   "interpreter": {
    "hash": "a52af493819045717511545598ab2b73dabca4ca61b402315e0ef2b43666342d"
   }
  }
 },
 "nbformat": 4,
 "nbformat_minor": 2
}
