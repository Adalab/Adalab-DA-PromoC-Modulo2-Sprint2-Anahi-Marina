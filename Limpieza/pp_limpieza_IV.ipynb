{
 "cells": [
  {
   "attachments": {},
   "cell_type": "markdown",
   "metadata": {},
   "source": [
    "## PAIR PROGRAMMING LIMPIEZA IV\n",
    "\n",
    "### Valores Nulos\n",
    "---"
   ]
  },
  {
   "attachments": {},
   "cell_type": "markdown",
   "metadata": {},
   "source": [
    "En este caso trabajaremos con el dataframe que limpiamos en el ejercicio de pair de Limpieza anterior, el de Limpieza III, donde limpiabamos las columnas de species, age, etc. y eliminabamos los outliers.\n",
    "​"
   ]
  },
  {
   "attachments": {},
   "cell_type": "markdown",
   "metadata": {},
   "source": [
    "Antes de seguir, recordamos las preguntas que nos planteamos al principio del pair programming de EDA para dirigir nuestro análisis.\n",
    "\n",
    "- ¿Es Australia es el sitio más peligroso y letal para estar relajada en la playa?\n",
    "- ¿Cuál es el rango de edad que sufre la mayoría de los ataques?\n",
    "- Independientemente de la edad, sufren los hombres más ataques que las mujeres?\n",
    "- ¿En qué mes ocurren más ataques?\n",
    "- ¿Cuál es la relación entre la especie y el tipo de ataque (si es fatal o no)?\n",
    "- ¿Cómo han evolucionado los ataques a lo largo del tiempo?"
   ]
  },
  {
   "attachments": {},
   "cell_type": "markdown",
   "metadata": {},
   "source": [
    "Actualizamos esta tabla ya que en el ejercicio de pair de Limpieza I y II ya dejamos algunas columnas limpitas:\n",
    "\n",
    "\n",
    "- age ✔️ la limpiamos en el pair de Limpieza II\n",
    "- species ✔️ la limpiamos en el pair de Limpieza II\n",
    "- country ✔️ la limpiamos en el pair de Limpieza II\n",
    "- fatal ✔️ la limpiamos en el pair de Pandas V\n",
    "- year ✔️ es una columna de tipo float deberíamos convertirla a integer\n",
    "- sex ✔️ la limpiamos en el pair de Pandas V\n",
    "- fecha ✔️ la limpiamos en el pair de Pandas V"
   ]
  },
  {
   "attachments": {},
   "cell_type": "markdown",
   "metadata": {},
   "source": [
    "Es el momento de ponernos a trabajar con los valores nulos 💪🏽.\n",
    "\n",
    "A lo largo de este ejercicio de pair programming vamos a intentar eliminar los valores nulos de nuestras columnas. En la lección hemos aprendido varios métodos, nosotras os planteamos los ejercicios pero sentiros libres de usar el método que más se adapte a vuestras necesidades. Manos a la obra!"
   ]
  },
  {
   "cell_type": "code",
   "execution_count": 1,
   "metadata": {},
   "outputs": [],
   "source": [
    "import pandas as pd\n",
    "import seaborn as sns\n",
    "import matplotlib.pyplot as plt\n",
    "import numpy as np\n",
    "import sidetable"
   ]
  },
  {
   "cell_type": "code",
   "execution_count": 2,
   "metadata": {},
   "outputs": [
    {
     "data": {
      "text/html": [
       "<div>\n",
       "<style scoped>\n",
       "    .dataframe tbody tr th:only-of-type {\n",
       "        vertical-align: middle;\n",
       "    }\n",
       "\n",
       "    .dataframe tbody tr th {\n",
       "        vertical-align: top;\n",
       "    }\n",
       "\n",
       "    .dataframe thead th {\n",
       "        text-align: right;\n",
       "    }\n",
       "</style>\n",
       "<table border=\"1\" class=\"dataframe\">\n",
       "  <thead>\n",
       "    <tr style=\"text-align: right;\">\n",
       "      <th></th>\n",
       "      <th>case_number</th>\n",
       "      <th>year</th>\n",
       "      <th>type</th>\n",
       "      <th>country</th>\n",
       "      <th>activity</th>\n",
       "      <th>age</th>\n",
       "      <th>species_</th>\n",
       "      <th>date</th>\n",
       "      <th>mes_ataque</th>\n",
       "      <th>fatal</th>\n",
       "      <th>sexo</th>\n",
       "      <th>cat_species</th>\n",
       "      <th>edades</th>\n",
       "      <th>mes</th>\n",
       "    </tr>\n",
       "  </thead>\n",
       "  <tbody>\n",
       "    <tr>\n",
       "      <th>867</th>\n",
       "      <td>2002.07.20</td>\n",
       "      <td>2002</td>\n",
       "      <td>Unprovoked</td>\n",
       "      <td>usa</td>\n",
       "      <td>Swimming</td>\n",
       "      <td>15</td>\n",
       "      <td>Bull shark, 1.8 m to 2.1 m [6' to 7']</td>\n",
       "      <td>20-Jul-2002</td>\n",
       "      <td>Jul</td>\n",
       "      <td>N</td>\n",
       "      <td>F</td>\n",
       "      <td>Bull</td>\n",
       "      <td>15.0</td>\n",
       "      <td>Jul</td>\n",
       "    </tr>\n",
       "    <tr>\n",
       "      <th>310</th>\n",
       "      <td>2015.04.12</td>\n",
       "      <td>2015</td>\n",
       "      <td>Unprovoked</td>\n",
       "      <td>reunion</td>\n",
       "      <td>Surfing</td>\n",
       "      <td>13</td>\n",
       "      <td>Bull shark</td>\n",
       "      <td>12-Apr-2015</td>\n",
       "      <td>Apr</td>\n",
       "      <td>Y</td>\n",
       "      <td>M</td>\n",
       "      <td>Bull</td>\n",
       "      <td>13.0</td>\n",
       "      <td>Apr</td>\n",
       "    </tr>\n",
       "    <tr>\n",
       "      <th>1520</th>\n",
       "      <td>1959.10.04</td>\n",
       "      <td>1959</td>\n",
       "      <td>Unprovoked</td>\n",
       "      <td>usa</td>\n",
       "      <td>Diving for abalone</td>\n",
       "      <td>30</td>\n",
       "      <td>White shark, 5 m [16.5'], identified by Dr. W....</td>\n",
       "      <td>04-Oct-1959</td>\n",
       "      <td>Oct</td>\n",
       "      <td>N</td>\n",
       "      <td>M</td>\n",
       "      <td>White</td>\n",
       "      <td>30.0</td>\n",
       "      <td>Oct</td>\n",
       "    </tr>\n",
       "    <tr>\n",
       "      <th>55</th>\n",
       "      <td>ND-0148</td>\n",
       "      <td>1997</td>\n",
       "      <td>Unprovoked</td>\n",
       "      <td>usa</td>\n",
       "      <td>Swimming</td>\n",
       "      <td>NaN</td>\n",
       "      <td>NaN</td>\n",
       "      <td>2009?</td>\n",
       "      <td>NaN</td>\n",
       "      <td>N</td>\n",
       "      <td>M</td>\n",
       "      <td>NaN</td>\n",
       "      <td>NaN</td>\n",
       "      <td>NaN</td>\n",
       "    </tr>\n",
       "    <tr>\n",
       "      <th>1555</th>\n",
       "      <td>1957.04.13</td>\n",
       "      <td>1957</td>\n",
       "      <td>Unprovoked</td>\n",
       "      <td>australia</td>\n",
       "      <td>Swimming between  anchored  pearling luggers</td>\n",
       "      <td>22</td>\n",
       "      <td>Shark seen feeding on turtle scraps thrown ove...</td>\n",
       "      <td>13-Apr-1957</td>\n",
       "      <td>Apr</td>\n",
       "      <td>N</td>\n",
       "      <td>M</td>\n",
       "      <td>Unspecified</td>\n",
       "      <td>22.0</td>\n",
       "      <td>Apr</td>\n",
       "    </tr>\n",
       "  </tbody>\n",
       "</table>\n",
       "</div>"
      ],
      "text/plain": [
       "     case_number  year        type    country  \\\n",
       "867   2002.07.20  2002  Unprovoked        usa   \n",
       "310   2015.04.12  2015  Unprovoked    reunion   \n",
       "1520  1959.10.04  1959  Unprovoked        usa   \n",
       "55       ND-0148  1997  Unprovoked        usa   \n",
       "1555  1957.04.13  1957  Unprovoked  australia   \n",
       "\n",
       "                                          activity  age  \\\n",
       "867                                       Swimming   15   \n",
       "310                                        Surfing   13   \n",
       "1520                            Diving for abalone   30   \n",
       "55                                        Swimming  NaN   \n",
       "1555  Swimming between  anchored  pearling luggers   22   \n",
       "\n",
       "                                               species_         date  \\\n",
       "867              Bull shark, 1.8 m to 2.1 m [6' to 7']   20-Jul-2002   \n",
       "310                                          Bull shark  12-Apr-2015   \n",
       "1520  White shark, 5 m [16.5'], identified by Dr. W....  04-Oct-1959   \n",
       "55                                                  NaN        2009?   \n",
       "1555  Shark seen feeding on turtle scraps thrown ove...  13-Apr-1957   \n",
       "\n",
       "     mes_ataque fatal sexo  cat_species  edades  mes  \n",
       "867        Jul      N    F         Bull    15.0  Jul  \n",
       "310        Apr      Y    M         Bull    13.0  Apr  \n",
       "1520       Oct      N    M        White    30.0  Oct  \n",
       "55          NaN     N    M          NaN     NaN  NaN  \n",
       "1555       Apr      N    M  Unspecified    22.0  Apr  "
      ]
     },
     "execution_count": 2,
     "metadata": {},
     "output_type": "execute_result"
    }
   ],
   "source": [
    "df = pd.read_pickle(\"../files/attacks10.pickle\")\n",
    "df.sample(5)"
   ]
  },
  {
   "cell_type": "code",
   "execution_count": 39,
   "metadata": {},
   "outputs": [],
   "source": [
    "#df['rango_edad']= pd.cut(df['edades'], 3 , labels = ['Jovenes', 'Adultos', 'Ancianos'])\n",
    "#df.head()"
   ]
  },
  {
   "attachments": {},
   "cell_type": "markdown",
   "metadata": {},
   "source": [
    "**EJERCICIO 1**\n",
    "\n",
    "Lo primero que tenemos que evaluar es en que columnas tenemos nulos y que cantidad tenemos en cada una. ¿Hay alguna columna con una gran cantidad de nulos? En caso de que sea así deberemos eliminarla."
   ]
  },
  {
   "cell_type": "code",
   "execution_count": 40,
   "metadata": {},
   "outputs": [
    {
     "data": {
      "text/html": [
       "<div>\n",
       "<style scoped>\n",
       "    .dataframe tbody tr th:only-of-type {\n",
       "        vertical-align: middle;\n",
       "    }\n",
       "\n",
       "    .dataframe tbody tr th {\n",
       "        vertical-align: top;\n",
       "    }\n",
       "\n",
       "    .dataframe thead th {\n",
       "        text-align: right;\n",
       "    }\n",
       "</style>\n",
       "<table border=\"1\" class=\"dataframe\">\n",
       "  <thead>\n",
       "    <tr style=\"text-align: right;\">\n",
       "      <th></th>\n",
       "      <th>missing</th>\n",
       "      <th>total</th>\n",
       "      <th>percent</th>\n",
       "    </tr>\n",
       "  </thead>\n",
       "  <tbody>\n",
       "    <tr>\n",
       "      <th>mes</th>\n",
       "      <td>170</td>\n",
       "      <td>1672</td>\n",
       "      <td>10.167</td>\n",
       "    </tr>\n",
       "    <tr>\n",
       "      <th>edades</th>\n",
       "      <td>162</td>\n",
       "      <td>1672</td>\n",
       "      <td>9.689</td>\n",
       "    </tr>\n",
       "    <tr>\n",
       "      <th>age</th>\n",
       "      <td>154</td>\n",
       "      <td>1672</td>\n",
       "      <td>9.211</td>\n",
       "    </tr>\n",
       "    <tr>\n",
       "      <th>mes_ataque</th>\n",
       "      <td>141</td>\n",
       "      <td>1672</td>\n",
       "      <td>8.433</td>\n",
       "    </tr>\n",
       "    <tr>\n",
       "      <th>species_</th>\n",
       "      <td>126</td>\n",
       "      <td>1672</td>\n",
       "      <td>7.536</td>\n",
       "    </tr>\n",
       "    <tr>\n",
       "      <th>cat_species</th>\n",
       "      <td>126</td>\n",
       "      <td>1672</td>\n",
       "      <td>7.536</td>\n",
       "    </tr>\n",
       "    <tr>\n",
       "      <th>fatal</th>\n",
       "      <td>97</td>\n",
       "      <td>1672</td>\n",
       "      <td>5.801</td>\n",
       "    </tr>\n",
       "    <tr>\n",
       "      <th>activity</th>\n",
       "      <td>31</td>\n",
       "      <td>1672</td>\n",
       "      <td>1.854</td>\n",
       "    </tr>\n",
       "    <tr>\n",
       "      <th>sexo</th>\n",
       "      <td>14</td>\n",
       "      <td>1672</td>\n",
       "      <td>0.837</td>\n",
       "    </tr>\n",
       "    <tr>\n",
       "      <th>country</th>\n",
       "      <td>10</td>\n",
       "      <td>1672</td>\n",
       "      <td>0.598</td>\n",
       "    </tr>\n",
       "    <tr>\n",
       "      <th>case_number</th>\n",
       "      <td>0</td>\n",
       "      <td>1672</td>\n",
       "      <td>0.000</td>\n",
       "    </tr>\n",
       "    <tr>\n",
       "      <th>year</th>\n",
       "      <td>0</td>\n",
       "      <td>1672</td>\n",
       "      <td>0.000</td>\n",
       "    </tr>\n",
       "    <tr>\n",
       "      <th>type</th>\n",
       "      <td>0</td>\n",
       "      <td>1672</td>\n",
       "      <td>0.000</td>\n",
       "    </tr>\n",
       "    <tr>\n",
       "      <th>date</th>\n",
       "      <td>0</td>\n",
       "      <td>1672</td>\n",
       "      <td>0.000</td>\n",
       "    </tr>\n",
       "  </tbody>\n",
       "</table>\n",
       "</div>"
      ],
      "text/plain": [
       "             missing  total  percent\n",
       "mes              170   1672   10.167\n",
       "edades           162   1672    9.689\n",
       "age              154   1672    9.211\n",
       "mes_ataque       141   1672    8.433\n",
       "species_         126   1672    7.536\n",
       "cat_species      126   1672    7.536\n",
       "fatal             97   1672    5.801\n",
       "activity          31   1672    1.854\n",
       "sexo              14   1672    0.837\n",
       "country           10   1672    0.598\n",
       "case_number        0   1672    0.000\n",
       "year               0   1672    0.000\n",
       "type               0   1672    0.000\n",
       "date               0   1672    0.000"
      ]
     },
     "execution_count": 40,
     "metadata": {},
     "output_type": "execute_result"
    }
   ],
   "source": [
    "# Comprobamos la cantidad total y porcentaje de valores nulos del DataFrame con el método stb.missing\n",
    "df.stb.missing().round(3)"
   ]
  },
  {
   "attachments": {},
   "cell_type": "markdown",
   "metadata": {},
   "source": [
    "    Vemos que las columnas que tienen nulos no superan el 10% del total de los datos,  por lo que consideramos mas conveniente reemplazar los valores nulos por una nueva categoria para seguir teniendo el registro de esos ataques en vez de eliminarlos."
   ]
  },
  {
   "cell_type": "code",
   "execution_count": null,
   "metadata": {},
   "outputs": [],
   "source": [
    "# Almacenamos en un diccionario los índices de las filas que tienen valores nulos iterando por cada columna\n",
    "indices = [] \n",
    "for i in df.columns:\n",
    "    ind = list(df[df[i].isnull()].index)\n",
    "    indices.extend(ind)\n",
    "indices"
   ]
  },
  {
   "cell_type": "code",
   "execution_count": null,
   "metadata": {},
   "outputs": [],
   "source": [
    "# Convertimos el diccionario en set para eliminar los duplicados\n",
    "indices = list(set(indices))\n",
    "indices"
   ]
  },
  {
   "cell_type": "code",
   "execution_count": 43,
   "metadata": {},
   "outputs": [
    {
     "data": {
      "text/html": [
       "<div>\n",
       "<style scoped>\n",
       "    .dataframe tbody tr th:only-of-type {\n",
       "        vertical-align: middle;\n",
       "    }\n",
       "\n",
       "    .dataframe tbody tr th {\n",
       "        vertical-align: top;\n",
       "    }\n",
       "\n",
       "    .dataframe thead th {\n",
       "        text-align: right;\n",
       "    }\n",
       "</style>\n",
       "<table border=\"1\" class=\"dataframe\">\n",
       "  <thead>\n",
       "    <tr style=\"text-align: right;\">\n",
       "      <th></th>\n",
       "      <th>case_number</th>\n",
       "      <th>year</th>\n",
       "      <th>type</th>\n",
       "      <th>country</th>\n",
       "      <th>activity</th>\n",
       "      <th>age</th>\n",
       "      <th>species_</th>\n",
       "      <th>date</th>\n",
       "      <th>mes_ataque</th>\n",
       "      <th>fatal</th>\n",
       "      <th>sexo</th>\n",
       "      <th>cat_species</th>\n",
       "      <th>edades</th>\n",
       "      <th>mes</th>\n",
       "    </tr>\n",
       "  </thead>\n",
       "  <tbody>\n",
       "    <tr>\n",
       "      <th>0</th>\n",
       "      <td>1800.00.00</td>\n",
       "      <td>1997</td>\n",
       "      <td>Unprovoked</td>\n",
       "      <td>seychelles</td>\n",
       "      <td>a corsair's boat was overturned</td>\n",
       "      <td>NaN</td>\n",
       "      <td>NaN</td>\n",
       "      <td>1800</td>\n",
       "      <td>NaN</td>\n",
       "      <td>Y</td>\n",
       "      <td>F</td>\n",
       "      <td>NaN</td>\n",
       "      <td>NaN</td>\n",
       "      <td>NaN</td>\n",
       "    </tr>\n",
       "    <tr>\n",
       "      <th>1</th>\n",
       "      <td>1797.05.28.R</td>\n",
       "      <td>1997</td>\n",
       "      <td>Unprovoked</td>\n",
       "      <td>NaN</td>\n",
       "      <td>Dropped overboard</td>\n",
       "      <td>NaN</td>\n",
       "      <td>NaN</td>\n",
       "      <td>Reported May-28-1797</td>\n",
       "      <td>May</td>\n",
       "      <td>Y</td>\n",
       "      <td>NaN</td>\n",
       "      <td>NaN</td>\n",
       "      <td>NaN</td>\n",
       "      <td>May</td>\n",
       "    </tr>\n",
       "    <tr>\n",
       "      <th>2</th>\n",
       "      <td>1792.09.12</td>\n",
       "      <td>1997</td>\n",
       "      <td>Provoked</td>\n",
       "      <td>england</td>\n",
       "      <td>Fishing</td>\n",
       "      <td>NaN</td>\n",
       "      <td>NaN</td>\n",
       "      <td>12-Sep-1792</td>\n",
       "      <td>Sep</td>\n",
       "      <td>Y</td>\n",
       "      <td>M</td>\n",
       "      <td>NaN</td>\n",
       "      <td>NaN</td>\n",
       "      <td>Sep</td>\n",
       "    </tr>\n",
       "    <tr>\n",
       "      <th>3</th>\n",
       "      <td>1791.00.00</td>\n",
       "      <td>1997</td>\n",
       "      <td>Unprovoked</td>\n",
       "      <td>australia</td>\n",
       "      <td>NaN</td>\n",
       "      <td>NaN</td>\n",
       "      <td>NaN</td>\n",
       "      <td>1791</td>\n",
       "      <td>NaN</td>\n",
       "      <td>Y</td>\n",
       "      <td>F</td>\n",
       "      <td>NaN</td>\n",
       "      <td>NaN</td>\n",
       "      <td>NaN</td>\n",
       "    </tr>\n",
       "    <tr>\n",
       "      <th>4</th>\n",
       "      <td>1788.05.10</td>\n",
       "      <td>1997</td>\n",
       "      <td>Boat</td>\n",
       "      <td>australia</td>\n",
       "      <td>Fishing</td>\n",
       "      <td>NaN</td>\n",
       "      <td>NaN</td>\n",
       "      <td>10-May-1788</td>\n",
       "      <td>May</td>\n",
       "      <td>N</td>\n",
       "      <td>NaN</td>\n",
       "      <td>NaN</td>\n",
       "      <td>NaN</td>\n",
       "      <td>May</td>\n",
       "    </tr>\n",
       "    <tr>\n",
       "      <th>...</th>\n",
       "      <td>...</td>\n",
       "      <td>...</td>\n",
       "      <td>...</td>\n",
       "      <td>...</td>\n",
       "      <td>...</td>\n",
       "      <td>...</td>\n",
       "      <td>...</td>\n",
       "      <td>...</td>\n",
       "      <td>...</td>\n",
       "      <td>...</td>\n",
       "      <td>...</td>\n",
       "      <td>...</td>\n",
       "      <td>...</td>\n",
       "      <td>...</td>\n",
       "    </tr>\n",
       "    <tr>\n",
       "      <th>494</th>\n",
       "      <td>2011.01.20</td>\n",
       "      <td>2011</td>\n",
       "      <td>Invalid</td>\n",
       "      <td>australia</td>\n",
       "      <td>Swimming</td>\n",
       "      <td>7</td>\n",
       "      <td>Shark involvement not confirmed</td>\n",
       "      <td>20-Jan-2011</td>\n",
       "      <td>Jan</td>\n",
       "      <td>NaN</td>\n",
       "      <td>F</td>\n",
       "      <td>Unspecified</td>\n",
       "      <td>7.0</td>\n",
       "      <td>Jan</td>\n",
       "    </tr>\n",
       "    <tr>\n",
       "      <th>1521</th>\n",
       "      <td>1959.10.00</td>\n",
       "      <td>1959</td>\n",
       "      <td>Unprovoked</td>\n",
       "      <td>fiji</td>\n",
       "      <td>Spearfishing</td>\n",
       "      <td>36</td>\n",
       "      <td>Tiger shark, 1.8 m [6']</td>\n",
       "      <td>Oct-1959</td>\n",
       "      <td>Oct</td>\n",
       "      <td>N</td>\n",
       "      <td>M</td>\n",
       "      <td>Tiger</td>\n",
       "      <td>36.0</td>\n",
       "      <td>NaN</td>\n",
       "    </tr>\n",
       "    <tr>\n",
       "      <th>1523</th>\n",
       "      <td>1959.08.20</td>\n",
       "      <td>1959</td>\n",
       "      <td>Invalid</td>\n",
       "      <td>philippines</td>\n",
       "      <td>The 240-ton motor vessel Pilar II with 100 peo...</td>\n",
       "      <td>10</td>\n",
       "      <td>Shark involvement prior to death was not confi...</td>\n",
       "      <td>20-Aug-1959</td>\n",
       "      <td>Aug</td>\n",
       "      <td>NaN</td>\n",
       "      <td>M</td>\n",
       "      <td>Unspecified</td>\n",
       "      <td>10.0</td>\n",
       "      <td>Aug</td>\n",
       "    </tr>\n",
       "    <tr>\n",
       "      <th>1020</th>\n",
       "      <td>1997.02.28.a</td>\n",
       "      <td>1997</td>\n",
       "      <td>Unprovoked</td>\n",
       "      <td>australia</td>\n",
       "      <td>Scuba diving</td>\n",
       "      <td>30</td>\n",
       "      <td>Tiger shark, 2m to 3m</td>\n",
       "      <td>28-Feb-1997</td>\n",
       "      <td>Feb</td>\n",
       "      <td>N</td>\n",
       "      <td>M</td>\n",
       "      <td>Tiger</td>\n",
       "      <td>NaN</td>\n",
       "      <td>Feb</td>\n",
       "    </tr>\n",
       "    <tr>\n",
       "      <th>529</th>\n",
       "      <td>2010.02.04</td>\n",
       "      <td>2010</td>\n",
       "      <td>Invalid</td>\n",
       "      <td>guam</td>\n",
       "      <td>Spearfishing (free diving)</td>\n",
       "      <td>31</td>\n",
       "      <td>Invalid</td>\n",
       "      <td>04-Feb-2010</td>\n",
       "      <td>Feb</td>\n",
       "      <td>NaN</td>\n",
       "      <td>M</td>\n",
       "      <td>Unspecified</td>\n",
       "      <td>31.0</td>\n",
       "      <td>Feb</td>\n",
       "    </tr>\n",
       "  </tbody>\n",
       "</table>\n",
       "<p>286 rows × 14 columns</p>\n",
       "</div>"
      ],
      "text/plain": [
       "       case_number  year        type      country  \\\n",
       "0       1800.00.00  1997  Unprovoked   seychelles   \n",
       "1     1797.05.28.R  1997  Unprovoked          NaN   \n",
       "2       1792.09.12  1997    Provoked      england   \n",
       "3       1791.00.00  1997  Unprovoked    australia   \n",
       "4       1788.05.10  1997        Boat    australia   \n",
       "...            ...   ...         ...          ...   \n",
       "494     2011.01.20  2011     Invalid    australia   \n",
       "1521    1959.10.00  1959  Unprovoked         fiji   \n",
       "1523    1959.08.20  1959     Invalid  philippines   \n",
       "1020  1997.02.28.a  1997  Unprovoked    australia   \n",
       "529     2010.02.04  2010     Invalid         guam   \n",
       "\n",
       "                                               activity  age  \\\n",
       "0                       a corsair's boat was overturned  NaN   \n",
       "1                                     Dropped overboard  NaN   \n",
       "2                                               Fishing  NaN   \n",
       "3                                                   NaN  NaN   \n",
       "4                                               Fishing  NaN   \n",
       "...                                                 ...  ...   \n",
       "494                                            Swimming    7   \n",
       "1521                                       Spearfishing   36   \n",
       "1523  The 240-ton motor vessel Pilar II with 100 peo...   10   \n",
       "1020                                       Scuba diving   30   \n",
       "529                          Spearfishing (free diving)   31   \n",
       "\n",
       "                                               species_                  date  \\\n",
       "0                                                   NaN                  1800   \n",
       "1                                                   NaN  Reported May-28-1797   \n",
       "2                                                   NaN           12-Sep-1792   \n",
       "3                                                   NaN                  1791   \n",
       "4                                                   NaN           10-May-1788   \n",
       "...                                                 ...                   ...   \n",
       "494                     Shark involvement not confirmed           20-Jan-2011   \n",
       "1521                            Tiger shark, 1.8 m [6']              Oct-1959   \n",
       "1523  Shark involvement prior to death was not confi...           20-Aug-1959   \n",
       "1020                             Tiger shark, 2m to 3m            28-Feb-1997   \n",
       "529                                             Invalid           04-Feb-2010   \n",
       "\n",
       "     mes_ataque fatal sexo  cat_species  edades  mes  \n",
       "0           NaN     Y    F          NaN     NaN  NaN  \n",
       "1          May      Y  NaN          NaN     NaN  May  \n",
       "2          Sep      Y    M          NaN     NaN  Sep  \n",
       "3           NaN     Y    F          NaN     NaN  NaN  \n",
       "4          May      N  NaN          NaN     NaN  May  \n",
       "...         ...   ...  ...          ...     ...  ...  \n",
       "494        Jan    NaN    F  Unspecified     7.0  Jan  \n",
       "1521       Oct      N    M        Tiger    36.0  NaN  \n",
       "1523       Aug    NaN    M  Unspecified    10.0  Aug  \n",
       "1020       Feb      N    M        Tiger     NaN  Feb  \n",
       "529        Feb    NaN    M  Unspecified    31.0  Feb  \n",
       "\n",
       "[286 rows x 14 columns]"
      ]
     },
     "execution_count": 43,
     "metadata": {},
     "output_type": "execute_result"
    }
   ],
   "source": [
    "# Creamos un DataFrame con las filas que contienen valores nulos\n",
    "df_nulos = df.iloc[indices]\n",
    "df_nulos"
   ]
  },
  {
   "attachments": {},
   "cell_type": "markdown",
   "metadata": {},
   "source": [
    "---"
   ]
  },
  {
   "attachments": {},
   "cell_type": "markdown",
   "metadata": {},
   "source": [
    "**EJERCICIO 2**\n",
    "\n",
    "Es el momento de eliminar los nulos:"
   ]
  },
  {
   "attachments": {},
   "cell_type": "markdown",
   "metadata": {},
   "source": [
    "- Reemplazad los valores nulos de la columna age por la media de la edad, redondeada a dos decimales.\n"
   ]
  },
  {
   "cell_type": "code",
   "execution_count": 45,
   "metadata": {},
   "outputs": [],
   "source": [
    "# Utilizamos el método .fillna\n",
    "df['edades'].fillna(df['edades'].mean().round(2), inplace=True)"
   ]
  },
  {
   "cell_type": "code",
   "execution_count": 46,
   "metadata": {},
   "outputs": [
    {
     "data": {
      "text/plain": [
       "0"
      ]
     },
     "execution_count": 46,
     "metadata": {},
     "output_type": "execute_result"
    }
   ],
   "source": [
    "df['edades'].isnull().sum() # Comprobamos que no hay mas nulos en la columna 'edades'"
   ]
  },
  {
   "attachments": {},
   "cell_type": "markdown",
   "metadata": {},
   "source": [
    "- En relación a la columna de country al tratarse de una columna de tipo categórica, reemplazad los valores nulos por una nueva categória que se llame Unknown.\n"
   ]
  },
  {
   "cell_type": "code",
   "execution_count": 47,
   "metadata": {},
   "outputs": [],
   "source": [
    "# Utilizamos el método. replace\n",
    "df['country'].replace(np.nan, 'Unknow', inplace=True)"
   ]
  },
  {
   "cell_type": "code",
   "execution_count": 48,
   "metadata": {},
   "outputs": [
    {
     "data": {
      "text/plain": [
       "0"
      ]
     },
     "execution_count": 48,
     "metadata": {},
     "output_type": "execute_result"
    }
   ],
   "source": [
    "df['country'].isnull().sum() # Comprobamos que no hay mas nulos en la columna 'country'"
   ]
  },
  {
   "attachments": {},
   "cell_type": "markdown",
   "metadata": {},
   "source": [
    "- Reemplazad los valores nulos de la columna fatal por Unknown."
   ]
  },
  {
   "cell_type": "code",
   "execution_count": 50,
   "metadata": {},
   "outputs": [],
   "source": [
    "# Utilizamos el método .replace\n",
    "df['fatal'].replace(np.nan, 'Unknow', inplace=True)"
   ]
  },
  {
   "cell_type": "code",
   "execution_count": 51,
   "metadata": {},
   "outputs": [
    {
     "data": {
      "text/plain": [
       "0"
      ]
     },
     "execution_count": 51,
     "metadata": {},
     "output_type": "execute_result"
    }
   ],
   "source": [
    "df['fatal'].isnull().sum() # Comprobamos que no hay mas nulos en la columna 'fatal'"
   ]
  },
  {
   "attachments": {},
   "cell_type": "markdown",
   "metadata": {},
   "source": [
    "- Reemplazad los valores nulos de la columna type por el valor más frecuente (la moda).\n"
   ]
  },
  {
   "cell_type": "code",
   "execution_count": 53,
   "metadata": {},
   "outputs": [],
   "source": [
    "# Utilizamos el método .replace\n",
    "df['type'].replace(np.nan, df.type.mode()[0], inplace=True)"
   ]
  },
  {
   "cell_type": "code",
   "execution_count": 54,
   "metadata": {},
   "outputs": [
    {
     "data": {
      "text/plain": [
       "0"
      ]
     },
     "execution_count": 54,
     "metadata": {},
     "output_type": "execute_result"
    }
   ],
   "source": [
    "df['type'].isnull().sum() # Comprobamos que no hay mas nulos en la columna 'type'"
   ]
  },
  {
   "attachments": {},
   "cell_type": "markdown",
   "metadata": {},
   "source": [
    "- Reemplazad los valores nulos de la columna fecha por Unknown.\n"
   ]
  },
  {
   "cell_type": "code",
   "execution_count": 55,
   "metadata": {},
   "outputs": [],
   "source": [
    "# Utilizamos el método .replace\n",
    "df['mes_ataque'].replace(np.nan, 'Unknow', inplace= True)"
   ]
  },
  {
   "cell_type": "code",
   "execution_count": 56,
   "metadata": {},
   "outputs": [
    {
     "data": {
      "text/plain": [
       "0"
      ]
     },
     "execution_count": 56,
     "metadata": {},
     "output_type": "execute_result"
    }
   ],
   "source": [
    "df['mes_ataque'].isnull().sum() # Comprobamos que no hay mas nulos en la columna 'mes_ataque'"
   ]
  },
  {
   "cell_type": "code",
   "execution_count": 59,
   "metadata": {},
   "outputs": [
    {
     "data": {
      "text/html": [
       "<div>\n",
       "<style scoped>\n",
       "    .dataframe tbody tr th:only-of-type {\n",
       "        vertical-align: middle;\n",
       "    }\n",
       "\n",
       "    .dataframe tbody tr th {\n",
       "        vertical-align: top;\n",
       "    }\n",
       "\n",
       "    .dataframe thead th {\n",
       "        text-align: right;\n",
       "    }\n",
       "</style>\n",
       "<table border=\"1\" class=\"dataframe\">\n",
       "  <thead>\n",
       "    <tr style=\"text-align: right;\">\n",
       "      <th></th>\n",
       "      <th>missing</th>\n",
       "      <th>total</th>\n",
       "      <th>percent</th>\n",
       "    </tr>\n",
       "  </thead>\n",
       "  <tbody>\n",
       "    <tr>\n",
       "      <th>mes</th>\n",
       "      <td>170</td>\n",
       "      <td>1672</td>\n",
       "      <td>10.167464</td>\n",
       "    </tr>\n",
       "    <tr>\n",
       "      <th>age</th>\n",
       "      <td>154</td>\n",
       "      <td>1672</td>\n",
       "      <td>9.210526</td>\n",
       "    </tr>\n",
       "    <tr>\n",
       "      <th>species_</th>\n",
       "      <td>126</td>\n",
       "      <td>1672</td>\n",
       "      <td>7.535885</td>\n",
       "    </tr>\n",
       "    <tr>\n",
       "      <th>cat_species</th>\n",
       "      <td>126</td>\n",
       "      <td>1672</td>\n",
       "      <td>7.535885</td>\n",
       "    </tr>\n",
       "    <tr>\n",
       "      <th>activity</th>\n",
       "      <td>31</td>\n",
       "      <td>1672</td>\n",
       "      <td>1.854067</td>\n",
       "    </tr>\n",
       "    <tr>\n",
       "      <th>sexo</th>\n",
       "      <td>14</td>\n",
       "      <td>1672</td>\n",
       "      <td>0.837321</td>\n",
       "    </tr>\n",
       "    <tr>\n",
       "      <th>case_number</th>\n",
       "      <td>0</td>\n",
       "      <td>1672</td>\n",
       "      <td>0.000000</td>\n",
       "    </tr>\n",
       "    <tr>\n",
       "      <th>year</th>\n",
       "      <td>0</td>\n",
       "      <td>1672</td>\n",
       "      <td>0.000000</td>\n",
       "    </tr>\n",
       "    <tr>\n",
       "      <th>type</th>\n",
       "      <td>0</td>\n",
       "      <td>1672</td>\n",
       "      <td>0.000000</td>\n",
       "    </tr>\n",
       "    <tr>\n",
       "      <th>country</th>\n",
       "      <td>0</td>\n",
       "      <td>1672</td>\n",
       "      <td>0.000000</td>\n",
       "    </tr>\n",
       "    <tr>\n",
       "      <th>date</th>\n",
       "      <td>0</td>\n",
       "      <td>1672</td>\n",
       "      <td>0.000000</td>\n",
       "    </tr>\n",
       "    <tr>\n",
       "      <th>mes_ataque</th>\n",
       "      <td>0</td>\n",
       "      <td>1672</td>\n",
       "      <td>0.000000</td>\n",
       "    </tr>\n",
       "    <tr>\n",
       "      <th>fatal</th>\n",
       "      <td>0</td>\n",
       "      <td>1672</td>\n",
       "      <td>0.000000</td>\n",
       "    </tr>\n",
       "    <tr>\n",
       "      <th>edades</th>\n",
       "      <td>0</td>\n",
       "      <td>1672</td>\n",
       "      <td>0.000000</td>\n",
       "    </tr>\n",
       "  </tbody>\n",
       "</table>\n",
       "</div>"
      ],
      "text/plain": [
       "             missing  total    percent\n",
       "mes              170   1672  10.167464\n",
       "age              154   1672   9.210526\n",
       "species_         126   1672   7.535885\n",
       "cat_species      126   1672   7.535885\n",
       "activity          31   1672   1.854067\n",
       "sexo              14   1672   0.837321\n",
       "case_number        0   1672   0.000000\n",
       "year               0   1672   0.000000\n",
       "type               0   1672   0.000000\n",
       "country            0   1672   0.000000\n",
       "date               0   1672   0.000000\n",
       "mes_ataque         0   1672   0.000000\n",
       "fatal              0   1672   0.000000\n",
       "edades             0   1672   0.000000"
      ]
     },
     "execution_count": 59,
     "metadata": {},
     "output_type": "execute_result"
    }
   ],
   "source": [
    "df.stb.missing() # Comprobamos con el método stb.missing que no hay valores nulos en las cinco columnas modificadas en el ejercicio anterior"
   ]
  },
  {
   "attachments": {},
   "cell_type": "markdown",
   "metadata": {},
   "source": [
    "---"
   ]
  },
  {
   "attachments": {},
   "cell_type": "markdown",
   "metadata": {},
   "source": [
    "**EJERCICIO 3**\n",
    "\n",
    "Guardad el csv para seguir trabajando con el en los siguientes ejercicios de pair.\n"
   ]
  },
  {
   "cell_type": "code",
   "execution_count": 57,
   "metadata": {},
   "outputs": [],
   "source": [
    "df.to_pickle('../files/attacks11.pickle')"
   ]
  }
 ],
 "metadata": {
  "kernelspec": {
   "display_name": "base",
   "language": "python",
   "name": "python3"
  },
  "language_info": {
   "codemirror_mode": {
    "name": "ipython",
    "version": 3
   },
   "file_extension": ".py",
   "mimetype": "text/x-python",
   "name": "python",
   "nbconvert_exporter": "python",
   "pygments_lexer": "ipython3",
   "version": "3.9.7"
  },
  "orig_nbformat": 4,
  "vscode": {
   "interpreter": {
    "hash": "819a5c43c1fad9e35c5b1180124e231b422fc24c453463d400a90e0aae1b9c8c"
   }
  }
 },
 "nbformat": 4,
 "nbformat_minor": 2
}
