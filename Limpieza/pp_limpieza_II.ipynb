{
 "cells": [
  {
   "attachments": {},
   "cell_type": "markdown",
   "metadata": {},
   "source": [
    "## PAIR PROGRAMMING LIMPIEZA II\n",
    "\n",
    "### Strings\n",
    "---"
   ]
  },
  {
   "attachments": {},
   "cell_type": "markdown",
   "metadata": {},
   "source": [
    "**Preguntas:**\n",
    "\n",
    "- ¿Es Australia es el sitio más peligroso y letal para estar relajada en la playa?\n",
    "- ¿Cuál es el rango de edad que sufre la mayoría de los ataques?\n",
    "- Independientemente de la edad, sufren los hombres más ataques que las mujeres?\n",
    "- ¿En qué mes ocurren más ataques?\n",
    "- ¿Cuál es la relación entre la especie y el tipo de ataque (si es fatal o no)?\n",
    "- ¿Cómo han evolucionado los ataques a lo largo del tiempo?\n",
    "\n",
    "\n",
    "¿Está limpia?\n",
    "- age ❌      esta en formato string cuando debería ser integer y en algunos casos tenemos rangos de edad\n",
    "- species ❌  es un jaleo! Debemos unificar los nombres y reducir a las especies más importantes\n",
    "- country ✔️   los paises están en mayúsculas, algunos se repiten con algunos cambios\n",
    "- fatal ✔️     la limpiamos en el pair de Pandas V\n",
    "- year ✔️      es una columna de tipo float deberíamos convertirla a integer\n",
    "- sex ✔️       la limpiamos en el pair de Pandas V\n",
    "- fecha ✔️     la limpiamos en el pair de Pandas V\n",
    "​"
   ]
  },
  {
   "cell_type": "code",
   "execution_count": 2,
   "metadata": {},
   "outputs": [],
   "source": [
    "import pandas as pd\n",
    "import seaborn as sns\n",
    "import numpy as np\n",
    "import matplotlib.pyplot as plt\n",
    "\n",
    "pd.options.display.max_columns = None"
   ]
  },
  {
   "cell_type": "code",
   "execution_count": 3,
   "metadata": {},
   "outputs": [],
   "source": [
    "df= pd.read_pickle(\"../files/attacks8.pickle\")"
   ]
  },
  {
   "cell_type": "code",
   "execution_count": 4,
   "metadata": {},
   "outputs": [
    {
     "data": {
      "text/html": [
       "<div>\n",
       "<style scoped>\n",
       "    .dataframe tbody tr th:only-of-type {\n",
       "        vertical-align: middle;\n",
       "    }\n",
       "\n",
       "    .dataframe tbody tr th {\n",
       "        vertical-align: top;\n",
       "    }\n",
       "\n",
       "    .dataframe thead th {\n",
       "        text-align: right;\n",
       "    }\n",
       "</style>\n",
       "<table border=\"1\" class=\"dataframe\">\n",
       "  <thead>\n",
       "    <tr style=\"text-align: right;\">\n",
       "      <th></th>\n",
       "      <th>case_number</th>\n",
       "      <th>year</th>\n",
       "      <th>type</th>\n",
       "      <th>country</th>\n",
       "      <th>activity</th>\n",
       "      <th>age</th>\n",
       "      <th>species_</th>\n",
       "      <th>date</th>\n",
       "      <th>mes_ataque</th>\n",
       "      <th>fatal</th>\n",
       "      <th>sexo</th>\n",
       "    </tr>\n",
       "  </thead>\n",
       "  <tbody>\n",
       "    <tr>\n",
       "      <th>0</th>\n",
       "      <td>1800.00.00</td>\n",
       "      <td>1970</td>\n",
       "      <td>Unprovoked</td>\n",
       "      <td>seychelles</td>\n",
       "      <td>a corsair's boat was overturned</td>\n",
       "      <td>NaN</td>\n",
       "      <td>NaN</td>\n",
       "      <td>1800</td>\n",
       "      <td>NaN</td>\n",
       "      <td>Y</td>\n",
       "      <td>F</td>\n",
       "    </tr>\n",
       "    <tr>\n",
       "      <th>1</th>\n",
       "      <td>1797.05.28.R</td>\n",
       "      <td>1970</td>\n",
       "      <td>Unprovoked</td>\n",
       "      <td>NaN</td>\n",
       "      <td>Dropped overboard</td>\n",
       "      <td>NaN</td>\n",
       "      <td>NaN</td>\n",
       "      <td>Reported May-28-1797</td>\n",
       "      <td>May</td>\n",
       "      <td>Y</td>\n",
       "      <td>NaN</td>\n",
       "    </tr>\n",
       "  </tbody>\n",
       "</table>\n",
       "</div>"
      ],
      "text/plain": [
       "    case_number  year        type     country  \\\n",
       "0    1800.00.00  1970  Unprovoked  seychelles   \n",
       "1  1797.05.28.R  1970  Unprovoked         NaN   \n",
       "\n",
       "                          activity  age species_                  date  \\\n",
       "0  a corsair's boat was overturned  NaN      NaN                  1800   \n",
       "1                Dropped overboard  NaN      NaN  Reported May-28-1797   \n",
       "\n",
       "  mes_ataque fatal sexo  \n",
       "0        NaN     Y    F  \n",
       "1       May      Y  NaN  "
      ]
     },
     "execution_count": 4,
     "metadata": {},
     "output_type": "execute_result"
    }
   ],
   "source": [
    "df.head(2)"
   ]
  },
  {
   "attachments": {},
   "cell_type": "markdown",
   "metadata": {},
   "source": [
    "**EJERCICIO 1**\n",
    "\n",
    "Columna de species: si exploramos esta columna en detalle nos podemos dar cuenta que tenemos muchos valores únicos y esto hace que sea muy difícil trabajar con esta columna. \n",
    "\n",
    "Lo que vamos a hacer es clasificar los tiburones en 5 especies diferentes, las más comunes, que incluyen el tiburón blanco (White), el tiburón tigre (Tiger ), el tiburón gris (Grey), el tiburón limón (Lemon) y el tiburón toro (Bull). El resto de las especies las incluiremos en un único grupo que podremos llamar \"Unspecified\". \n",
    "\n",
    "Los valores de las columnas son strings por lo que podremos usar regex para buscar palabras clave en cada celda y asignarlo a una de las categorías que hemos definido previamente.\n",
    "\n",
    "Imaginemos que el valor de una celda es el siguiente\n",
    "​\n",
    "'White shark, 3.5 m'\n",
    "​\n",
    "Tendremos que buscar el patrón de regex que nos permita extraer White shark de ese string y que nos devuelva solo White shark. \n",
    "\n",
    "Un patrón que podriamos usar es: \n",
    "​\n",
    "patron_blanco = ```r\".*[Ww](hite|HITE).*\"``` # esto podría ser así porque puede estar en mayúsculas o en minúsculas. \n",
    "​\n",
    "De la misma forma que hemos sacado el patron para el tiburón blanco, tendremos que sacar los patrones para las otras 4 especies que queremos \"encontrar\". \n",
    "\n",
    "Tendremos que crearnos una función que aplicaremos sobre nuestra columna species_ para que nos devuelva una nueva columna con los valores clasificados en función de los patrones de regex que hayamos definido.\n"
   ]
  },
  {
   "cell_type": "code",
   "execution_count": 11,
   "metadata": {},
   "outputs": [],
   "source": [
    "#list(df['species_'].unique())"
   ]
  },
  {
   "cell_type": "code",
   "execution_count": 12,
   "metadata": {},
   "outputs": [],
   "source": [
    "patron_blanco = '.*[Ww](hite|HITE).*'\n",
    "patron_tiger = '.*[Tt](iger|IGER).*'\n",
    "patron_grey= '.*[Gg](rey|REY).*'\n",
    "patron_lemon= '.*[Bb](ull|ULL).*'\n",
    "patron_bull= '.*[Bb](ull|ULL).*'\n",
    "sin_especie = 'Unspecified'\n"
   ]
  },
  {
   "cell_type": "code",
   "execution_count": 24,
   "metadata": {},
   "outputs": [
    {
     "data": {
      "text/plain": [
       "case_number    object\n",
       "year            int64\n",
       "type           object\n",
       "country        object\n",
       "activity       object\n",
       "age            object\n",
       "species_       object\n",
       "date           object\n",
       "mes_ataque     object\n",
       "fatal          object\n",
       "sexo           object\n",
       "dtype: object"
      ]
     },
     "execution_count": 24,
     "metadata": {},
     "output_type": "execute_result"
    }
   ],
   "source": [
    "df.dtypes"
   ]
  },
  {
   "cell_type": "code",
   "execution_count": 28,
   "metadata": {},
   "outputs": [
    {
     "ename": "AttributeError",
     "evalue": "'float' object has no attribute 'dtypes'",
     "output_type": "error",
     "traceback": [
      "\u001b[0;31m---------------------------------------------------------------------------\u001b[0m",
      "\u001b[0;31mAttributeError\u001b[0m                            Traceback (most recent call last)",
      "\u001b[0;32m/var/folders/db/hp0l5_js4yv8br5y2tc3frpm0000gn/T/ipykernel_42848/2440730811.py\u001b[0m in \u001b[0;36m<module>\u001b[0;34m\u001b[0m\n\u001b[1;32m      1\u001b[0m \u001b[0;32mfor\u001b[0m \u001b[0mx\u001b[0m \u001b[0;32min\u001b[0m \u001b[0mdf\u001b[0m\u001b[0;34m[\u001b[0m\u001b[0;34m'species_'\u001b[0m\u001b[0;34m]\u001b[0m\u001b[0;34m:\u001b[0m\u001b[0;34m\u001b[0m\u001b[0;34m\u001b[0m\u001b[0m\n\u001b[0;32m----> 2\u001b[0;31m         \u001b[0mx\u001b[0m\u001b[0;34m.\u001b[0m\u001b[0mdtypes\u001b[0m\u001b[0;34m\u001b[0m\u001b[0;34m\u001b[0m\u001b[0m\n\u001b[0m",
      "\u001b[0;31mAttributeError\u001b[0m: 'float' object has no attribute 'dtypes'"
     ]
    }
   ],
   "source": [
    "for x in df['species_']:\n",
    "        x.dtypes"
   ]
  },
  {
   "cell_type": "code",
   "execution_count": 29,
   "metadata": {},
   "outputs": [],
   "source": [
    "def especies (col):\n",
    "\n",
    "    for x in df[col]:\n",
    "        print(x)\n",
    "        try:\n",
    "            if x.dtypes != 'float':\n",
    "                df['cat_especie'] = df.str.split(patron_blanco,patron_tiger,patron_grey,patron_lemon,patron_bull, expand=False, n=-1)\n",
    "            \n",
    "            #else:\n",
    "                df['cat_especie']='Unspecified'\n",
    "        except:\n",
    "            return np.nan\n",
    "        "
   ]
  },
  {
   "cell_type": "code",
   "execution_count": 30,
   "metadata": {},
   "outputs": [
    {
     "name": "stdout",
     "output_type": "stream",
     "text": [
      "nan\n"
     ]
    },
    {
     "data": {
      "text/plain": [
       "nan"
      ]
     },
     "execution_count": 30,
     "metadata": {},
     "output_type": "execute_result"
    }
   ],
   "source": [
    "especies('species_')"
   ]
  },
  {
   "cell_type": "code",
   "execution_count": 22,
   "metadata": {},
   "outputs": [
    {
     "data": {
      "text/html": [
       "<div>\n",
       "<style scoped>\n",
       "    .dataframe tbody tr th:only-of-type {\n",
       "        vertical-align: middle;\n",
       "    }\n",
       "\n",
       "    .dataframe tbody tr th {\n",
       "        vertical-align: top;\n",
       "    }\n",
       "\n",
       "    .dataframe thead th {\n",
       "        text-align: right;\n",
       "    }\n",
       "</style>\n",
       "<table border=\"1\" class=\"dataframe\">\n",
       "  <thead>\n",
       "    <tr style=\"text-align: right;\">\n",
       "      <th></th>\n",
       "      <th>case_number</th>\n",
       "      <th>year</th>\n",
       "      <th>type</th>\n",
       "      <th>country</th>\n",
       "      <th>activity</th>\n",
       "      <th>age</th>\n",
       "      <th>species_</th>\n",
       "      <th>date</th>\n",
       "      <th>mes_ataque</th>\n",
       "      <th>fatal</th>\n",
       "      <th>sexo</th>\n",
       "    </tr>\n",
       "  </thead>\n",
       "  <tbody>\n",
       "    <tr>\n",
       "      <th>0</th>\n",
       "      <td>1800.00.00</td>\n",
       "      <td>1970</td>\n",
       "      <td>Unprovoked</td>\n",
       "      <td>seychelles</td>\n",
       "      <td>a corsair's boat was overturned</td>\n",
       "      <td>NaN</td>\n",
       "      <td>NaN</td>\n",
       "      <td>1800</td>\n",
       "      <td>NaN</td>\n",
       "      <td>Y</td>\n",
       "      <td>F</td>\n",
       "    </tr>\n",
       "    <tr>\n",
       "      <th>1</th>\n",
       "      <td>1797.05.28.R</td>\n",
       "      <td>1970</td>\n",
       "      <td>Unprovoked</td>\n",
       "      <td>NaN</td>\n",
       "      <td>Dropped overboard</td>\n",
       "      <td>NaN</td>\n",
       "      <td>NaN</td>\n",
       "      <td>Reported May-28-1797</td>\n",
       "      <td>May</td>\n",
       "      <td>Y</td>\n",
       "      <td>NaN</td>\n",
       "    </tr>\n",
       "    <tr>\n",
       "      <th>2</th>\n",
       "      <td>1792.09.12</td>\n",
       "      <td>1970</td>\n",
       "      <td>Provoked</td>\n",
       "      <td>england</td>\n",
       "      <td>Fishing</td>\n",
       "      <td>NaN</td>\n",
       "      <td>NaN</td>\n",
       "      <td>12-Sep-1792</td>\n",
       "      <td>Sep</td>\n",
       "      <td>Y</td>\n",
       "      <td>M</td>\n",
       "    </tr>\n",
       "    <tr>\n",
       "      <th>3</th>\n",
       "      <td>1791.00.00</td>\n",
       "      <td>1970</td>\n",
       "      <td>Unprovoked</td>\n",
       "      <td>australia</td>\n",
       "      <td>NaN</td>\n",
       "      <td>NaN</td>\n",
       "      <td>NaN</td>\n",
       "      <td>1791</td>\n",
       "      <td>NaN</td>\n",
       "      <td>Y</td>\n",
       "      <td>F</td>\n",
       "    </tr>\n",
       "    <tr>\n",
       "      <th>4</th>\n",
       "      <td>1788.05.10</td>\n",
       "      <td>1970</td>\n",
       "      <td>Boat</td>\n",
       "      <td>australia</td>\n",
       "      <td>Fishing</td>\n",
       "      <td>NaN</td>\n",
       "      <td>NaN</td>\n",
       "      <td>10-May-1788</td>\n",
       "      <td>May</td>\n",
       "      <td>N</td>\n",
       "      <td>NaN</td>\n",
       "    </tr>\n",
       "  </tbody>\n",
       "</table>\n",
       "</div>"
      ],
      "text/plain": [
       "    case_number  year        type     country  \\\n",
       "0    1800.00.00  1970  Unprovoked  seychelles   \n",
       "1  1797.05.28.R  1970  Unprovoked         NaN   \n",
       "2    1792.09.12  1970    Provoked     england   \n",
       "3    1791.00.00  1970  Unprovoked   australia   \n",
       "4    1788.05.10  1970        Boat   australia   \n",
       "\n",
       "                          activity  age species_                  date  \\\n",
       "0  a corsair's boat was overturned  NaN      NaN                  1800   \n",
       "1                Dropped overboard  NaN      NaN  Reported May-28-1797   \n",
       "2                          Fishing  NaN      NaN           12-Sep-1792   \n",
       "3                              NaN  NaN      NaN                  1791   \n",
       "4                          Fishing  NaN      NaN           10-May-1788   \n",
       "\n",
       "  mes_ataque fatal sexo  \n",
       "0        NaN     Y    F  \n",
       "1       May      Y  NaN  \n",
       "2       Sep      Y    M  \n",
       "3        NaN     Y    F  \n",
       "4       May      N  NaN  "
      ]
     },
     "execution_count": 22,
     "metadata": {},
     "output_type": "execute_result"
    }
   ],
   "source": [
    "df.head()"
   ]
  },
  {
   "attachments": {},
   "cell_type": "markdown",
   "metadata": {},
   "source": [
    "**EJERCICIO 2**\n",
    "\n",
    "Columna de age: es una columna de tipo string pero debería ser de tipo integer. Además, en esta columna nos vamos a encontrar con algunos errores tipográficos, estos incluyen:\n",
    "\n",
    "- Edad en formato string\n",
    "- Edades separadas por &, or, to, >\n",
    "- Edades con ?\n",
    "\n",
    "\n",
    "Primero tendremos que eliminar todos esos símbolos especiales que nos aparecen. De nuevo, podremos usar regex para extraer unicamente los números que es lo que nos interesa. Usar este regex en una función para sacar solo los números.\n",
    "\n",
    "Puede que os salga un error similar a este:\n",
    "```python \n",
    "TypeError: expected string or bytes-like object\n",
    "```\n",
    "Para solucionar este problema, antes de nada tendréis que ejecutar este código para que no os de error:\n",
    "\n",
    "df['nombre_columna'] = df['nombre_columna'].astype(str)\n",
    "\n",
    "Una vez que hayáis extraido los números, os daréis cuenta que hay celdas que tienen más de una edad. Tendréis que decidir que hacer en esos casos. Os dejamos por aquí una posible opción usando un método de Pandas que os puede resultar super útil. El método .explode, \n",
    "\n",
    "Por último cambiad el tipo de la columna de string a integer.\n"
   ]
  },
  {
   "cell_type": "code",
   "execution_count": null,
   "metadata": {},
   "outputs": [],
   "source": []
  },
  {
   "attachments": {},
   "cell_type": "markdown",
   "metadata": {},
   "source": [
    "**EJERCICIO 3**\n",
    "\n",
    "Guarda el csv con las columnas limpias para seguir trabajando con este dataframe limpio.\n"
   ]
  },
  {
   "cell_type": "code",
   "execution_count": null,
   "metadata": {},
   "outputs": [],
   "source": []
  }
 ],
 "metadata": {
  "kernelspec": {
   "display_name": "base",
   "language": "python",
   "name": "python3"
  },
  "language_info": {
   "codemirror_mode": {
    "name": "ipython",
    "version": 3
   },
   "file_extension": ".py",
   "mimetype": "text/x-python",
   "name": "python",
   "nbconvert_exporter": "python",
   "pygments_lexer": "ipython3",
   "version": "3.9.13"
  },
  "orig_nbformat": 4,
  "vscode": {
   "interpreter": {
    "hash": "a52af493819045717511545598ab2b73dabca4ca61b402315e0ef2b43666342d"
   }
  }
 },
 "nbformat": 4,
 "nbformat_minor": 2
}
