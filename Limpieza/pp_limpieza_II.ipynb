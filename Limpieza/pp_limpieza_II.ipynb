{
 "cells": [
  {
   "attachments": {},
   "cell_type": "markdown",
   "metadata": {},
   "source": [
    "## PAIR PROGRAMMING LIMPIEZA II\n",
    "\n",
    "### Strings\n",
    "---"
   ]
  },
  {
   "attachments": {},
   "cell_type": "markdown",
   "metadata": {},
   "source": [
    "**Preguntas:**\n",
    "\n",
    "- ¿Es Australia es el sitio más peligroso y letal para estar relajada en la playa?\n",
    "- ¿Cuál es el rango de edad que sufre la mayoría de los ataques?\n",
    "- Independientemente de la edad, sufren los hombres más ataques que las mujeres?\n",
    "- ¿En qué mes ocurren más ataques?\n",
    "- ¿Cuál es la relación entre la especie y el tipo de ataque (si es fatal o no)?\n",
    "- ¿Cómo han evolucionado los ataques a lo largo del tiempo?\n",
    "\n",
    "\n",
    "¿Está limpia?\n",
    "- age ❌      esta en formato string cuando debería ser integer y en algunos casos tenemos rangos de edad\n",
    "- species ❌  es un jaleo! Debemos unificar los nombres y reducir a las especies más importantes\n",
    "- country ✔️   los paises están en mayúsculas, algunos se repiten con algunos cambios\n",
    "- fatal ✔️     la limpiamos en el pair de Pandas V\n",
    "- year ✔️      es una columna de tipo float deberíamos convertirla a integer\n",
    "- sex ✔️       la limpiamos en el pair de Pandas V\n",
    "- fecha ✔️     la limpiamos en el pair de Pandas V\n",
    "​"
   ]
  },
  {
   "cell_type": "code",
   "execution_count": 1,
   "metadata": {},
   "outputs": [],
   "source": [
    "import pandas as pd\n",
    "import seaborn as sns\n",
    "import numpy as np\n",
    "import matplotlib.pyplot as plt\n",
    "import re\n",
    "\n",
    "pd.options.display.max_columns = None"
   ]
  },
  {
   "cell_type": "code",
   "execution_count": 2,
   "metadata": {},
   "outputs": [
    {
     "data": {
      "text/html": [
       "<div>\n",
       "<style scoped>\n",
       "    .dataframe tbody tr th:only-of-type {\n",
       "        vertical-align: middle;\n",
       "    }\n",
       "\n",
       "    .dataframe tbody tr th {\n",
       "        vertical-align: top;\n",
       "    }\n",
       "\n",
       "    .dataframe thead th {\n",
       "        text-align: right;\n",
       "    }\n",
       "</style>\n",
       "<table border=\"1\" class=\"dataframe\">\n",
       "  <thead>\n",
       "    <tr style=\"text-align: right;\">\n",
       "      <th></th>\n",
       "      <th>case_number</th>\n",
       "      <th>year</th>\n",
       "      <th>type</th>\n",
       "      <th>country</th>\n",
       "      <th>activity</th>\n",
       "      <th>age</th>\n",
       "      <th>species_</th>\n",
       "      <th>date</th>\n",
       "      <th>mes_ataque</th>\n",
       "      <th>fatal</th>\n",
       "      <th>sexo</th>\n",
       "    </tr>\n",
       "  </thead>\n",
       "  <tbody>\n",
       "    <tr>\n",
       "      <th>0</th>\n",
       "      <td>1800.00.00</td>\n",
       "      <td>1800</td>\n",
       "      <td>Unprovoked</td>\n",
       "      <td>seychelles</td>\n",
       "      <td>a corsair's boat was overturned</td>\n",
       "      <td>NaN</td>\n",
       "      <td>NaN</td>\n",
       "      <td>1800</td>\n",
       "      <td>NaN</td>\n",
       "      <td>Y</td>\n",
       "      <td>F</td>\n",
       "    </tr>\n",
       "    <tr>\n",
       "      <th>1</th>\n",
       "      <td>1797.05.28.R</td>\n",
       "      <td>1797</td>\n",
       "      <td>Unprovoked</td>\n",
       "      <td>NaN</td>\n",
       "      <td>Dropped overboard</td>\n",
       "      <td>NaN</td>\n",
       "      <td>NaN</td>\n",
       "      <td>Reported May-28-1797</td>\n",
       "      <td>May</td>\n",
       "      <td>Y</td>\n",
       "      <td>NaN</td>\n",
       "    </tr>\n",
       "  </tbody>\n",
       "</table>\n",
       "</div>"
      ],
      "text/plain": [
       "    case_number  year        type     country  \\\n",
       "0    1800.00.00  1800  Unprovoked  seychelles   \n",
       "1  1797.05.28.R  1797  Unprovoked         NaN   \n",
       "\n",
       "                          activity  age species_                  date  \\\n",
       "0  a corsair's boat was overturned  NaN      NaN                  1800   \n",
       "1                Dropped overboard  NaN      NaN  Reported May-28-1797   \n",
       "\n",
       "  mes_ataque fatal sexo  \n",
       "0        NaN     Y    F  \n",
       "1       May      Y  NaN  "
      ]
     },
     "execution_count": 2,
     "metadata": {},
     "output_type": "execute_result"
    }
   ],
   "source": [
    "df= pd.read_pickle(\"../files/attacks8.pickle\")\n",
    "df.head(2)"
   ]
  },
  {
   "attachments": {},
   "cell_type": "markdown",
   "metadata": {},
   "source": [
    "**EJERCICIO 1**\n",
    "\n",
    "Columna de species: si exploramos esta columna en detalle nos podemos dar cuenta que tenemos muchos valores únicos y esto hace que sea muy difícil trabajar con esta columna. \n",
    "\n",
    "Lo que vamos a hacer es clasificar los tiburones en 5 especies diferentes, las más comunes, que incluyen el tiburón blanco (White), el tiburón tigre (Tiger ), el tiburón gris (Grey), el tiburón limón (Lemon) y el tiburón toro (Bull). El resto de las especies las incluiremos en un único grupo que podremos llamar \"Unspecified\". \n",
    "\n",
    "Los valores de las columnas son strings por lo que podremos usar regex para buscar palabras clave en cada celda y asignarlo a una de las categorías que hemos definido previamente.\n",
    "\n",
    "Imaginemos que el valor de una celda es el siguiente\n",
    "​\n",
    "'White shark, 3.5 m'\n",
    "​\n",
    "Tendremos que buscar el patrón de regex que nos permita extraer White shark de ese string y que nos devuelva solo White shark. \n",
    "\n",
    "Un patrón que podriamos usar es: \n",
    "​\n",
    "patron_blanco = ```r\".*[Ww](hite|HITE).*\"``` # esto podría ser así porque puede estar en mayúsculas o en minúsculas. \n",
    "​\n",
    "De la misma forma que hemos sacado el patron para el tiburón blanco, tendremos que sacar los patrones para las otras 4 especies que queremos \"encontrar\". \n",
    "\n",
    "Tendremos que crearnos una función que aplicaremos sobre nuestra columna species_ para que nos devuelva una nueva columna con los valores clasificados en función de los patrones de regex que hayamos definido.\n"
   ]
  },
  {
   "cell_type": "code",
   "execution_count": null,
   "metadata": {},
   "outputs": [],
   "source": [
    "list(df['species_'].unique())"
   ]
  },
  {
   "cell_type": "code",
   "execution_count": 5,
   "metadata": {},
   "outputs": [],
   "source": [
    "def especies(x):\n",
    "\n",
    "    ''' Función para categorizar las especies de tiburones.\n",
    "        Parámetros: valores de la columna seleccionada.\n",
    "        Return: 5 tipos de tiburón o Unspecified y mantiene los valores nulos'''\n",
    "\n",
    "    dict = {\"White\": \".*[Ww](hite|HITE).*\", \n",
    "            \"Tiger\":\".*[Tt](iger|IGER).*\", \n",
    "            \"Grey\": \".*[Gg](rey|REY).*\", \n",
    "            \"Lemon\": \".*[Ll](emon|EMON).*\",\n",
    "            \"Bull\": \".*[Bb](ull|ULL).*\",\n",
    "            \"Unspecified\": \".*\"}\n",
    "\n",
    "    try:\n",
    "        for k,v in dict.items(): \n",
    "            if re.findall(v,x):           \n",
    "                return k\n",
    "               \n",
    "    except:\n",
    "        return np.nan"
   ]
  },
  {
   "cell_type": "code",
   "execution_count": 6,
   "metadata": {},
   "outputs": [
    {
     "data": {
      "text/html": [
       "<div>\n",
       "<style scoped>\n",
       "    .dataframe tbody tr th:only-of-type {\n",
       "        vertical-align: middle;\n",
       "    }\n",
       "\n",
       "    .dataframe tbody tr th {\n",
       "        vertical-align: top;\n",
       "    }\n",
       "\n",
       "    .dataframe thead th {\n",
       "        text-align: right;\n",
       "    }\n",
       "</style>\n",
       "<table border=\"1\" class=\"dataframe\">\n",
       "  <thead>\n",
       "    <tr style=\"text-align: right;\">\n",
       "      <th></th>\n",
       "      <th>case_number</th>\n",
       "      <th>year</th>\n",
       "      <th>type</th>\n",
       "      <th>country</th>\n",
       "      <th>activity</th>\n",
       "      <th>age</th>\n",
       "      <th>species_</th>\n",
       "      <th>date</th>\n",
       "      <th>mes_ataque</th>\n",
       "      <th>fatal</th>\n",
       "      <th>sexo</th>\n",
       "      <th>cat_species</th>\n",
       "    </tr>\n",
       "  </thead>\n",
       "  <tbody>\n",
       "    <tr>\n",
       "      <th>0</th>\n",
       "      <td>1800.00.00</td>\n",
       "      <td>1800</td>\n",
       "      <td>Unprovoked</td>\n",
       "      <td>seychelles</td>\n",
       "      <td>a corsair's boat was overturned</td>\n",
       "      <td>NaN</td>\n",
       "      <td>NaN</td>\n",
       "      <td>1800</td>\n",
       "      <td>NaN</td>\n",
       "      <td>Y</td>\n",
       "      <td>F</td>\n",
       "      <td>NaN</td>\n",
       "    </tr>\n",
       "    <tr>\n",
       "      <th>1</th>\n",
       "      <td>1797.05.28.R</td>\n",
       "      <td>1797</td>\n",
       "      <td>Unprovoked</td>\n",
       "      <td>NaN</td>\n",
       "      <td>Dropped overboard</td>\n",
       "      <td>NaN</td>\n",
       "      <td>NaN</td>\n",
       "      <td>Reported May-28-1797</td>\n",
       "      <td>May</td>\n",
       "      <td>Y</td>\n",
       "      <td>NaN</td>\n",
       "      <td>NaN</td>\n",
       "    </tr>\n",
       "  </tbody>\n",
       "</table>\n",
       "</div>"
      ],
      "text/plain": [
       "    case_number  year        type     country  \\\n",
       "0    1800.00.00  1800  Unprovoked  seychelles   \n",
       "1  1797.05.28.R  1797  Unprovoked         NaN   \n",
       "\n",
       "                          activity  age species_                  date  \\\n",
       "0  a corsair's boat was overturned  NaN      NaN                  1800   \n",
       "1                Dropped overboard  NaN      NaN  Reported May-28-1797   \n",
       "\n",
       "  mes_ataque fatal sexo cat_species  \n",
       "0        NaN     Y    F         NaN  \n",
       "1       May      Y  NaN         NaN  "
      ]
     },
     "execution_count": 6,
     "metadata": {},
     "output_type": "execute_result"
    }
   ],
   "source": [
    "# Aplicamos la función a la columna species_ y lo comprobamos \n",
    "df[\"cat_species\"] = df[\"species_\"].apply(especies) \n",
    "df.head(2)"
   ]
  },
  {
   "cell_type": "code",
   "execution_count": 7,
   "metadata": {},
   "outputs": [
    {
     "data": {
      "text/plain": [
       "Unspecified    858\n",
       "White          386\n",
       "Tiger          157\n",
       "Bull           104\n",
       "Grey            30\n",
       "Lemon           11\n",
       "Name: cat_species, dtype: int64"
      ]
     },
     "execution_count": 7,
     "metadata": {},
     "output_type": "execute_result"
    }
   ],
   "source": [
    "# Comprobamos las categorias\n",
    "df['cat_species'].value_counts() "
   ]
  },
  {
   "cell_type": "code",
   "execution_count": 36,
   "metadata": {},
   "outputs": [
    {
     "data": {
      "text/plain": [
       "126"
      ]
     },
     "execution_count": 36,
     "metadata": {},
     "output_type": "execute_result"
    }
   ],
   "source": [
    "# Comprobamos que mantenemos los valores nulos\n",
    "df['cat_species'].isnull().sum()"
   ]
  },
  {
   "attachments": {},
   "cell_type": "markdown",
   "metadata": {},
   "source": [
    "---"
   ]
  },
  {
   "attachments": {},
   "cell_type": "markdown",
   "metadata": {},
   "source": [
    "**EJERCICIO 2**\n",
    "\n",
    "Columna de age: es una columna de tipo string pero debería ser de tipo integer. Además, en esta columna nos vamos a encontrar con algunos errores tipográficos, estos incluyen:\n",
    "\n",
    "- Edad en formato string\n",
    "- Edades separadas por &, or, to, >\n",
    "- Edades con ?\n",
    "\n",
    "\n",
    "Primero tendremos que eliminar todos esos símbolos especiales que nos aparecen. De nuevo, podremos usar regex para extraer unicamente los números que es lo que nos interesa. Usar este regex en una función para sacar solo los números.\n",
    "\n",
    "Puede que os salga un error similar a este:\n",
    "```python \n",
    "TypeError: expected string or bytes-like object\n",
    "```\n",
    "Para solucionar este problema, antes de nada tendréis que ejecutar este código para que no os de error:\n",
    "\n",
    "df['nombre_columna'] = df['nombre_columna'].astype(str)\n",
    "\n",
    "Una vez que hayáis extraido los números, os daréis cuenta que hay celdas que tienen más de una edad. Tendréis que decidir que hacer en esos casos. Os dejamos por aquí una posible opción usando un método de Pandas que os puede resultar super útil. El método .explode, \n",
    "\n",
    "Por último cambiad el tipo de la columna de string a integer.\n"
   ]
  },
  {
   "cell_type": "code",
   "execution_count": 8,
   "metadata": {},
   "outputs": [
    {
     "data": {
      "text/html": [
       "<div>\n",
       "<style scoped>\n",
       "    .dataframe tbody tr th:only-of-type {\n",
       "        vertical-align: middle;\n",
       "    }\n",
       "\n",
       "    .dataframe tbody tr th {\n",
       "        vertical-align: top;\n",
       "    }\n",
       "\n",
       "    .dataframe thead th {\n",
       "        text-align: right;\n",
       "    }\n",
       "</style>\n",
       "<table border=\"1\" class=\"dataframe\">\n",
       "  <thead>\n",
       "    <tr style=\"text-align: right;\">\n",
       "      <th></th>\n",
       "      <th>case_number</th>\n",
       "      <th>year</th>\n",
       "      <th>type</th>\n",
       "      <th>country</th>\n",
       "      <th>activity</th>\n",
       "      <th>age</th>\n",
       "      <th>species_</th>\n",
       "      <th>date</th>\n",
       "      <th>mes_ataque</th>\n",
       "      <th>fatal</th>\n",
       "      <th>sexo</th>\n",
       "      <th>cat_species</th>\n",
       "    </tr>\n",
       "  </thead>\n",
       "  <tbody>\n",
       "    <tr>\n",
       "      <th>0</th>\n",
       "      <td>1800.00.00</td>\n",
       "      <td>1800</td>\n",
       "      <td>Unprovoked</td>\n",
       "      <td>seychelles</td>\n",
       "      <td>a corsair's boat was overturned</td>\n",
       "      <td>NaN</td>\n",
       "      <td>NaN</td>\n",
       "      <td>1800</td>\n",
       "      <td>NaN</td>\n",
       "      <td>Y</td>\n",
       "      <td>F</td>\n",
       "      <td>NaN</td>\n",
       "    </tr>\n",
       "    <tr>\n",
       "      <th>1</th>\n",
       "      <td>1797.05.28.R</td>\n",
       "      <td>1797</td>\n",
       "      <td>Unprovoked</td>\n",
       "      <td>NaN</td>\n",
       "      <td>Dropped overboard</td>\n",
       "      <td>NaN</td>\n",
       "      <td>NaN</td>\n",
       "      <td>Reported May-28-1797</td>\n",
       "      <td>May</td>\n",
       "      <td>Y</td>\n",
       "      <td>NaN</td>\n",
       "      <td>NaN</td>\n",
       "    </tr>\n",
       "  </tbody>\n",
       "</table>\n",
       "</div>"
      ],
      "text/plain": [
       "    case_number  year        type     country  \\\n",
       "0    1800.00.00  1800  Unprovoked  seychelles   \n",
       "1  1797.05.28.R  1797  Unprovoked         NaN   \n",
       "\n",
       "                          activity  age species_                  date  \\\n",
       "0  a corsair's boat was overturned  NaN      NaN                  1800   \n",
       "1                Dropped overboard  NaN      NaN  Reported May-28-1797   \n",
       "\n",
       "  mes_ataque fatal sexo cat_species  \n",
       "0        NaN     Y    F         NaN  \n",
       "1       May      Y  NaN         NaN  "
      ]
     },
     "execution_count": 8,
     "metadata": {},
     "output_type": "execute_result"
    }
   ],
   "source": [
    "df.head(2)"
   ]
  },
  {
   "cell_type": "code",
   "execution_count": 9,
   "metadata": {},
   "outputs": [
    {
     "data": {
      "text/plain": [
       "array([nan, 'young', '14', '19', '20', '15', '21', '27', '36', '25', '6',\n",
       "       '16', '50', '13 or 14', '57', '18', '32', '30', '60', '33', '10',\n",
       "       '69', '55', '35', '54', '22', '31', '40', '37', '11', '13', '34',\n",
       "       '46', '48', '17', '28', '65', '73', '58', '60s', '51', '61', '59',\n",
       "       '42', '23', '29', '39', '24', '12', '26', '71', '43', '9', '44',\n",
       "       '62', '52', '38', '68', '47', '63', '70', '41', '40s', '53', '20s',\n",
       "       '7', '66', '45', '74', '64', '8', '56', '49', '18 or 20', 'Teen',\n",
       "       '30s', '77', '8 or 10', '84', 'Â\\xa0 ', ' ', '30 or 36', '6Â½',\n",
       "       '5', ' 30', ' 28', \"60's\", '67', '>50', '? & 19', '21, 34,24 & 35',\n",
       "       '30 & 32', '13 or 18', '7 or 8', '9 or 10'], dtype=object)"
      ]
     },
     "execution_count": 9,
     "metadata": {},
     "output_type": "execute_result"
    }
   ],
   "source": [
    "df['age'].unique()"
   ]
  },
  {
   "cell_type": "code",
   "execution_count": 11,
   "metadata": {},
   "outputs": [
    {
     "data": {
      "text/html": [
       "<div>\n",
       "<style scoped>\n",
       "    .dataframe tbody tr th:only-of-type {\n",
       "        vertical-align: middle;\n",
       "    }\n",
       "\n",
       "    .dataframe tbody tr th {\n",
       "        vertical-align: top;\n",
       "    }\n",
       "\n",
       "    .dataframe thead th {\n",
       "        text-align: right;\n",
       "    }\n",
       "</style>\n",
       "<table border=\"1\" class=\"dataframe\">\n",
       "  <thead>\n",
       "    <tr style=\"text-align: right;\">\n",
       "      <th></th>\n",
       "      <th>case_number</th>\n",
       "      <th>year</th>\n",
       "      <th>type</th>\n",
       "      <th>country</th>\n",
       "      <th>activity</th>\n",
       "      <th>age</th>\n",
       "      <th>species_</th>\n",
       "      <th>date</th>\n",
       "      <th>mes_ataque</th>\n",
       "      <th>fatal</th>\n",
       "      <th>sexo</th>\n",
       "      <th>cat_species</th>\n",
       "    </tr>\n",
       "  </thead>\n",
       "  <tbody>\n",
       "    <tr>\n",
       "      <th>11</th>\n",
       "      <td>1779.00.00</td>\n",
       "      <td>1779</td>\n",
       "      <td>Unprovoked</td>\n",
       "      <td>usa</td>\n",
       "      <td>Surfing</td>\n",
       "      <td>young</td>\n",
       "      <td>NaN</td>\n",
       "      <td>1779</td>\n",
       "      <td>NaN</td>\n",
       "      <td>Y</td>\n",
       "      <td>M</td>\n",
       "      <td>NaN</td>\n",
       "    </tr>\n",
       "    <tr>\n",
       "      <th>630</th>\n",
       "      <td>2007.09.16.a</td>\n",
       "      <td>2007</td>\n",
       "      <td>Unprovoked</td>\n",
       "      <td>usa</td>\n",
       "      <td>Surfing</td>\n",
       "      <td>Teen</td>\n",
       "      <td>9.5' shark?</td>\n",
       "      <td>16-Sep-2007</td>\n",
       "      <td>Sep</td>\n",
       "      <td>N</td>\n",
       "      <td>F</td>\n",
       "      <td>Unspecified</td>\n",
       "    </tr>\n",
       "    <tr>\n",
       "      <th>854</th>\n",
       "      <td>2002.09.27.b</td>\n",
       "      <td>2002</td>\n",
       "      <td>Provoked</td>\n",
       "      <td>usa</td>\n",
       "      <td>Fishing</td>\n",
       "      <td>Â</td>\n",
       "      <td>1.8 m [6'] blacktip shark</td>\n",
       "      <td>27-Sep-2002</td>\n",
       "      <td>Sep</td>\n",
       "      <td>N</td>\n",
       "      <td>M</td>\n",
       "      <td>Unspecified</td>\n",
       "    </tr>\n",
       "    <tr>\n",
       "      <th>1510</th>\n",
       "      <td>1960.04.14</td>\n",
       "      <td>1960</td>\n",
       "      <td>Invalid</td>\n",
       "      <td>bermuda</td>\n",
       "      <td>Floating on a raft</td>\n",
       "      <td>21, 34,24 &amp; 35</td>\n",
       "      <td>Questionable incident</td>\n",
       "      <td>14-Apr-1960</td>\n",
       "      <td>Apr</td>\n",
       "      <td>NaN</td>\n",
       "      <td>M</td>\n",
       "      <td>Unspecified</td>\n",
       "    </tr>\n",
       "  </tbody>\n",
       "</table>\n",
       "</div>"
      ],
      "text/plain": [
       "       case_number  year        type  country            activity  \\\n",
       "11      1779.00.00  1779  Unprovoked      usa             Surfing   \n",
       "630   2007.09.16.a  2007  Unprovoked      usa             Surfing   \n",
       "854   2002.09.27.b  2002    Provoked      usa             Fishing   \n",
       "1510    1960.04.14  1960     Invalid  bermuda  Floating on a raft   \n",
       "\n",
       "                 age                   species_         date mes_ataque fatal  \\\n",
       "11             young                        NaN         1779        NaN     Y   \n",
       "630             Teen                9.5' shark?  16-Sep-2007       Sep      N   \n",
       "854              Â    1.8 m [6'] blacktip shark  27-Sep-2002       Sep      N   \n",
       "1510  21, 34,24 & 35      Questionable incident  14-Apr-1960       Apr    NaN   \n",
       "\n",
       "     sexo  cat_species  \n",
       "11      M          NaN  \n",
       "630     F  Unspecified  \n",
       "854     M  Unspecified  \n",
       "1510    M  Unspecified  "
      ]
     },
     "execution_count": 11,
     "metadata": {},
     "output_type": "execute_result"
    }
   ],
   "source": [
    "# Creamos un DataFrame con registros que hay en los casos en los que no tenemos una edad exacta o clara para comprobar la cantidad. \n",
    "# Razonando sobre que hacer en esos casos, pensamos que puede afectar si utilizamos el método \n",
    "# explode ya que añadiría más registros o filas influyendo en el análisis general.\n",
    "\n",
    "df2 = df[(df['age'] == 'young') | (df['age'] ==  'Teen') | (df['age'] == 'Â\\xa0 ')| (df['age'] =='21, 34,24 & 35')]\n",
    "df2.head()"
   ]
  },
  {
   "cell_type": "code",
   "execution_count": 13,
   "metadata": {},
   "outputs": [
    {
     "data": {
      "text/plain": [
       "154"
      ]
     },
     "execution_count": 13,
     "metadata": {},
     "output_type": "execute_result"
    }
   ],
   "source": [
    "df.age.isnull().sum() # Comprobamos la cantidad de valores nulos de la columna 'age'"
   ]
  },
  {
   "cell_type": "code",
   "execution_count": 14,
   "metadata": {},
   "outputs": [
    {
     "data": {
      "text/plain": [
       "case_number    object\n",
       "year            int64\n",
       "type           object\n",
       "country        object\n",
       "activity       object\n",
       "age            object\n",
       "species_       object\n",
       "date           object\n",
       "mes_ataque     object\n",
       "fatal          object\n",
       "sexo           object\n",
       "cat_species    object\n",
       "dtype: object"
      ]
     },
     "execution_count": 14,
     "metadata": {},
     "output_type": "execute_result"
    }
   ],
   "source": [
    "df.dtypes # Comprobamos que la columna 'age' es de tipo object-string"
   ]
  },
  {
   "cell_type": "code",
   "execution_count": 15,
   "metadata": {},
   "outputs": [],
   "source": [
    "def edad(x):\n",
    "\n",
    "       '''Función para sacar solo el número de edad de los registros con patrón de regex\n",
    "          Parámetros: valores de la columna seleccionada.\n",
    "          Return: el primer número de edad y los valores NaN'''\n",
    "\n",
    "       patron_edad= '(\\d*)'\n",
    "       try: \n",
    "              return re.findall(patron_edad, x)[0]\n",
    "       except:\n",
    "              return np.nan\n"
   ]
  },
  {
   "cell_type": "code",
   "execution_count": 16,
   "metadata": {},
   "outputs": [
    {
     "data": {
      "text/html": [
       "<div>\n",
       "<style scoped>\n",
       "    .dataframe tbody tr th:only-of-type {\n",
       "        vertical-align: middle;\n",
       "    }\n",
       "\n",
       "    .dataframe tbody tr th {\n",
       "        vertical-align: top;\n",
       "    }\n",
       "\n",
       "    .dataframe thead th {\n",
       "        text-align: right;\n",
       "    }\n",
       "</style>\n",
       "<table border=\"1\" class=\"dataframe\">\n",
       "  <thead>\n",
       "    <tr style=\"text-align: right;\">\n",
       "      <th></th>\n",
       "      <th>case_number</th>\n",
       "      <th>year</th>\n",
       "      <th>type</th>\n",
       "      <th>country</th>\n",
       "      <th>activity</th>\n",
       "      <th>age</th>\n",
       "      <th>species_</th>\n",
       "      <th>date</th>\n",
       "      <th>mes_ataque</th>\n",
       "      <th>fatal</th>\n",
       "      <th>sexo</th>\n",
       "      <th>cat_species</th>\n",
       "      <th>edades</th>\n",
       "    </tr>\n",
       "  </thead>\n",
       "  <tbody>\n",
       "    <tr>\n",
       "      <th>1085</th>\n",
       "      <td>1993.10.10</td>\n",
       "      <td>1993</td>\n",
       "      <td>Boating</td>\n",
       "      <td>usa</td>\n",
       "      <td>Kayaking</td>\n",
       "      <td>34</td>\n",
       "      <td>&gt;6 m [20'] white shark</td>\n",
       "      <td>10-Oct-1993</td>\n",
       "      <td>Oct</td>\n",
       "      <td>N</td>\n",
       "      <td>F</td>\n",
       "      <td>White</td>\n",
       "      <td>34</td>\n",
       "    </tr>\n",
       "    <tr>\n",
       "      <th>325</th>\n",
       "      <td>2014.12.15</td>\n",
       "      <td>2014</td>\n",
       "      <td>Unprovoked</td>\n",
       "      <td>australia</td>\n",
       "      <td>Spearfishing</td>\n",
       "      <td>17</td>\n",
       "      <td>Tiger shark</td>\n",
       "      <td>15-Dec-2014</td>\n",
       "      <td>Dec</td>\n",
       "      <td>Y</td>\n",
       "      <td>M</td>\n",
       "      <td>Tiger</td>\n",
       "      <td>17</td>\n",
       "    </tr>\n",
       "  </tbody>\n",
       "</table>\n",
       "</div>"
      ],
      "text/plain": [
       "     case_number  year        type    country      activity age  \\\n",
       "1085  1993.10.10  1993     Boating        usa      Kayaking  34   \n",
       "325   2014.12.15  2014  Unprovoked  australia  Spearfishing  17   \n",
       "\n",
       "                    species_         date mes_ataque fatal sexo cat_species  \\\n",
       "1085  >6 m [20'] white shark  10-Oct-1993       Oct      N    F       White   \n",
       "325              Tiger shark  15-Dec-2014       Dec      Y    M       Tiger   \n",
       "\n",
       "     edades  \n",
       "1085     34  \n",
       "325      17  "
      ]
     },
     "execution_count": 16,
     "metadata": {},
     "output_type": "execute_result"
    }
   ],
   "source": [
    "# Aplicamos la función a la columna 'age' creando una nueva, 'edades', con las nuevas categorías y lo comprobamos\n",
    "df['edades'] = df['age'].apply(edad)\n",
    "df.sample(2)"
   ]
  },
  {
   "cell_type": "code",
   "execution_count": 45,
   "metadata": {},
   "outputs": [
    {
     "data": {
      "text/plain": [
       "array([nan, '', '14', '19', '20', '15', '21', '27', '36', '25', '6', '16',\n",
       "       '50', '13', '57', '18', '32', '30', '60', '33', '10', '69', '55',\n",
       "       '35', '54', '22', '31', '40', '37', '11', '34', '46', '48', '17',\n",
       "       '28', '65', '73', '58', '51', '61', '59', '42', '23', '29', '39',\n",
       "       '24', '12', '26', '71', '43', '9', '44', '62', '52', '38', '68',\n",
       "       '47', '63', '70', '41', '53', '7', '66', '45', '74', '64', '8',\n",
       "       '56', '49', '77', '84', '5', '67'], dtype=object)"
      ]
     },
     "execution_count": 45,
     "metadata": {},
     "output_type": "execute_result"
    }
   ],
   "source": [
    "df['edades'].unique() # Comprobamos los valores resultantes"
   ]
  },
  {
   "cell_type": "code",
   "execution_count": 46,
   "metadata": {},
   "outputs": [
    {
     "data": {
      "text/plain": [
       "154"
      ]
     },
     "execution_count": 46,
     "metadata": {},
     "output_type": "execute_result"
    }
   ],
   "source": [
    "df.edades.isnull().sum() # Mantiene los mismos valores nulos"
   ]
  },
  {
   "cell_type": "code",
   "execution_count": 49,
   "metadata": {},
   "outputs": [],
   "source": [
    "# Cambiamos el tipo de dato(object) de la columna 'edades' con el método pd.to_numeric()\n",
    "df['edades'] = pd.to_numeric(df['edades'])"
   ]
  },
  {
   "cell_type": "code",
   "execution_count": 50,
   "metadata": {},
   "outputs": [
    {
     "data": {
      "text/plain": [
       "dtype('float64')"
      ]
     },
     "execution_count": 50,
     "metadata": {},
     "output_type": "execute_result"
    }
   ],
   "source": [
    "df.edades.dtypes #Comprobamos que el tipo de dato al que nos ha convertido la columna edades es de tipo float64, suponemos que es por los valores nulos"
   ]
  },
  {
   "attachments": {},
   "cell_type": "markdown",
   "metadata": {},
   "source": [
    "---"
   ]
  },
  {
   "attachments": {},
   "cell_type": "markdown",
   "metadata": {},
   "source": [
    "**EJERCICIO 3**\n",
    "\n",
    "Guarda el csv con las columnas limpias para seguir trabajando con este dataframe limpio.\n"
   ]
  },
  {
   "cell_type": "code",
   "execution_count": 51,
   "metadata": {},
   "outputs": [],
   "source": [
    "df.to_pickle('../files/attacks9.pickle')"
   ]
  }
 ],
 "metadata": {
  "kernelspec": {
   "display_name": "base",
   "language": "python",
   "name": "python3"
  },
  "language_info": {
   "codemirror_mode": {
    "name": "ipython",
    "version": 3
   },
   "file_extension": ".py",
   "mimetype": "text/x-python",
   "name": "python",
   "nbconvert_exporter": "python",
   "pygments_lexer": "ipython3",
   "version": "3.9.7 (default, Sep 16 2021, 13:09:58) \n[GCC 7.5.0]"
  },
  "orig_nbformat": 4,
  "vscode": {
   "interpreter": {
    "hash": "819a5c43c1fad9e35c5b1180124e231b422fc24c453463d400a90e0aae1b9c8c"
   }
  }
 },
 "nbformat": 4,
 "nbformat_minor": 2
}
