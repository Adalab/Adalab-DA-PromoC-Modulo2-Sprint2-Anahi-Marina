{
 "cells": [
  {
   "attachments": {},
   "cell_type": "markdown",
   "metadata": {},
   "source": [
    "## PAIR PROGRAMMING LIMPIEZA II\n",
    "\n",
    "### Strings\n",
    "---"
   ]
  },
  {
   "attachments": {},
   "cell_type": "markdown",
   "metadata": {},
   "source": [
    "**Preguntas:**\n",
    "\n",
    "- ¿Es Australia es el sitio más peligroso y letal para estar relajada en la playa?\n",
    "- ¿Cuál es el rango de edad que sufre la mayoría de los ataques?\n",
    "- Independientemente de la edad, sufren los hombres más ataques que las mujeres?\n",
    "- ¿En qué mes ocurren más ataques?\n",
    "- ¿Cuál es la relación entre la especie y el tipo de ataque (si es fatal o no)?\n",
    "- ¿Cómo han evolucionado los ataques a lo largo del tiempo?\n",
    "\n",
    "\n",
    "¿Está limpia?\n",
    "- age ❌      esta en formato string cuando debería ser integer y en algunos casos tenemos rangos de edad\n",
    "- species ❌  es un jaleo! Debemos unificar los nombres y reducir a las especies más importantes\n",
    "- country ✔️   los paises están en mayúsculas, algunos se repiten con algunos cambios\n",
    "- fatal ✔️     la limpiamos en el pair de Pandas V\n",
    "- year ✔️      es una columna de tipo float deberíamos convertirla a integer\n",
    "- sex ✔️       la limpiamos en el pair de Pandas V\n",
    "- fecha ✔️     la limpiamos en el pair de Pandas V\n",
    "​"
   ]
  },
  {
   "attachments": {},
   "cell_type": "markdown",
   "metadata": {},
   "source": [
    "**EJERCICIO 1**\n",
    "\n",
    "Columna de species: si exploramos esta columna en detalle nos podemos dar cuenta que tenemos muchos valores únicos y esto hace que sea muy difícil trabajar con esta columna. \n",
    "\n",
    "Lo que vamos a hacer es clasificar los tiburones en 5 especies diferentes, las más comunes, que incluyen el tiburón blanco (White), el tiburón tigre (Tiger ), el tiburón gris (Grey), el tiburón limón (Lemon) y el tiburón toro (Bull). El resto de las especies las incluiremos en un único grupo que podremos llamar \"Unspecified\". \n",
    "\n",
    "Los valores de las columnas son strings por lo que podremos usar regex para buscar palabras clave en cada celda y asignarlo a una de las categorías que hemos definido previamente.\n",
    "\n",
    "Imaginemos que el valor de una celda es el siguiente\n",
    "​\n",
    "'White shark, 3.5 m'\n",
    "​\n",
    "Tendremos que buscar el patrón de regex que nos permita extraer White shark de ese string y que nos devuelva solo White shark. \n",
    "\n",
    "Un patrón que podriamos usar es: \n",
    "​\n",
    "patron_blanco = r\".*[Ww](hite|HITE).*\" # esto podría ser así porque puede estar en mayúsculas o en minúsculas. \n",
    "​\n",
    "De la misma forma que hemos sacado el patron para el tiburón blanco, tendremos que sacar los patrones para las otras 4 especies que queremos \"encontrar\". \n",
    "\n",
    "Tendremos que crearnos una función que aplicaremos sobre nuestra columna species_ para que nos devuelva una nueva columna con los valores clasificados en función de los patrones de regex que hayamos definido.\n"
   ]
  },
  {
   "cell_type": "code",
   "execution_count": null,
   "metadata": {},
   "outputs": [],
   "source": []
  },
  {
   "attachments": {},
   "cell_type": "markdown",
   "metadata": {},
   "source": [
    "**EJERCICIO 2**\n",
    "\n",
    "Columna de age: es una columna de tipo string pero debería ser de tipo integer. Además, en esta columna nos vamos a encontrar con algunos errores tipográficos, estos incluyen:\n",
    "\n",
    "- Edad en formato string\n",
    "- Edades separadas por &, or, to, >\n",
    "- Edades con ?\n",
    "\n",
    "\n",
    "Primero tendremos que eliminar todos esos símbolos especiales que nos aparecen. De nuevo, podremos usar regex para extraer unicamente los números que es lo que nos interesa. Usar este regex en una función para sacar solo los números.\n",
    "\n",
    "Puede que os salga un error similar a este:\n",
    "```python \n",
    "TypeError: expected string or bytes-like object\n",
    "```\n",
    "Para solucionar este problema, antes de nada tendréis que ejecutar este código para que no os de error:\n",
    "\n",
    "df['nombre_columna'] = df['nombre_columna'].astype(str)\n",
    "\n",
    "Una vez que hayáis extraido los números, os daréis cuenta que hay celdas que tienen más de una edad. Tendréis que decidir que hacer en esos casos. Os dejamos por aquí una posible opción usando un método de Pandas que os puede resultar super útil. El método .explode, \n",
    "\n",
    "Por último cambiad el tipo de la columna de string a integer.\n"
   ]
  },
  {
   "cell_type": "code",
   "execution_count": null,
   "metadata": {},
   "outputs": [],
   "source": []
  },
  {
   "attachments": {},
   "cell_type": "markdown",
   "metadata": {},
   "source": [
    "**EJERCICIO 3**\n",
    "\n",
    "Guarda el csv con las columnas limpias para seguir trabajando con este dataframe limpio.\n"
   ]
  },
  {
   "cell_type": "code",
   "execution_count": null,
   "metadata": {},
   "outputs": [],
   "source": []
  }
 ],
 "metadata": {
  "kernelspec": {
   "display_name": "base",
   "language": "python",
   "name": "python3"
  },
  "language_info": {
   "name": "python",
   "version": "3.9.13 (main, Aug 25 2022, 18:29:29) \n[Clang 12.0.0 ]"
  },
  "orig_nbformat": 4,
  "vscode": {
   "interpreter": {
    "hash": "a52af493819045717511545598ab2b73dabca4ca61b402315e0ef2b43666342d"
   }
  }
 },
 "nbformat": 4,
 "nbformat_minor": 2
}
