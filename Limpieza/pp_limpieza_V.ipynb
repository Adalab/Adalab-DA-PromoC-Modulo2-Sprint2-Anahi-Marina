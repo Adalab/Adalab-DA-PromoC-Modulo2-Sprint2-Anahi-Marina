{
 "cells": [
  {
   "attachments": {},
   "cell_type": "markdown",
   "metadata": {},
   "source": [
    "## PAIR PROGRAMMING LIMPIEZA V\n",
    "\n",
    "### Valores Nulos Sklearn\n",
    "---"
   ]
  },
  {
   "cell_type": "code",
   "execution_count": 176,
   "metadata": {},
   "outputs": [],
   "source": [
    "import pandas as pd\n",
    "import numpy as np\n",
    "import seaborn as sns\n",
    "import matplotlib.pyplot as plt\n",
    "from sklearn.impute import SimpleImputer\n",
    "from sklearn.experimental import enable_iterative_imputer\n",
    "from sklearn.impute import IterativeImputer\n",
    "from sklearn.impute import KNNImputer"
   ]
  },
  {
   "attachments": {},
   "cell_type": "markdown",
   "metadata": {},
   "source": [
    "En este caso trabajaremos con el dataframe que limpiamos en el ejercicio de pair de **Limpieza III** donde limpiabamos las columnas de species, age, etc. y eliminabamos los outliers. Hoy volveremos a gestionar valores nulos, pero en este caso usaremos los métodos de imputación de sklearn."
   ]
  },
  {
   "attachments": {},
   "cell_type": "markdown",
   "metadata": {},
   "source": [
    "Antes de seguir, recordamos las preguntas que nos planteamos al principio del pair programming de EDA para dirigir nuestro análisis.\n",
    "\n",
    "- ¿Es Australia es el sitio más peligroso y letal para estar relajada en la playa?\n",
    "- ¿Cuál es el rango de edad que sufre la mayoría de los ataques?\n",
    "- Independientemente de la edad, sufren los hombres más ataques que las mujeres?\n",
    "- ¿En qué mes ocurren más ataques?\n",
    "- ¿Cuál es la relación entre la especie y el tipo de ataque (si es fatal o no)?\n",
    "- ¿Cómo han evolucionado los ataques a lo largo del tiempo?"
   ]
  },
  {
   "attachments": {},
   "cell_type": "markdown",
   "metadata": {},
   "source": [
    "Actualizamos esta tabla ya que en el ejercicio de pair de Limpieza I y II ya dejamos algunas columnas limpitas:\n",
    "\n",
    "\n",
    "- age ✔️ la limpiamos en el pair de Limpieza II\n",
    "- species ✔️ la limpiamos en el pair de Limpieza II\n",
    "- country ✔️ la limpiamos en el pair de Limpieza II\n",
    "- fatal ✔️ la limpiamos en el pair de Pandas V\n",
    "- year ✔️ es una columna de tipo float deberíamos convertirla a integer\n",
    "- sex ✔️ la limpiamos en el pair de Pandas V\n",
    "- fecha ✔️ la limpiamos en el pair de Pandas V"
   ]
  },
  {
   "attachments": {},
   "cell_type": "markdown",
   "metadata": {},
   "source": [
    "Es el momento de ponernos a trabajar con los valores nulos de nuevo 💪🏽. A lo largo de este ejercicio de pair programming vamos a intentar eliminar los valores nulos de nuestras columnas. En la lección hemos aprendido varios métodos de skelarn intentemos aplicarlos todos. Manos a la obra!"
   ]
  },
  {
   "cell_type": "code",
   "execution_count": 177,
   "metadata": {},
   "outputs": [
    {
     "data": {
      "text/html": [
       "<div>\n",
       "<style scoped>\n",
       "    .dataframe tbody tr th:only-of-type {\n",
       "        vertical-align: middle;\n",
       "    }\n",
       "\n",
       "    .dataframe tbody tr th {\n",
       "        vertical-align: top;\n",
       "    }\n",
       "\n",
       "    .dataframe thead th {\n",
       "        text-align: right;\n",
       "    }\n",
       "</style>\n",
       "<table border=\"1\" class=\"dataframe\">\n",
       "  <thead>\n",
       "    <tr style=\"text-align: right;\">\n",
       "      <th></th>\n",
       "      <th>case_number</th>\n",
       "      <th>year</th>\n",
       "      <th>mes</th>\n",
       "      <th>sexo</th>\n",
       "      <th>edades</th>\n",
       "      <th>country</th>\n",
       "      <th>type</th>\n",
       "      <th>activity</th>\n",
       "      <th>fatal</th>\n",
       "      <th>cat_species</th>\n",
       "    </tr>\n",
       "  </thead>\n",
       "  <tbody>\n",
       "    <tr>\n",
       "      <th>0</th>\n",
       "      <td>1800.00.00</td>\n",
       "      <td>1997</td>\n",
       "      <td>NaN</td>\n",
       "      <td>F</td>\n",
       "      <td>NaN</td>\n",
       "      <td>seychelles</td>\n",
       "      <td>Unprovoked</td>\n",
       "      <td>a corsair's boat was overturned</td>\n",
       "      <td>Y</td>\n",
       "      <td>NaN</td>\n",
       "    </tr>\n",
       "    <tr>\n",
       "      <th>1</th>\n",
       "      <td>1797.05.28.R</td>\n",
       "      <td>1997</td>\n",
       "      <td>May</td>\n",
       "      <td>NaN</td>\n",
       "      <td>NaN</td>\n",
       "      <td>NaN</td>\n",
       "      <td>Unprovoked</td>\n",
       "      <td>Dropped overboard</td>\n",
       "      <td>Y</td>\n",
       "      <td>NaN</td>\n",
       "    </tr>\n",
       "    <tr>\n",
       "      <th>2</th>\n",
       "      <td>1792.09.12</td>\n",
       "      <td>1997</td>\n",
       "      <td>Sep</td>\n",
       "      <td>M</td>\n",
       "      <td>NaN</td>\n",
       "      <td>england</td>\n",
       "      <td>Provoked</td>\n",
       "      <td>Fishing</td>\n",
       "      <td>Y</td>\n",
       "      <td>NaN</td>\n",
       "    </tr>\n",
       "    <tr>\n",
       "      <th>3</th>\n",
       "      <td>1791.00.00</td>\n",
       "      <td>1997</td>\n",
       "      <td>NaN</td>\n",
       "      <td>F</td>\n",
       "      <td>NaN</td>\n",
       "      <td>australia</td>\n",
       "      <td>Unprovoked</td>\n",
       "      <td>NaN</td>\n",
       "      <td>Y</td>\n",
       "      <td>NaN</td>\n",
       "    </tr>\n",
       "    <tr>\n",
       "      <th>4</th>\n",
       "      <td>1788.05.10</td>\n",
       "      <td>1997</td>\n",
       "      <td>May</td>\n",
       "      <td>NaN</td>\n",
       "      <td>NaN</td>\n",
       "      <td>australia</td>\n",
       "      <td>Boat</td>\n",
       "      <td>Fishing</td>\n",
       "      <td>N</td>\n",
       "      <td>NaN</td>\n",
       "    </tr>\n",
       "  </tbody>\n",
       "</table>\n",
       "</div>"
      ],
      "text/plain": [
       "    case_number  year  mes sexo  edades     country        type  \\\n",
       "0    1800.00.00  1997  NaN    F     NaN  seychelles  Unprovoked   \n",
       "1  1797.05.28.R  1997  May  NaN     NaN         NaN  Unprovoked   \n",
       "2    1792.09.12  1997  Sep    M     NaN     england    Provoked   \n",
       "3    1791.00.00  1997  NaN    F     NaN   australia  Unprovoked   \n",
       "4    1788.05.10  1997  May  NaN     NaN   australia        Boat   \n",
       "\n",
       "                          activity fatal cat_species  \n",
       "0  a corsair's boat was overturned     Y         NaN  \n",
       "1                Dropped overboard     Y         NaN  \n",
       "2                          Fishing     Y         NaN  \n",
       "3                              NaN     Y         NaN  \n",
       "4                          Fishing     N         NaN  "
      ]
     },
     "execution_count": 177,
     "metadata": {},
     "output_type": "execute_result"
    }
   ],
   "source": [
    "df = pd.read_pickle(\"../files/attacks10.pkl\")\n",
    "df.head()"
   ]
  },
  {
   "attachments": {},
   "cell_type": "markdown",
   "metadata": {},
   "source": [
    "**EJERCICIO 1**\n",
    "\n",
    "Es el momento de eliminar los nulos:"
   ]
  },
  {
   "attachments": {},
   "cell_type": "markdown",
   "metadata": {},
   "source": [
    "- Reemplazad los valores nulos de la columna age por la media de la edad usando el método SimpleImputer."
   ]
  },
  {
   "cell_type": "code",
   "execution_count": 178,
   "metadata": {},
   "outputs": [
    {
     "data": {
      "text/plain": [
       "162"
      ]
     },
     "execution_count": 178,
     "metadata": {},
     "output_type": "execute_result"
    }
   ],
   "source": [
    "# Comprobamos el número de valores nulos de la columna 'edades'\n",
    "df['edades'].isnull().sum() "
   ]
  },
  {
   "cell_type": "code",
   "execution_count": 179,
   "metadata": {},
   "outputs": [],
   "source": [
    "# Almacenamos en una variable todos los parámetros a aplicar por el método, en este caso cambiar los valores nulos por la media\n",
    "imputer= SimpleImputer(strategy=\"mean\",missing_values=np.nan) "
   ]
  },
  {
   "cell_type": "code",
   "execution_count": 180,
   "metadata": {},
   "outputs": [],
   "source": [
    "# Sobreescribimos y aplicamos el método .fit sobre la columna 'edades'\n",
    "imputer= imputer.fit(df[['edades']]) "
   ]
  },
  {
   "cell_type": "code",
   "execution_count": 181,
   "metadata": {},
   "outputs": [],
   "source": [
    "# Sobreescribimos sobre la columna los cambios que aplicamos con el método .transform\n",
    "df['edades'] = imputer.transform(df[['edades']]) "
   ]
  },
  {
   "cell_type": "code",
   "execution_count": 182,
   "metadata": {},
   "outputs": [
    {
     "data": {
      "text/plain": [
       "0"
      ]
     },
     "execution_count": 182,
     "metadata": {},
     "output_type": "execute_result"
    }
   ],
   "source": [
    "# Comprobamos que no hay valores nulos\n",
    "df['edades'].isnull().sum() "
   ]
  },
  {
   "attachments": {},
   "cell_type": "markdown",
   "metadata": {},
   "source": [
    "---"
   ]
  },
  {
   "attachments": {},
   "cell_type": "markdown",
   "metadata": {},
   "source": [
    "- Reemplazad los valores nulos de la columna sex por la moda, usando el método SimpleImputer.\n",
    "    💡 Pista 💡 La moda en este tipo de aproximación se indica como most_frequent."
   ]
  },
  {
   "cell_type": "code",
   "execution_count": 183,
   "metadata": {},
   "outputs": [
    {
     "data": {
      "text/plain": [
       "14"
      ]
     },
     "execution_count": 183,
     "metadata": {},
     "output_type": "execute_result"
    }
   ],
   "source": [
    "# Comprobamos el número de valores nulos de la columna 'sexo'\n",
    "df['sexo'].isnull().sum() "
   ]
  },
  {
   "cell_type": "code",
   "execution_count": 184,
   "metadata": {},
   "outputs": [],
   "source": [
    "# Almacenamos en una variable todos los parámetros que queremos aplicar, en este caso cambiar los valores nulos por la moda\n",
    "imputer= SimpleImputer(strategy=\"most_frequent\",missing_values=np.nan)"
   ]
  },
  {
   "cell_type": "code",
   "execution_count": 185,
   "metadata": {},
   "outputs": [],
   "source": [
    "# Sobreescribimos y aplicamos el método .fit sobre la columna 'sexo'\n",
    "imputer= imputer.fit(df[['sexo']])"
   ]
  },
  {
   "cell_type": "code",
   "execution_count": 186,
   "metadata": {},
   "outputs": [],
   "source": [
    "# Sobreescribimos sobre la columna los cambios que aplicamos con el método .transform\n",
    "df['sexo'] = imputer.transform(df[['sexo']])"
   ]
  },
  {
   "cell_type": "code",
   "execution_count": 187,
   "metadata": {},
   "outputs": [
    {
     "data": {
      "text/plain": [
       "0"
      ]
     },
     "execution_count": 187,
     "metadata": {},
     "output_type": "execute_result"
    }
   ],
   "source": [
    "# Comprobamos que no hay valores nulos\n",
    "df['sexo'].isnull().sum()"
   ]
  },
  {
   "attachments": {},
   "cell_type": "markdown",
   "metadata": {},
   "source": [
    "---"
   ]
  },
  {
   "attachments": {},
   "cell_type": "markdown",
   "metadata": {},
   "source": [
    "- Reemplazad los valores nulos de la columna type por el valor más frecuente (la moda) con el método SimpleImputer."
   ]
  },
  {
   "cell_type": "code",
   "execution_count": 188,
   "metadata": {},
   "outputs": [
    {
     "data": {
      "text/plain": [
       "0"
      ]
     },
     "execution_count": 188,
     "metadata": {},
     "output_type": "execute_result"
    }
   ],
   "source": [
    "df['type'].isnull().sum() # Comprobamos los valores nulos de la columna 'type' y vemos que no hay ninguno"
   ]
  },
  {
   "attachments": {},
   "cell_type": "markdown",
   "metadata": {},
   "source": [
    "---"
   ]
  },
  {
   "attachments": {},
   "cell_type": "markdown",
   "metadata": {},
   "source": [
    "- Utilizad el método KNN Imputer para reemplazar todos los valores nulos de las columnas numéricas."
   ]
  },
  {
   "cell_type": "code",
   "execution_count": 189,
   "metadata": {},
   "outputs": [
    {
     "data": {
      "text/html": [
       "<div>\n",
       "<style scoped>\n",
       "    .dataframe tbody tr th:only-of-type {\n",
       "        vertical-align: middle;\n",
       "    }\n",
       "\n",
       "    .dataframe tbody tr th {\n",
       "        vertical-align: top;\n",
       "    }\n",
       "\n",
       "    .dataframe thead th {\n",
       "        text-align: right;\n",
       "    }\n",
       "</style>\n",
       "<table border=\"1\" class=\"dataframe\">\n",
       "  <thead>\n",
       "    <tr style=\"text-align: right;\">\n",
       "      <th></th>\n",
       "      <th>year</th>\n",
       "      <th>edades</th>\n",
       "    </tr>\n",
       "  </thead>\n",
       "  <tbody>\n",
       "    <tr>\n",
       "      <th>0</th>\n",
       "      <td>1997</td>\n",
       "      <td>27.878808</td>\n",
       "    </tr>\n",
       "    <tr>\n",
       "      <th>1</th>\n",
       "      <td>1997</td>\n",
       "      <td>27.878808</td>\n",
       "    </tr>\n",
       "    <tr>\n",
       "      <th>2</th>\n",
       "      <td>1997</td>\n",
       "      <td>27.878808</td>\n",
       "    </tr>\n",
       "    <tr>\n",
       "      <th>3</th>\n",
       "      <td>1997</td>\n",
       "      <td>27.878808</td>\n",
       "    </tr>\n",
       "    <tr>\n",
       "      <th>4</th>\n",
       "      <td>1997</td>\n",
       "      <td>27.878808</td>\n",
       "    </tr>\n",
       "  </tbody>\n",
       "</table>\n",
       "</div>"
      ],
      "text/plain": [
       "   year     edades\n",
       "0  1997  27.878808\n",
       "1  1997  27.878808\n",
       "2  1997  27.878808\n",
       "3  1997  27.878808\n",
       "4  1997  27.878808"
      ]
     },
     "execution_count": 189,
     "metadata": {},
     "output_type": "execute_result"
    }
   ],
   "source": [
    "# Guardamos en la variable numericas la selección de las columnas numéricas del DataFrame(DF) con el método .selec_dtypes\n",
    "numericas= df.select_dtypes(include=np.number)\n",
    "numericas.head()"
   ]
  },
  {
   "cell_type": "code",
   "execution_count": 190,
   "metadata": {},
   "outputs": [
    {
     "data": {
      "text/plain": [
       "KNNImputer()"
      ]
     },
     "execution_count": 190,
     "metadata": {},
     "output_type": "execute_result"
    }
   ],
   "source": [
    "# Al imputar el método KNN le damos 5 vecinos de comparación y aplicamos el método .fit a las columnas arriba seleccionadas\n",
    "imputerKNN = KNNImputer(n_neighbors=5)\n",
    "imputerKNN.fit(numericas)"
   ]
  },
  {
   "cell_type": "code",
   "execution_count": 191,
   "metadata": {},
   "outputs": [],
   "source": [
    "# Aplicamos el siguiente paso con el método .transfrom\n",
    "numericas_knn= imputerKNN.transform(numericas)"
   ]
  },
  {
   "cell_type": "code",
   "execution_count": 192,
   "metadata": {},
   "outputs": [],
   "source": [
    "# Creamos un DF con las columnas numéricas actualizadas\n",
    "df_knn_imputer = pd.DataFrame(numericas_knn, columns = numericas.columns)\n"
   ]
  },
  {
   "cell_type": "code",
   "execution_count": 193,
   "metadata": {},
   "outputs": [],
   "source": [
    "# Sacamos el nombre de las columnas del DF sin nulos\n",
    "columnas_knn = df_knn_imputer.columns"
   ]
  },
  {
   "cell_type": "code",
   "execution_count": 194,
   "metadata": {},
   "outputs": [],
   "source": [
    "# Eliminamos esas columnas del DF\n",
    "df.drop(columnas_knn, axis = 1, inplace = True)"
   ]
  },
  {
   "cell_type": "code",
   "execution_count": 195,
   "metadata": {},
   "outputs": [],
   "source": [
    "# Creamos nuevas columnas en el DF original con en el DF creado con las numericas_trans\n",
    "df[columnas_knn] = numericas_knn"
   ]
  },
  {
   "cell_type": "code",
   "execution_count": 196,
   "metadata": {},
   "outputs": [
    {
     "data": {
      "text/plain": [
       "case_number      0\n",
       "mes            170\n",
       "sexo             0\n",
       "country         10\n",
       "type             0\n",
       "activity        31\n",
       "fatal           97\n",
       "cat_species    126\n",
       "year             0\n",
       "edades           0\n",
       "dtype: int64"
      ]
     },
     "execution_count": 196,
     "metadata": {},
     "output_type": "execute_result"
    }
   ],
   "source": [
    "# Comprobamos que no hay valores nulos en las nuevas columnas\n",
    "df.isnull().sum()"
   ]
  },
  {
   "attachments": {},
   "cell_type": "markdown",
   "metadata": {},
   "source": [
    "---"
   ]
  },
  {
   "attachments": {},
   "cell_type": "markdown",
   "metadata": {},
   "source": [
    "- Utilizad el método Iterative Imputer para reemplazar todos los valores nulos de las columnas numéricas."
   ]
  },
  {
   "cell_type": "code",
   "execution_count": 197,
   "metadata": {},
   "outputs": [
    {
     "data": {
      "text/html": [
       "<div>\n",
       "<style scoped>\n",
       "    .dataframe tbody tr th:only-of-type {\n",
       "        vertical-align: middle;\n",
       "    }\n",
       "\n",
       "    .dataframe tbody tr th {\n",
       "        vertical-align: top;\n",
       "    }\n",
       "\n",
       "    .dataframe thead th {\n",
       "        text-align: right;\n",
       "    }\n",
       "</style>\n",
       "<table border=\"1\" class=\"dataframe\">\n",
       "  <thead>\n",
       "    <tr style=\"text-align: right;\">\n",
       "      <th></th>\n",
       "      <th>case_number</th>\n",
       "      <th>year</th>\n",
       "      <th>mes</th>\n",
       "      <th>sexo</th>\n",
       "      <th>edades</th>\n",
       "      <th>country</th>\n",
       "      <th>type</th>\n",
       "      <th>activity</th>\n",
       "      <th>fatal</th>\n",
       "      <th>cat_species</th>\n",
       "    </tr>\n",
       "  </thead>\n",
       "  <tbody>\n",
       "    <tr>\n",
       "      <th>0</th>\n",
       "      <td>1800.00.00</td>\n",
       "      <td>1997</td>\n",
       "      <td>NaN</td>\n",
       "      <td>F</td>\n",
       "      <td>NaN</td>\n",
       "      <td>seychelles</td>\n",
       "      <td>Unprovoked</td>\n",
       "      <td>a corsair's boat was overturned</td>\n",
       "      <td>Y</td>\n",
       "      <td>NaN</td>\n",
       "    </tr>\n",
       "    <tr>\n",
       "      <th>1</th>\n",
       "      <td>1797.05.28.R</td>\n",
       "      <td>1997</td>\n",
       "      <td>May</td>\n",
       "      <td>NaN</td>\n",
       "      <td>NaN</td>\n",
       "      <td>NaN</td>\n",
       "      <td>Unprovoked</td>\n",
       "      <td>Dropped overboard</td>\n",
       "      <td>Y</td>\n",
       "      <td>NaN</td>\n",
       "    </tr>\n",
       "    <tr>\n",
       "      <th>2</th>\n",
       "      <td>1792.09.12</td>\n",
       "      <td>1997</td>\n",
       "      <td>Sep</td>\n",
       "      <td>M</td>\n",
       "      <td>NaN</td>\n",
       "      <td>england</td>\n",
       "      <td>Provoked</td>\n",
       "      <td>Fishing</td>\n",
       "      <td>Y</td>\n",
       "      <td>NaN</td>\n",
       "    </tr>\n",
       "    <tr>\n",
       "      <th>3</th>\n",
       "      <td>1791.00.00</td>\n",
       "      <td>1997</td>\n",
       "      <td>NaN</td>\n",
       "      <td>F</td>\n",
       "      <td>NaN</td>\n",
       "      <td>australia</td>\n",
       "      <td>Unprovoked</td>\n",
       "      <td>NaN</td>\n",
       "      <td>Y</td>\n",
       "      <td>NaN</td>\n",
       "    </tr>\n",
       "    <tr>\n",
       "      <th>4</th>\n",
       "      <td>1788.05.10</td>\n",
       "      <td>1997</td>\n",
       "      <td>May</td>\n",
       "      <td>NaN</td>\n",
       "      <td>NaN</td>\n",
       "      <td>australia</td>\n",
       "      <td>Boat</td>\n",
       "      <td>Fishing</td>\n",
       "      <td>N</td>\n",
       "      <td>NaN</td>\n",
       "    </tr>\n",
       "  </tbody>\n",
       "</table>\n",
       "</div>"
      ],
      "text/plain": [
       "    case_number  year  mes sexo  edades     country        type  \\\n",
       "0    1800.00.00  1997  NaN    F     NaN  seychelles  Unprovoked   \n",
       "1  1797.05.28.R  1997  May  NaN     NaN         NaN  Unprovoked   \n",
       "2    1792.09.12  1997  Sep    M     NaN     england    Provoked   \n",
       "3    1791.00.00  1997  NaN    F     NaN   australia  Unprovoked   \n",
       "4    1788.05.10  1997  May  NaN     NaN   australia        Boat   \n",
       "\n",
       "                          activity fatal cat_species  \n",
       "0  a corsair's boat was overturned     Y         NaN  \n",
       "1                Dropped overboard     Y         NaN  \n",
       "2                          Fishing     Y         NaN  \n",
       "3                              NaN     Y         NaN  \n",
       "4                          Fishing     N         NaN  "
      ]
     },
     "execution_count": 197,
     "metadata": {},
     "output_type": "execute_result"
    }
   ],
   "source": [
    "# Abrimos de nuevo archivo inicial y lo guardamos en otro DataFrame para volver a reemplazar los valores nulos\n",
    "df_2 = pd.read_pickle(\"../files/attacks10.pkl\")\n",
    "df_2.head()"
   ]
  },
  {
   "cell_type": "code",
   "execution_count": 198,
   "metadata": {},
   "outputs": [
    {
     "data": {
      "text/html": [
       "<div>\n",
       "<style scoped>\n",
       "    .dataframe tbody tr th:only-of-type {\n",
       "        vertical-align: middle;\n",
       "    }\n",
       "\n",
       "    .dataframe tbody tr th {\n",
       "        vertical-align: top;\n",
       "    }\n",
       "\n",
       "    .dataframe thead th {\n",
       "        text-align: right;\n",
       "    }\n",
       "</style>\n",
       "<table border=\"1\" class=\"dataframe\">\n",
       "  <thead>\n",
       "    <tr style=\"text-align: right;\">\n",
       "      <th></th>\n",
       "      <th>year</th>\n",
       "      <th>edades</th>\n",
       "    </tr>\n",
       "  </thead>\n",
       "  <tbody>\n",
       "    <tr>\n",
       "      <th>0</th>\n",
       "      <td>1997</td>\n",
       "      <td>NaN</td>\n",
       "    </tr>\n",
       "    <tr>\n",
       "      <th>1</th>\n",
       "      <td>1997</td>\n",
       "      <td>NaN</td>\n",
       "    </tr>\n",
       "    <tr>\n",
       "      <th>2</th>\n",
       "      <td>1997</td>\n",
       "      <td>NaN</td>\n",
       "    </tr>\n",
       "    <tr>\n",
       "      <th>3</th>\n",
       "      <td>1997</td>\n",
       "      <td>NaN</td>\n",
       "    </tr>\n",
       "    <tr>\n",
       "      <th>4</th>\n",
       "      <td>1997</td>\n",
       "      <td>NaN</td>\n",
       "    </tr>\n",
       "  </tbody>\n",
       "</table>\n",
       "</div>"
      ],
      "text/plain": [
       "   year  edades\n",
       "0  1997     NaN\n",
       "1  1997     NaN\n",
       "2  1997     NaN\n",
       "3  1997     NaN\n",
       "4  1997     NaN"
      ]
     },
     "execution_count": 198,
     "metadata": {},
     "output_type": "execute_result"
    }
   ],
   "source": [
    "# Guardamos en la variable numericas2 la selección de las columnas numéricas del DataFrame(DF) con el método .selec_dtypes\n",
    "numericas2= df_2.select_dtypes(include=np.number)\n",
    "numericas2.head()"
   ]
  },
  {
   "cell_type": "code",
   "execution_count": 199,
   "metadata": {},
   "outputs": [
    {
     "data": {
      "text/plain": [
       "year        0\n",
       "edades    162\n",
       "dtype: int64"
      ]
     },
     "execution_count": 199,
     "metadata": {},
     "output_type": "execute_result"
    }
   ],
   "source": [
    "# Comprobamos los valores nulos de las columnas numéricas\n",
    "numericas2.isnull().sum()"
   ]
  },
  {
   "cell_type": "code",
   "execution_count": 200,
   "metadata": {},
   "outputs": [],
   "source": [
    "# Almacenamos en una variable todos los parámetros que queremos aplicar, en este caso cambiar los valores nulos por la media, redondeando a 3 decimales,\n",
    "# iterando 20 veces de manera ascendente.\n",
    "imputer2 = IterativeImputer(max_iter=20, n_nearest_features=None, imputation_order='ascending', initial_strategy= 'median', tol=3)"
   ]
  },
  {
   "cell_type": "code",
   "execution_count": 201,
   "metadata": {},
   "outputs": [
    {
     "data": {
      "text/plain": [
       "IterativeImputer(initial_strategy='median', max_iter=20, tol=3)"
      ]
     },
     "execution_count": 201,
     "metadata": {},
     "output_type": "execute_result"
    }
   ],
   "source": [
    "# Lo aplicamos con el método .fit\n",
    "imputer2.fit(numericas2)"
   ]
  },
  {
   "cell_type": "code",
   "execution_count": 202,
   "metadata": {},
   "outputs": [],
   "source": [
    "# Tranformamos los datos con el método .transform y convertimos el resultado el un DF\n",
    "numericas_trans2 = pd.DataFrame(imputer2.transform(numericas2), columns = numericas2.columns)"
   ]
  },
  {
   "cell_type": "code",
   "execution_count": 203,
   "metadata": {},
   "outputs": [],
   "source": [
    "# Sacamos el nombre de las columnas del DF sin nulos\n",
    "columnas2 = numericas_trans2.columns"
   ]
  },
  {
   "cell_type": "code",
   "execution_count": 204,
   "metadata": {},
   "outputs": [],
   "source": [
    "# Eliminamos esas columnas del DF\n",
    "df_2.drop(columnas2, axis = 1, inplace = True)"
   ]
  },
  {
   "cell_type": "code",
   "execution_count": 205,
   "metadata": {},
   "outputs": [],
   "source": [
    "# Creamos nuevas columnas en el DF original con en el DF creado con las numericas_trans2\n",
    "df_2[columnas2] = numericas_trans2[columnas2]"
   ]
  },
  {
   "cell_type": "code",
   "execution_count": 206,
   "metadata": {},
   "outputs": [
    {
     "data": {
      "text/plain": [
       "case_number      0\n",
       "mes            170\n",
       "sexo            14\n",
       "country         10\n",
       "type             0\n",
       "activity        31\n",
       "fatal           97\n",
       "cat_species    126\n",
       "year             0\n",
       "edades           0\n",
       "dtype: int64"
      ]
     },
     "execution_count": 206,
     "metadata": {},
     "output_type": "execute_result"
    }
   ],
   "source": [
    "# Comprobamos que no hay valores nulos en las nuevas columnas\n",
    "df_2.isnull().sum()"
   ]
  },
  {
   "cell_type": "code",
   "execution_count": 207,
   "metadata": {},
   "outputs": [
    {
     "data": {
      "text/html": [
       "<div>\n",
       "<style scoped>\n",
       "    .dataframe tbody tr th:only-of-type {\n",
       "        vertical-align: middle;\n",
       "    }\n",
       "\n",
       "    .dataframe tbody tr th {\n",
       "        vertical-align: top;\n",
       "    }\n",
       "\n",
       "    .dataframe thead th {\n",
       "        text-align: right;\n",
       "    }\n",
       "</style>\n",
       "<table border=\"1\" class=\"dataframe\">\n",
       "  <thead>\n",
       "    <tr style=\"text-align: right;\">\n",
       "      <th></th>\n",
       "      <th>case_number</th>\n",
       "      <th>mes</th>\n",
       "      <th>sexo</th>\n",
       "      <th>country</th>\n",
       "      <th>type</th>\n",
       "      <th>activity</th>\n",
       "      <th>fatal</th>\n",
       "      <th>cat_species</th>\n",
       "      <th>year</th>\n",
       "      <th>edades</th>\n",
       "    </tr>\n",
       "  </thead>\n",
       "  <tbody>\n",
       "    <tr>\n",
       "      <th>0</th>\n",
       "      <td>1800.00.00</td>\n",
       "      <td>NaN</td>\n",
       "      <td>F</td>\n",
       "      <td>seychelles</td>\n",
       "      <td>Unprovoked</td>\n",
       "      <td>a corsair's boat was overturned</td>\n",
       "      <td>Y</td>\n",
       "      <td>NaN</td>\n",
       "      <td>1997.0</td>\n",
       "      <td>28.421549</td>\n",
       "    </tr>\n",
       "    <tr>\n",
       "      <th>1</th>\n",
       "      <td>1797.05.28.R</td>\n",
       "      <td>May</td>\n",
       "      <td>NaN</td>\n",
       "      <td>NaN</td>\n",
       "      <td>Unprovoked</td>\n",
       "      <td>Dropped overboard</td>\n",
       "      <td>Y</td>\n",
       "      <td>NaN</td>\n",
       "      <td>1997.0</td>\n",
       "      <td>28.421549</td>\n",
       "    </tr>\n",
       "    <tr>\n",
       "      <th>2</th>\n",
       "      <td>1792.09.12</td>\n",
       "      <td>Sep</td>\n",
       "      <td>M</td>\n",
       "      <td>england</td>\n",
       "      <td>Provoked</td>\n",
       "      <td>Fishing</td>\n",
       "      <td>Y</td>\n",
       "      <td>NaN</td>\n",
       "      <td>1997.0</td>\n",
       "      <td>28.421549</td>\n",
       "    </tr>\n",
       "    <tr>\n",
       "      <th>3</th>\n",
       "      <td>1791.00.00</td>\n",
       "      <td>NaN</td>\n",
       "      <td>F</td>\n",
       "      <td>australia</td>\n",
       "      <td>Unprovoked</td>\n",
       "      <td>NaN</td>\n",
       "      <td>Y</td>\n",
       "      <td>NaN</td>\n",
       "      <td>1997.0</td>\n",
       "      <td>28.421549</td>\n",
       "    </tr>\n",
       "    <tr>\n",
       "      <th>4</th>\n",
       "      <td>1788.05.10</td>\n",
       "      <td>May</td>\n",
       "      <td>NaN</td>\n",
       "      <td>australia</td>\n",
       "      <td>Boat</td>\n",
       "      <td>Fishing</td>\n",
       "      <td>N</td>\n",
       "      <td>NaN</td>\n",
       "      <td>1997.0</td>\n",
       "      <td>28.421549</td>\n",
       "    </tr>\n",
       "  </tbody>\n",
       "</table>\n",
       "</div>"
      ],
      "text/plain": [
       "    case_number  mes sexo     country        type  \\\n",
       "0    1800.00.00  NaN    F  seychelles  Unprovoked   \n",
       "1  1797.05.28.R  May  NaN         NaN  Unprovoked   \n",
       "2    1792.09.12  Sep    M     england    Provoked   \n",
       "3    1791.00.00  NaN    F   australia  Unprovoked   \n",
       "4    1788.05.10  May  NaN   australia        Boat   \n",
       "\n",
       "                          activity fatal cat_species    year     edades  \n",
       "0  a corsair's boat was overturned     Y         NaN  1997.0  28.421549  \n",
       "1                Dropped overboard     Y         NaN  1997.0  28.421549  \n",
       "2                          Fishing     Y         NaN  1997.0  28.421549  \n",
       "3                              NaN     Y         NaN  1997.0  28.421549  \n",
       "4                          Fishing     N         NaN  1997.0  28.421549  "
      ]
     },
     "execution_count": 207,
     "metadata": {},
     "output_type": "execute_result"
    }
   ],
   "source": [
    "# Comprobamos los cambios finales en el DF \n",
    "df_2.head() "
   ]
  },
  {
   "attachments": {},
   "cell_type": "markdown",
   "metadata": {},
   "source": [
    "---"
   ]
  },
  {
   "attachments": {},
   "cell_type": "markdown",
   "metadata": {},
   "source": [
    "- ¿Podríais explicar qué diferencia hay entre estos dos últimos métodos?"
   ]
  },
  {
   "attachments": {},
   "cell_type": "markdown",
   "metadata": {},
   "source": [
    "    - Con el método de KNN Imputer no podemos asignarle parámetros para controlar el orden de comparación con las columnas, ni redondear decimales, ni especificar con que estadístico queremos reemplazar, cosa que con el método Iterative Imputer si podemos hacer.    \n",
    "    - Nos da la impresión que según la cantidad de columnas numéricas(por ejemplo, si hay pocas) que el método KNN funciona con más precisión que el II."
   ]
  },
  {
   "attachments": {},
   "cell_type": "markdown",
   "metadata": {},
   "source": [
    "---"
   ]
  },
  {
   "cell_type": "code",
   "execution_count": 208,
   "metadata": {},
   "outputs": [],
   "source": [
    "nuevo_orden= ['case_number', 'year', 'mes','sexo','edades','country','type', 'activity','fatal','cat_species']"
   ]
  },
  {
   "cell_type": "code",
   "execution_count": 209,
   "metadata": {},
   "outputs": [],
   "source": [
    "df2=df.reindex(columns = nuevo_orden) #Reordenamos las columnas."
   ]
  },
  {
   "cell_type": "code",
   "execution_count": 210,
   "metadata": {},
   "outputs": [
    {
     "data": {
      "text/html": [
       "<div>\n",
       "<style scoped>\n",
       "    .dataframe tbody tr th:only-of-type {\n",
       "        vertical-align: middle;\n",
       "    }\n",
       "\n",
       "    .dataframe tbody tr th {\n",
       "        vertical-align: top;\n",
       "    }\n",
       "\n",
       "    .dataframe thead th {\n",
       "        text-align: right;\n",
       "    }\n",
       "</style>\n",
       "<table border=\"1\" class=\"dataframe\">\n",
       "  <thead>\n",
       "    <tr style=\"text-align: right;\">\n",
       "      <th></th>\n",
       "      <th>case_number</th>\n",
       "      <th>year</th>\n",
       "      <th>mes</th>\n",
       "      <th>sexo</th>\n",
       "      <th>edades</th>\n",
       "      <th>country</th>\n",
       "      <th>type</th>\n",
       "      <th>activity</th>\n",
       "      <th>fatal</th>\n",
       "      <th>cat_species</th>\n",
       "    </tr>\n",
       "  </thead>\n",
       "  <tbody>\n",
       "    <tr>\n",
       "      <th>0</th>\n",
       "      <td>1800.00.00</td>\n",
       "      <td>1997.0</td>\n",
       "      <td>NaN</td>\n",
       "      <td>F</td>\n",
       "      <td>27.878808</td>\n",
       "      <td>seychelles</td>\n",
       "      <td>Unprovoked</td>\n",
       "      <td>a corsair's boat was overturned</td>\n",
       "      <td>Y</td>\n",
       "      <td>NaN</td>\n",
       "    </tr>\n",
       "    <tr>\n",
       "      <th>1</th>\n",
       "      <td>1797.05.28.R</td>\n",
       "      <td>1997.0</td>\n",
       "      <td>May</td>\n",
       "      <td>M</td>\n",
       "      <td>27.878808</td>\n",
       "      <td>NaN</td>\n",
       "      <td>Unprovoked</td>\n",
       "      <td>Dropped overboard</td>\n",
       "      <td>Y</td>\n",
       "      <td>NaN</td>\n",
       "    </tr>\n",
       "    <tr>\n",
       "      <th>2</th>\n",
       "      <td>1792.09.12</td>\n",
       "      <td>1997.0</td>\n",
       "      <td>Sep</td>\n",
       "      <td>M</td>\n",
       "      <td>27.878808</td>\n",
       "      <td>england</td>\n",
       "      <td>Provoked</td>\n",
       "      <td>Fishing</td>\n",
       "      <td>Y</td>\n",
       "      <td>NaN</td>\n",
       "    </tr>\n",
       "    <tr>\n",
       "      <th>3</th>\n",
       "      <td>1791.00.00</td>\n",
       "      <td>1997.0</td>\n",
       "      <td>NaN</td>\n",
       "      <td>F</td>\n",
       "      <td>27.878808</td>\n",
       "      <td>australia</td>\n",
       "      <td>Unprovoked</td>\n",
       "      <td>NaN</td>\n",
       "      <td>Y</td>\n",
       "      <td>NaN</td>\n",
       "    </tr>\n",
       "    <tr>\n",
       "      <th>4</th>\n",
       "      <td>1788.05.10</td>\n",
       "      <td>1997.0</td>\n",
       "      <td>May</td>\n",
       "      <td>M</td>\n",
       "      <td>27.878808</td>\n",
       "      <td>australia</td>\n",
       "      <td>Boat</td>\n",
       "      <td>Fishing</td>\n",
       "      <td>N</td>\n",
       "      <td>NaN</td>\n",
       "    </tr>\n",
       "  </tbody>\n",
       "</table>\n",
       "</div>"
      ],
      "text/plain": [
       "    case_number    year  mes sexo     edades     country        type  \\\n",
       "0    1800.00.00  1997.0  NaN    F  27.878808  seychelles  Unprovoked   \n",
       "1  1797.05.28.R  1997.0  May    M  27.878808         NaN  Unprovoked   \n",
       "2    1792.09.12  1997.0  Sep    M  27.878808     england    Provoked   \n",
       "3    1791.00.00  1997.0  NaN    F  27.878808   australia  Unprovoked   \n",
       "4    1788.05.10  1997.0  May    M  27.878808   australia        Boat   \n",
       "\n",
       "                          activity fatal cat_species  \n",
       "0  a corsair's boat was overturned     Y         NaN  \n",
       "1                Dropped overboard     Y         NaN  \n",
       "2                          Fishing     Y         NaN  \n",
       "3                              NaN     Y         NaN  \n",
       "4                          Fishing     N         NaN  "
      ]
     },
     "execution_count": 210,
     "metadata": {},
     "output_type": "execute_result"
    }
   ],
   "source": [
    "df2.head()"
   ]
  },
  {
   "attachments": {},
   "cell_type": "markdown",
   "metadata": {},
   "source": [
    "EJERCICIO 2\n",
    "\n",
    "Guardad el csv para seguir trabajando con el en los siguientes ejercicios de pair"
   ]
  },
  {
   "cell_type": "code",
   "execution_count": 211,
   "metadata": {},
   "outputs": [],
   "source": [
    "df2.to_pickle('../files/attacks12_remplazo_nulos.pkl')"
   ]
  }
 ],
 "metadata": {
  "kernelspec": {
   "display_name": "base",
   "language": "python",
   "name": "python3"
  },
  "language_info": {
   "codemirror_mode": {
    "name": "ipython",
    "version": 3
   },
   "file_extension": ".py",
   "mimetype": "text/x-python",
   "name": "python",
   "nbconvert_exporter": "python",
   "pygments_lexer": "ipython3",
   "version": "3.9.13"
  },
  "orig_nbformat": 4,
  "vscode": {
   "interpreter": {
    "hash": "a52af493819045717511545598ab2b73dabca4ca61b402315e0ef2b43666342d"
   }
  }
 },
 "nbformat": 4,
 "nbformat_minor": 2
}
